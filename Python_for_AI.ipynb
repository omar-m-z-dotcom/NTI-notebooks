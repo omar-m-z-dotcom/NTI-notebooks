{
  "cells": [
    {
      "cell_type": "markdown",
      "metadata": {
        "id": "KXby8FB4QKIz"
      },
      "source": [
        "\n",
        "\n",
        "1.   download python.\n",
        "2.   Add python3 to the path in the installation.\n",
        "3.   check version\n",
        "4.   open IDLE\n",
        "\n",
        "\n",
        "\n",
        "\n"
      ]
    },
    {
      "cell_type": "markdown",
      "metadata": {
        "id": "Rf_xk9sUWduD"
      },
      "source": [
        "# Python Basics\n",
        "\n",
        "- The instructions in the code are executed in the same order\n",
        "*   There cannot be more than one instruction in a line\n",
        "*   A line can be empty (i.e., it may contain no instruction at all) but it must not contain two, three or more instructions. This is strictly prohibited.\n"
      ]
    },
    {
      "cell_type": "code",
      "execution_count": null,
      "metadata": {
        "colab": {
          "base_uri": "https://localhost:8080/"
        },
        "id": "oBG8Z9v-Nfcv",
        "outputId": "d210f420-40f9-4f73-89ae-77f3a3ad286f"
      },
      "outputs": [
        {
          "output_type": "stream",
          "name": "stdout",
          "text": [
            "Python 3.10.12\n"
          ]
        }
      ],
      "source": [
        "!python --version"
      ]
    },
    {
      "cell_type": "markdown",
      "metadata": {
        "id": "AgwIAeLQR5Fh"
      },
      "source": [
        "## Print ()\n",
        "\n",
        "Where do the functions come from?\n",
        "<br>\n",
        "\n",
        "\n",
        "1.   Python itself (built-in function)\n",
        "2.   modules\n",
        "3.   write them yourself\n",
        "\n",
        "## What arguments does print() expect? <br>\n",
        "Any. We'll show you soon that print() is able to operate with virtually all types of data offered by Python. Strings, numbers, characters, logical values, objects - any of these may be successfully passed to print()."
      ]
    },
    {
      "cell_type": "code",
      "execution_count": null,
      "metadata": {
        "colab": {
          "base_uri": "https://localhost:8080/"
        },
        "id": "dVgFkUc_UDBT",
        "outputId": "1bfbe858-6b70-438d-cc14-d0a02585ea51"
      },
      "outputs": [
        {
          "name": "stdout",
          "output_type": "stream",
          "text": [
            "\n"
          ]
        }
      ],
      "source": [
        "print()"
      ]
    },
    {
      "cell_type": "code",
      "execution_count": null,
      "metadata": {
        "colab": {
          "base_uri": "https://localhost:8080/"
        },
        "id": "O4UnfjaINhrH",
        "outputId": "29491551-93d8-4de7-f3f1-0e1510d3cae1"
      },
      "outputs": [
        {
          "name": "stdout",
          "output_type": "stream",
          "text": [
            "Hello, World!\n"
          ]
        }
      ],
      "source": [
        "print(\"Hello, World!\")"
      ]
    },
    {
      "cell_type": "code",
      "execution_count": null,
      "metadata": {
        "colab": {
          "base_uri": "https://localhost:8080/",
          "height": 166
        },
        "id": "XHFmQAw6R64B",
        "outputId": "85fefa20-8fac-4e5b-c5e5-c4ef998a77ad"
      },
      "outputs": [
        {
          "ename": "NameError",
          "evalue": "ignored",
          "output_type": "error",
          "traceback": [
            "\u001b[0;31m---------------------------------------------------------------------------\u001b[0m",
            "\u001b[0;31mNameError\u001b[0m                                 Traceback (most recent call last)",
            "\u001b[0;32m<ipython-input-7-85bf5114fa6b>\u001b[0m in \u001b[0;36m<module>\u001b[0;34m\u001b[0m\n\u001b[0;32m----> 1\u001b[0;31m \u001b[0mprint\u001b[0m\u001b[0;34m(\u001b[0m\u001b[0mHello\u001b[0m\u001b[0;34m)\u001b[0m\u001b[0;34m\u001b[0m\u001b[0;34m\u001b[0m\u001b[0m\n\u001b[0m",
            "\u001b[0;31mNameError\u001b[0m: name 'Hello' is not defined"
          ]
        }
      ],
      "source": [
        "#print(Hello)"
      ]
    },
    {
      "cell_type": "code",
      "execution_count": null,
      "metadata": {
        "colab": {
          "base_uri": "https://localhost:8080/",
          "height": 131
        },
        "id": "t53yv1X-TnZ9",
        "outputId": "5d27a18f-76f6-49e3-a593-a7c5865b3637"
      },
      "outputs": [
        {
          "ename": "SyntaxError",
          "evalue": "ignored",
          "output_type": "error",
          "traceback": [
            "\u001b[0;36m  File \u001b[0;32m\"<ipython-input-8-0eb003ed9968>\"\u001b[0;36m, line \u001b[0;32m1\u001b[0m\n\u001b[0;31m    print(Hello, World!)\u001b[0m\n\u001b[0m                      ^\u001b[0m\n\u001b[0;31mSyntaxError\u001b[0m\u001b[0;31m:\u001b[0m invalid syntax\n"
          ]
        }
      ],
      "source": [
        "#print(Hello, World!)"
      ]
    },
    {
      "cell_type": "markdown",
      "metadata": {
        "id": "btb9UIsaW8ns"
      },
      "source": [
        "## newline in print()"
      ]
    },
    {
      "cell_type": "code",
      "execution_count": null,
      "metadata": {
        "colab": {
          "base_uri": "https://localhost:8080/"
        },
        "id": "0lZA6N9ETv17",
        "outputId": "f94e13cf-3f49-4b30-c3e0-c50b7ea3ba3e"
      },
      "outputs": [
        {
          "output_type": "stream",
          "name": "stdout",
          "text": [
            "HI\n",
            "\n",
            "Mohamed\n"
          ]
        }
      ],
      "source": [
        "# not good way\n",
        "print(\"HI\")\n",
        "print()\n",
        "print(\"Mohamed\")"
      ]
    },
    {
      "cell_type": "code",
      "execution_count": null,
      "metadata": {
        "colab": {
          "base_uri": "https://localhost:8080/"
        },
        "id": "SyziMlPPV4eG",
        "outputId": "0b92b1ee-1909-440d-ff84-2828747877ad"
      },
      "outputs": [
        {
          "output_type": "stream",
          "name": "stdout",
          "text": [
            "HI \n",
            "Mohamed\n"
          ]
        }
      ],
      "source": [
        "# \\n  --> newline\n",
        "print (\"HI \\nMohamed\")"
      ]
    },
    {
      "cell_type": "code",
      "execution_count": null,
      "metadata": {
        "colab": {
          "base_uri": "https://localhost:8080/",
          "height": 131
        },
        "id": "WeJqQBjGYC97",
        "outputId": "dd509c1e-b9de-495c-b7f7-e9719a7b1980"
      },
      "outputs": [
        {
          "ename": "SyntaxError",
          "evalue": "ignored",
          "output_type": "error",
          "traceback": [
            "\u001b[0;36m  File \u001b[0;32m\"<ipython-input-22-57a48e29f0a5>\"\u001b[0;36m, line \u001b[0;32m3\u001b[0m\n\u001b[0;31m    print(\"\\\")\u001b[0m\n\u001b[0m              ^\u001b[0m\n\u001b[0;31mSyntaxError\u001b[0m\u001b[0;31m:\u001b[0m EOL while scanning string literal\n"
          ]
        }
      ],
      "source": [
        "# \\ --> escape chracter\n",
        "\n",
        "#print(\"\\\")"
      ]
    },
    {
      "cell_type": "code",
      "execution_count": null,
      "metadata": {
        "colab": {
          "base_uri": "https://localhost:8080/"
        },
        "id": "SYDOO8OEYM_X",
        "outputId": "ee4a8b8b-2455-41f6-8e27-056d9cd9b25d"
      },
      "outputs": [
        {
          "name": "stdout",
          "output_type": "stream",
          "text": [
            "\\\n"
          ]
        }
      ],
      "source": [
        "print(\"\\\\\")"
      ]
    },
    {
      "cell_type": "code",
      "execution_count": null,
      "metadata": {
        "colab": {
          "base_uri": "https://localhost:8080/"
        },
        "id": "hFH_D9lkXRGZ",
        "outputId": "9d7f74a8-852c-4d84-df7b-45594078b8b6"
      },
      "outputs": [
        {
          "output_type": "stream",
          "name": "stdout",
          "text": [
            "Hi\"python\"\n",
            "Hi \"python\"\n",
            "Hi 'python'\n"
          ]
        }
      ],
      "source": [
        "#ouput: Hi \"python\"\n",
        "print(\"Hi\\\"python\\\"\")\n",
        "print('Hi \"python\"')\n",
        "print(\"Hi 'python'\")"
      ]
    },
    {
      "cell_type": "code",
      "execution_count": null,
      "metadata": {
        "colab": {
          "base_uri": "https://localhost:8080/"
        },
        "id": "LpaioksUzmAo",
        "outputId": "89fce9f1-b7d2-401e-ea34-2bf126fd13c6"
      },
      "outputs": [
        {
          "name": "stdout",
          "output_type": "stream",
          "text": [
            "2\n"
          ]
        }
      ],
      "source": [
        "x=\"\\\\\\\\\"\n",
        "print(len(x))"
      ]
    },
    {
      "cell_type": "code",
      "execution_count": null,
      "metadata": {
        "colab": {
          "base_uri": "https://localhost:8080/"
        },
        "id": "AmajPsoJXxB8",
        "outputId": "523c28ee-3d68-4516-e33b-7549f347a5fd"
      },
      "outputs": [
        {
          "output_type": "stream",
          "name": "stdout",
          "text": [
            "The itsy bitsy spider 5 the waterspout.\n"
          ]
        }
      ],
      "source": [
        "# default separator (space)\n",
        "# outputs them all on one line\n",
        "print(\"The itsy bitsy spider\" , \"climbed up\" , \"the waterspout.\")"
      ]
    },
    {
      "cell_type": "markdown",
      "metadata": {
        "id": "aArV42FSZClF"
      },
      "source": [
        "## print() -  keyword arguments\n",
        "\n",
        "\n",
        "\n",
        "1.   end = \"\\n\" --> by default in python  \n",
        "2.   sep = \" \"  --> by default in python\n",
        "\n"
      ]
    },
    {
      "cell_type": "code",
      "execution_count": null,
      "metadata": {
        "id": "5S9N1GM-YXi3"
      },
      "outputs": [],
      "source": [
        "print(\"My name is\", \"Python.\", end=\" \")\n",
        "print(\"Monty Python.\")"
      ]
    },
    {
      "cell_type": "code",
      "execution_count": null,
      "metadata": {
        "colab": {
          "base_uri": "https://localhost:8080/"
        },
        "id": "iSMTj9poZ4OO",
        "outputId": "434a628a-80e6-4a42-d101-99f646b8243a"
      },
      "outputs": [
        {
          "name": "stdout",
          "output_type": "stream",
          "text": [
            "Hello__In__my class hgg\n"
          ]
        }
      ],
      "source": [
        "print(\"Hello\", \"In\", \"my class\", sep=\"__\", end = \" \")\n",
        "print(\"hgg\")"
      ]
    },
    {
      "cell_type": "code",
      "execution_count": null,
      "metadata": {
        "colab": {
          "base_uri": "https://localhost:8080/"
        },
        "id": "IoNaRqjYaDrM",
        "outputId": "469e0f5b-0bd9-4aa7-beaf-61b426dd2a37"
      },
      "outputs": [
        {
          "data": {
            "text/plain": [
              "int"
            ]
          },
          "execution_count": 32,
          "metadata": {},
          "output_type": "execute_result"
        }
      ],
      "source": [
        "type(122)"
      ]
    },
    {
      "cell_type": "code",
      "execution_count": null,
      "metadata": {
        "colab": {
          "base_uri": "https://localhost:8080/"
        },
        "id": "EiolHB7xa9Gp",
        "outputId": "c0fa318f-8f26-4faf-9f39-e9fe9e520803"
      },
      "outputs": [
        {
          "data": {
            "text/plain": [
              "str"
            ]
          },
          "execution_count": 33,
          "metadata": {},
          "output_type": "execute_result"
        }
      ],
      "source": [
        "type(\"r\")"
      ]
    },
    {
      "cell_type": "markdown",
      "metadata": {
        "id": "ruddoODhbTRF"
      },
      "source": [
        "## Literals - the data in itself"
      ]
    },
    {
      "cell_type": "code",
      "execution_count": null,
      "metadata": {
        "colab": {
          "base_uri": "https://localhost:8080/"
        },
        "id": "-UBL-RfZbDMc",
        "outputId": "ccc97d39-af2f-4337-b410-7c21540a8b7e"
      },
      "outputs": [
        {
          "name": "stdout",
          "output_type": "stream",
          "text": [
            "2\n",
            "2\n"
          ]
        }
      ],
      "source": [
        "#these two values are stored in completely different ways\n",
        "print(\"2\")\n",
        "print(2)\n"
      ]
    },
    {
      "cell_type": "code",
      "execution_count": null,
      "metadata": {
        "colab": {
          "background_save": true,
          "base_uri": "https://localhost:8080/"
        },
        "id": "xJqoXjq2bdjk",
        "outputId": "0bd5007d-5ff4-4233-c648-1c058a2d026e"
      },
      "outputs": [
        {
          "name": "stdout",
          "output_type": "stream",
          "text": [
            "221\n",
            "5\n"
          ]
        }
      ],
      "source": [
        "print(\"2\" * 2 + \"1\")\n",
        "print(2 * 2 + 1)"
      ]
    },
    {
      "cell_type": "code",
      "execution_count": null,
      "metadata": {
        "colab": {
          "base_uri": "https://localhost:8080/"
        },
        "id": "n9EP7NvtbhoB",
        "outputId": "2a6710bd-d5cc-431d-d253-9257a6044486"
      },
      "outputs": [
        {
          "data": {
            "text/plain": [
              "str"
            ]
          },
          "execution_count": 39,
          "metadata": {},
          "output_type": "execute_result"
        }
      ],
      "source": [
        "type(\"hfrg\")"
      ]
    },
    {
      "cell_type": "code",
      "execution_count": null,
      "metadata": {
        "colab": {
          "base_uri": "https://localhost:8080/"
        },
        "id": "PoEhLuJTb8kd",
        "outputId": "72b1d21d-58ab-452f-a1bd-61c4bf5971d4"
      },
      "outputs": [
        {
          "data": {
            "text/plain": [
              "int"
            ]
          },
          "execution_count": 40,
          "metadata": {},
          "output_type": "execute_result"
        }
      ],
      "source": [
        "type(33)"
      ]
    },
    {
      "cell_type": "code",
      "execution_count": null,
      "metadata": {
        "colab": {
          "base_uri": "https://localhost:8080/"
        },
        "id": "YsBfiwyhb-Qc",
        "outputId": "d5b9c37d-7916-442e-80a3-f147c2d73bf7"
      },
      "outputs": [
        {
          "data": {
            "text/plain": [
              "float"
            ]
          },
          "execution_count": 49,
          "metadata": {},
          "output_type": "execute_result"
        }
      ],
      "source": [
        "type(2.5)"
      ]
    },
    {
      "cell_type": "markdown",
      "metadata": {
        "id": "vp8zXPRui7_u"
      },
      "source": [
        "## Basic operators"
      ]
    },
    {
      "cell_type": "markdown",
      "metadata": {
        "id": "R5mqyDufi_aE"
      },
      "source": [
        "- +\n",
        "- *\n",
        "- /\n",
        "- //\n",
        "- %\n",
        "- **"
      ]
    },
    {
      "cell_type": "code",
      "execution_count": null,
      "metadata": {
        "colab": {
          "base_uri": "https://localhost:8080/"
        },
        "id": "rjfHFJnoigxL",
        "outputId": "ea8fe5f9-74b3-4505-d9b8-a00f80acc911"
      },
      "outputs": [
        {
          "output_type": "stream",
          "name": "stdout",
          "text": [
            "8\n",
            "8.0\n",
            "8.0\n",
            "8.0\n"
          ]
        }
      ],
      "source": [
        "print(2 ** 3)   # int, int -> int\n",
        "print(2 ** 3.)  # int, float -> float\n",
        "print(2. ** 3)  # float, int -> float\n",
        "print(2. ** 3.) # float, float -> float"
      ]
    },
    {
      "cell_type": "code",
      "execution_count": null,
      "metadata": {
        "colab": {
          "base_uri": "https://localhost:8080/"
        },
        "id": "e4buR2sQjkf9",
        "outputId": "7808eb07-f165-4772-ab78-f8f996611233"
      },
      "outputs": [
        {
          "data": {
            "text/plain": [
              "1.25"
            ]
          },
          "execution_count": 88,
          "metadata": {},
          "output_type": "execute_result"
        }
      ],
      "source": [
        "10/8"
      ]
    },
    {
      "cell_type": "code",
      "execution_count": null,
      "metadata": {
        "colab": {
          "base_uri": "https://localhost:8080/"
        },
        "id": "XIYa1LoPjPbc",
        "outputId": "2d66a1d1-fc35-4fba-cc4c-9765270b3720"
      },
      "outputs": [
        {
          "data": {
            "text/plain": [
              "1"
            ]
          },
          "execution_count": 87,
          "metadata": {},
          "output_type": "execute_result"
        }
      ],
      "source": [
        "10//8"
      ]
    },
    {
      "cell_type": "code",
      "execution_count": null,
      "metadata": {
        "colab": {
          "base_uri": "https://localhost:8080/"
        },
        "id": "rC3Zl2uSjlpx",
        "outputId": "419e420d-8591-455d-b77f-c6896f6e742f"
      },
      "outputs": [
        {
          "output_type": "execute_result",
          "data": {
            "text/plain": [
              "2"
            ]
          },
          "metadata": {},
          "execution_count": 9
        }
      ],
      "source": [
        "10%8"
      ]
    },
    {
      "cell_type": "markdown",
      "metadata": {
        "id": "mtE2ijTqkAMh"
      },
      "source": [
        "![image.png](data:image/png;base64,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)"
      ]
    },
    {
      "cell_type": "code",
      "execution_count": null,
      "metadata": {
        "colab": {
          "base_uri": "https://localhost:8080/"
        },
        "id": "ucw0rPBmjqMC",
        "outputId": "27ee53a4-4185-4966-f2d8-8c498e05c95f"
      },
      "outputs": [
        {
          "data": {
            "text/plain": [
              "2"
            ]
          },
          "execution_count": 90,
          "metadata": {},
          "output_type": "execute_result"
        }
      ],
      "source": [
        "14%4"
      ]
    },
    {
      "cell_type": "code",
      "execution_count": null,
      "metadata": {
        "colab": {
          "base_uri": "https://localhost:8080/"
        },
        "id": "t_1ELtnQkGrg",
        "outputId": "9efc156b-411c-40f9-faaa-0cbb3960c271"
      },
      "outputs": [
        {
          "name": "stdout",
          "output_type": "stream",
          "text": [
            "-8\n",
            "-4.0\n",
            "-1.1\n"
          ]
        }
      ],
      "source": [
        "# subtraction operator, unary and binary operators\n",
        "# sign and operation\n",
        "\n",
        "print(-4 - 4)\n",
        "print(4. - 8)\n",
        "print(-1.1)"
      ]
    },
    {
      "cell_type": "markdown",
      "metadata": {
        "id": "hayyKjoNkkiZ"
      },
      "source": [
        "## Operators and their priorities"
      ]
    },
    {
      "cell_type": "markdown",
      "metadata": {
        "id": "OvwDyo7sl6Z1"
      },
      "source": [
        "![image.png](data:image/png;base64,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)"
      ]
    },
    {
      "cell_type": "code",
      "execution_count": null,
      "metadata": {
        "colab": {
          "base_uri": "https://localhost:8080/"
        },
        "id": "eH8A3RHfkaps",
        "outputId": "736a629d-f4d1-40da-97d3-abe8816d6296"
      },
      "outputs": [
        {
          "data": {
            "text/plain": [
              "17"
            ]
          },
          "execution_count": 95,
          "metadata": {},
          "output_type": "execute_result"
        }
      ],
      "source": [
        "# * has a higher priority than  +\n",
        "2 + 3 * 5"
      ]
    },
    {
      "cell_type": "markdown",
      "metadata": {
        "id": "6iMA0kfyk5xA"
      },
      "source": [
        "### binding\n",
        "Most of Python's operators have left-sided binding, which means that the calculation of the expression is conducted from left to right.\n",
        "<br>\n",
        "**Note:** the exponentiation operator uses right-sided binding."
      ]
    },
    {
      "cell_type": "code",
      "execution_count": null,
      "metadata": {
        "colab": {
          "base_uri": "https://localhost:8080/"
        },
        "id": "V8_rnz3xk32Q",
        "outputId": "71aca03c-e8eb-4bdc-be7c-d0fbdce9a46e"
      },
      "outputs": [
        {
          "name": "stdout",
          "output_type": "stream",
          "text": [
            "1\n"
          ]
        }
      ],
      "source": [
        "# left-sided binding.\n",
        "print(9 % 6 % 2)"
      ]
    },
    {
      "cell_type": "markdown",
      "metadata": {
        "id": "xkkIXJ7qll5j"
      },
      "source": [
        "![image.png](data:image/png;base64,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)"
      ]
    },
    {
      "cell_type": "code",
      "execution_count": null,
      "metadata": {
        "id": "mMaFmQk5lIXo",
        "colab": {
          "base_uri": "https://localhost:8080/"
        },
        "outputId": "9138082c-77d4-4471-a4a6-84184268c582"
      },
      "outputs": [
        {
          "output_type": "stream",
          "name": "stdout",
          "text": [
            "256\n"
          ]
        }
      ],
      "source": [
        "print(2 ** 2 ** 3)"
      ]
    },
    {
      "cell_type": "code",
      "execution_count": null,
      "metadata": {
        "colab": {
          "base_uri": "https://localhost:8080/"
        },
        "id": "dshBmeURloRh",
        "outputId": "ad418bce-7c52-4201-89a8-c85c707f73a0"
      },
      "outputs": [
        {
          "name": "stdout",
          "output_type": "stream",
          "text": [
            "1\n"
          ]
        }
      ],
      "source": [
        "print(2 * 3 % 5)"
      ]
    },
    {
      "cell_type": "markdown",
      "metadata": {
        "id": "oECYCiLh-1_7"
      },
      "source": [
        "**Excercise:** <br>\n",
        "Two parts of a floor need tiling. One part is 9 tiles wide by 7 tiles long, the other is 5 tiles wide by 7 tiles long. Tiles come in packages of 6.\n",
        "- How many tiles are needed?\n",
        "- You buy 17 packages of tiles containing 6 tiles each. How many tiles will be left over?\n",
        "\n"
      ]
    },
    {
      "cell_type": "code",
      "execution_count": null,
      "metadata": {
        "colab": {
          "base_uri": "https://localhost:8080/"
        },
        "id": "Yo7U_CzC-1Qj",
        "outputId": "6cd9879a-98ff-4ff2-f331-92eebd2c1f36"
      },
      "outputs": [
        {
          "name": "stdout",
          "output_type": "stream",
          "text": [
            "98\n",
            "4\n"
          ]
        }
      ],
      "source": [
        "#@title Default title text\n",
        "print(9*7+5*7)\n",
        "print(17*6-(9*7+5*7))"
      ]
    },
    {
      "cell_type": "markdown",
      "metadata": {
        "id": "xmjv9wHLwqcY"
      },
      "source": [
        "## input()\n",
        "function is able to read data entered by the user and to return the same data to the running program. <br>\n",
        "**Note:** Result of the input() function is a **String**."
      ]
    },
    {
      "cell_type": "code",
      "execution_count": null,
      "metadata": {
        "colab": {
          "base_uri": "https://localhost:8080/"
        },
        "id": "LzEiMRFtwLRi",
        "outputId": "b90d4983-5faf-4a0f-a961-da2a4794aa7d"
      },
      "outputs": [
        {
          "name": "stdout",
          "output_type": "stream",
          "text": [
            "Tell me anything...\n",
            "ytfedhf\n",
            "Hmm... ytfedhf ... Really?\n"
          ]
        }
      ],
      "source": [
        "print(\"Tell me anything...\")\n",
        "anything = input()\n",
        "print(\"Hmm...\", anything, \"... Really?\")"
      ]
    },
    {
      "cell_type": "code",
      "execution_count": null,
      "metadata": {
        "colab": {
          "base_uri": "https://localhost:8080/",
          "height": 53
        },
        "id": "pF_O7uayxDsp",
        "outputId": "6f7cdf42-0493-4f98-9983-7f7ad97fb3a4"
      },
      "outputs": [
        {
          "name": "stdout",
          "output_type": "stream",
          "text": [
            "name: Essam\n"
          ]
        },
        {
          "output_type": "execute_result",
          "data": {
            "text/plain": [
              "'Essam'"
            ],
            "application/vnd.google.colaboratory.intrinsic+json": {
              "type": "string"
            }
          },
          "metadata": {},
          "execution_count": 8
        }
      ],
      "source": [
        "x = input(\"name: \")\n",
        "x"
      ]
    },
    {
      "cell_type": "code",
      "execution_count": null,
      "metadata": {
        "colab": {
          "base_uri": "https://localhost:8080/"
        },
        "id": "-WEe1r-YxRBj",
        "outputId": "14e2eca9-ed82-4ac2-ae1a-bfdfb99afd5f"
      },
      "outputs": [
        {
          "name": "stdout",
          "output_type": "stream",
          "text": [
            "Enter a number: 1\n",
            "1 to the power of 2 is 1.0\n"
          ]
        }
      ],
      "source": [
        "# convert input to int\n",
        "# type casting\n",
        "anything = int(input(\"Enter a number: \"))\n",
        "something = anything ** 2.0\n",
        "print(anything, \"to the power of 2 is\", something)\n"
      ]
    },
    {
      "cell_type": "markdown",
      "metadata": {
        "id": "OuHV5fLK1aA-"
      },
      "source": [
        "### String operators"
      ]
    },
    {
      "cell_type": "code",
      "execution_count": null,
      "metadata": {
        "colab": {
          "base_uri": "https://localhost:8080/"
        },
        "id": "2adqnNcZydrv",
        "outputId": "50a362da-b854-4950-e54c-bb3071e39deb"
      },
      "outputs": [
        {
          "output_type": "stream",
          "name": "stdout",
          "text": [
            "first name:  Mohamed\n",
            "last name: Essam\n",
            "your name is Mohamed Essam.\n"
          ]
        }
      ],
      "source": [
        "fnam = input(\"first name:  \")\n",
        "lnam = input(\"last name: \")\n",
        "print(\"your name is \" + fnam + \" \" + lnam + \".\")\n",
        "\n"
      ]
    },
    {
      "cell_type": "code",
      "execution_count": null,
      "metadata": {
        "colab": {
          "base_uri": "https://localhost:8080/",
          "height": 35
        },
        "id": "fUOE1Y4V1s5z",
        "outputId": "200054df-9f05-425d-8ac4-bf23facb5bd2"
      },
      "outputs": [
        {
          "output_type": "execute_result",
          "data": {
            "text/plain": [
              "'123123123'"
            ],
            "application/vnd.google.colaboratory.intrinsic+json": {
              "type": "string"
            }
          },
          "metadata": {},
          "execution_count": 10
        }
      ],
      "source": [
        "\"123\" * 3"
      ]
    },
    {
      "cell_type": "code",
      "execution_count": null,
      "metadata": {
        "colab": {
          "base_uri": "https://localhost:8080/"
        },
        "id": "2Wm1B9pn2Bx_",
        "outputId": "e1ba8c91-8441-4e55-82f3-5299c29bc814"
      },
      "outputs": [
        {
          "name": "stdout",
          "output_type": "stream",
          "text": [
            "+----------+\n",
            "|          |\n",
            "|          |\n",
            "|          |\n",
            "|          |\n",
            "|          |\n",
            "+----------+\n"
          ]
        }
      ],
      "source": [
        "print(\"+\" + 10 * \"-\" + \"+\")\n",
        "print((\"|\" + \" \" * 10 + \"|\\n\") * 5, end=\"\")\n",
        "print(\"+\" + 10 * \"-\" + \"+\")\n",
        "\n"
      ]
    },
    {
      "cell_type": "code",
      "execution_count": null,
      "metadata": {
        "colab": {
          "base_uri": "https://localhost:8080/",
          "height": 35
        },
        "id": "1-zGvgR02HuT",
        "outputId": "b2a1c71f-5962-4d5c-d4fd-43d706f0607d"
      },
      "outputs": [
        {
          "data": {
            "application/vnd.google.colaboratory.intrinsic+json": {
              "type": "string"
            },
            "text/plain": [
              "'5'"
            ]
          },
          "execution_count": 143,
          "metadata": {},
          "output_type": "execute_result"
        }
      ],
      "source": [
        "str(5)"
      ]
    },
    {
      "cell_type": "markdown",
      "metadata": {
        "id": "_USjtEsV9BXF"
      },
      "source": [
        "## logical Operators\n",
        "- \\> :Greater than\n",
        "- <= :Greater than or equal\n",
        "- < :less than\n",
        "- = = :is equal to\n",
        "- != :not equal to\n",
        "## Equality"
      ]
    },
    {
      "cell_type": "code",
      "execution_count": null,
      "metadata": {
        "colab": {
          "base_uri": "https://localhost:8080/"
        },
        "id": "mYL7xTnP2TDp",
        "outputId": "f9d0d90e-81d6-4d0b-b5bd-0ac0b1b40347"
      },
      "outputs": [
        {
          "data": {
            "text/plain": [
              "True"
            ]
          },
          "execution_count": 147,
          "metadata": {},
          "output_type": "execute_result"
        }
      ],
      "source": [
        "# assign value\n",
        "var = 0\n",
        "x = 0\n",
        "# ask if equal\n",
        "var == 0"
      ]
    },
    {
      "cell_type": "code",
      "execution_count": null,
      "metadata": {
        "colab": {
          "base_uri": "https://localhost:8080/"
        },
        "id": "2WuBuQcL9Heo",
        "outputId": "0172109b-30df-4ee3-fe08-8298a39684da"
      },
      "outputs": [
        {
          "data": {
            "text/plain": [
              "False"
            ]
          },
          "execution_count": 148,
          "metadata": {},
          "output_type": "execute_result"
        }
      ],
      "source": [
        "# not equal\n",
        "var != x"
      ]
    },
    {
      "cell_type": "code",
      "execution_count": null,
      "metadata": {
        "colab": {
          "base_uri": "https://localhost:8080/"
        },
        "id": "llVVxi3A9JtA",
        "outputId": "5dd56f26-4401-4e22-d735-4e150a49e434"
      },
      "outputs": [
        {
          "data": {
            "text/plain": [
              "True"
            ]
          },
          "execution_count": 149,
          "metadata": {},
          "output_type": "execute_result"
        }
      ],
      "source": [
        "10>=5"
      ]
    },
    {
      "cell_type": "markdown",
      "metadata": {
        "id": "HQPSMNUzCduy"
      },
      "source": [
        "## Multiline strings"
      ]
    },
    {
      "cell_type": "code",
      "execution_count": null,
      "metadata": {
        "colab": {
          "base_uri": "https://localhost:8080/",
          "height": 131
        },
        "outputId": "ce888353-de92-47b5-8aa3-dadc965a5d82",
        "id": "Gwq6gaWqCduy"
      },
      "outputs": [
        {
          "ename": "SyntaxError",
          "evalue": "ignored",
          "output_type": "error",
          "traceback": [
            "\u001b[0;36m  File \u001b[0;32m\"<ipython-input-36-76af33be379c>\"\u001b[0;36m, line \u001b[0;32m1\u001b[0m\n\u001b[0;31m    multiline = 'Line #1    # Error\u001b[0m\n\u001b[0m                ^\u001b[0m\n\u001b[0;31mSyntaxError\u001b[0m\u001b[0;31m:\u001b[0m unterminated string literal (detected at line 1)\n"
          ]
        }
      ],
      "source": [
        "multiline = 'Line #1    # Error\n",
        "Line #2 '\n",
        "\n",
        "print(len(multiline))\n"
      ]
    },
    {
      "cell_type": "code",
      "execution_count": null,
      "metadata": {
        "colab": {
          "base_uri": "https://localhost:8080/"
        },
        "outputId": "b7385d2a-83fb-4b11-806a-9c9592f48407",
        "id": "8lWmKEn0Cduy"
      },
      "outputs": [
        {
          "output_type": "stream",
          "name": "stdout",
          "text": [
            "15\n"
          ]
        }
      ],
      "source": [
        "multiline = \"\"\"Line #1\n",
        "Line #2\"\"\"\n",
        "\n",
        "print(len(multiline))\n"
      ]
    },
    {
      "cell_type": "markdown",
      "metadata": {
        "id": "NMNsXVnSCduz"
      },
      "source": [
        "#### Operations on strings\n",
        "- concatenated (joined)\n",
        "- replicated.\n",
        "The ability to use the same operator against completely different kinds of data (like numbers vs. strings) is called overloading (as such an operator is overloaded with different duties)."
      ]
    },
    {
      "cell_type": "code",
      "execution_count": null,
      "metadata": {
        "colab": {
          "base_uri": "https://localhost:8080/"
        },
        "outputId": "64919cf2-35a4-4efb-9914-446ce627bd92",
        "id": "42IKmJpVCduz"
      },
      "outputs": [
        {
          "name": "stdout",
          "output_type": "stream",
          "text": [
            "ab\n",
            "ba\n",
            "aaaaa\n",
            "bbbb\n"
          ]
        }
      ],
      "source": [
        "str1 = 'a'\n",
        "str2 = 'b'\n",
        "\n",
        "print(str1 + str2)\n",
        "print(str2 + str1)\n",
        "print(5 * 'a')\n",
        "print('b' * 4)\n"
      ]
    },
    {
      "cell_type": "markdown",
      "metadata": {
        "id": "XIwmVyLCCdux"
      },
      "source": [
        "### isalpha()\n",
        "method is more specialized - it's interested in letters only."
      ]
    },
    {
      "cell_type": "code",
      "execution_count": null,
      "metadata": {
        "colab": {
          "base_uri": "https://localhost:8080/"
        },
        "outputId": "72d4a8b2-c094-491a-fe0e-2752b07400b7",
        "id": "3HrQmgCiCduy"
      },
      "outputs": [
        {
          "output_type": "stream",
          "name": "stdout",
          "text": [
            "True\n",
            "False\n"
          ]
        }
      ],
      "source": [
        "# Example 1: Demonstrating the isapha() method:\n",
        "print(\"Moooo\".isalpha())\n",
        "print('Mu40'.isalpha())\n"
      ]
    },
    {
      "cell_type": "markdown",
      "metadata": {
        "id": "8YqAPswyCduz"
      },
      "source": [
        "### isdigit()\n",
        " method looks at digits only - anything else produces False as the result."
      ]
    },
    {
      "cell_type": "code",
      "execution_count": null,
      "metadata": {
        "colab": {
          "base_uri": "https://localhost:8080/"
        },
        "outputId": "5aed93f7-0238-4983-f2f8-63737bacdd8f",
        "id": "Rfzc-gH9Cduz"
      },
      "outputs": [
        {
          "name": "stdout",
          "output_type": "stream",
          "text": [
            "True\n",
            "False\n"
          ]
        }
      ],
      "source": [
        "print('2018'.isdigit())\n",
        "print(\"Year2019\".isdigit())"
      ]
    },
    {
      "cell_type": "markdown",
      "metadata": {
        "id": "52WnyyOXCduz"
      },
      "source": [
        "### islower()\n",
        "- it accepts lower-case letters only."
      ]
    },
    {
      "cell_type": "code",
      "execution_count": null,
      "metadata": {
        "colab": {
          "base_uri": "https://localhost:8080/"
        },
        "outputId": "3e42739d-b534-4fb8-8cb6-e659e88af2fb",
        "id": "qBECFOUoCduz"
      },
      "outputs": [
        {
          "name": "stdout",
          "output_type": "stream",
          "text": [
            "False\n",
            "True\n"
          ]
        }
      ],
      "source": [
        "print(\"Moooo\".islower())\n",
        "print('moooo'.islower())"
      ]
    },
    {
      "cell_type": "markdown",
      "metadata": {
        "id": "uMw4LXH4Cdu0"
      },
      "source": [
        "### isupper()\n",
        "It concentrates on upper-case letters only."
      ]
    },
    {
      "cell_type": "code",
      "execution_count": null,
      "metadata": {
        "colab": {
          "base_uri": "https://localhost:8080/"
        },
        "outputId": "79bb09e9-4b81-4bf6-de75-a774064717d4",
        "id": "rxAAjIq-Cdu0"
      },
      "outputs": [
        {
          "name": "stdout",
          "output_type": "stream",
          "text": [
            "False\n",
            "False\n",
            "True\n"
          ]
        }
      ],
      "source": [
        "print(\"Moooo\".isupper())\n",
        "print('moMoo'.isupper())\n",
        "print('MOOOO'.isupper())"
      ]
    },
    {
      "cell_type": "markdown",
      "metadata": {
        "id": "NhvFGHuqCdu0"
      },
      "source": [
        "### isspace()\n",
        "method identifies whitespaces only"
      ]
    },
    {
      "cell_type": "code",
      "execution_count": null,
      "metadata": {
        "colab": {
          "base_uri": "https://localhost:8080/"
        },
        "outputId": "e57637d0-5e40-48b6-cb38-52098f85bcd6",
        "id": "BxVMO5ckCdu0"
      },
      "outputs": [
        {
          "name": "stdout",
          "output_type": "stream",
          "text": [
            "True\n",
            "True\n",
            "False\n"
          ]
        }
      ],
      "source": [
        "print('\\n'.isspace())\n",
        "print(\" \".isspace())\n",
        "print(\"mooo mooo mooo\".isspace())"
      ]
    },
    {
      "cell_type": "markdown",
      "metadata": {
        "id": "MUnvD4gZCdu0"
      },
      "source": [
        "### join()\n",
        "- it expects one argument as a list; it must be assured that all the list's elements are strings\n",
        "- all the list's elements will be joined into one string but...\n",
        "...the string from which the method has been invoked is used as a separator"
      ]
    },
    {
      "cell_type": "code",
      "execution_count": null,
      "metadata": {
        "colab": {
          "base_uri": "https://localhost:8080/"
        },
        "outputId": "0d8071c2-3c52-405d-b6e1-0a44624e2c87",
        "id": "qQz4zcSYCdu0"
      },
      "outputs": [
        {
          "output_type": "stream",
          "name": "stdout",
          "text": [
            "omicron pi rho\n"
          ]
        }
      ],
      "source": [
        "print(\" \".join([\"omicron\", \"pi\", \"rho\"]))"
      ]
    },
    {
      "cell_type": "markdown",
      "metadata": {
        "id": "m-qG1YQeCdu0"
      },
      "source": [
        "### lower()\n",
        "makes a copy of a source string, replaces all upper-case letters with their lower-case counterparts,"
      ]
    },
    {
      "cell_type": "code",
      "execution_count": null,
      "metadata": {
        "colab": {
          "base_uri": "https://localhost:8080/"
        },
        "outputId": "41617e28-0d5b-49cf-c42d-31bf13c5b972",
        "id": "OrztQf7cCdu1"
      },
      "outputs": [
        {
          "name": "stdout",
          "output_type": "stream",
          "text": [
            "sigma=60\n"
          ]
        }
      ],
      "source": [
        "print(\"SiGmA=60\".lower())\n"
      ]
    },
    {
      "cell_type": "markdown",
      "metadata": {
        "id": "kemKE0IKCdu4"
      },
      "source": [
        "### upper()\n",
        "makes a copy of the source string, replaces all lower-case letters with their upper-case counterparts"
      ]
    },
    {
      "cell_type": "code",
      "execution_count": null,
      "metadata": {
        "colab": {
          "base_uri": "https://localhost:8080/"
        },
        "outputId": "1547b962-e3a3-43d9-f8f6-e75b0216387c",
        "id": "I-Sjhd0fCdu4"
      },
      "outputs": [
        {
          "name": "stdout",
          "output_type": "stream",
          "text": [
            "i KNOW THAT i KNOW NOTHING.\n",
            "\n",
            "I Know That I Know Nothing. Part 1.\n",
            "\n",
            "I KNOW THAT I KNOW NOTHING. PART 2.\n"
          ]
        }
      ],
      "source": [
        "# Demonstrating the swapcase() method:\n",
        "print(\"I know that I know nothing.\".swapcase())\n",
        "\n",
        "print()\n",
        "\n",
        "# Demonstrating the title() method:\n",
        "print(\"I know that I know nothing. Part 1.\".title())\n",
        "\n",
        "print()\n",
        "\n",
        "# Demonstrating the upper() method:\n",
        "print(\"I know that I know nothing. Part 2.\".upper())\n"
      ]
    },
    {
      "cell_type": "markdown",
      "metadata": {
        "id": "_Tk69gSyCdu1"
      },
      "source": [
        "### lstrip()\n",
        "returns a newly created string formed from the original one by removing all leading whitespaces."
      ]
    },
    {
      "cell_type": "code",
      "execution_count": null,
      "metadata": {
        "colab": {
          "base_uri": "https://localhost:8080/"
        },
        "outputId": "eac145e3-ed0d-49ed-a7fa-d8ef69e88f1f",
        "id": "2wunIevGCdu1"
      },
      "outputs": [
        {
          "output_type": "stream",
          "name": "stdout",
          "text": [
            "[tau ]\n"
          ]
        }
      ],
      "source": [
        "print(\"[\" + \"   tau \".lstrip() + \"]\")\n"
      ]
    },
    {
      "cell_type": "markdown",
      "metadata": {
        "id": "ZpAn5r1TCdu1"
      },
      "source": [
        "one-parameter lstrip() method does the same as its parameterless version, but removes all characters enlisted in its argument (a string)"
      ]
    },
    {
      "cell_type": "code",
      "execution_count": null,
      "metadata": {
        "colab": {
          "base_uri": "https://localhost:8080/"
        },
        "outputId": "a49fb51d-ad5f-4ca0-c6da-51247340aa96",
        "id": "f9lDVpgGCdu1"
      },
      "outputs": [
        {
          "output_type": "stream",
          "name": "stdout",
          "text": [
            "cisco.com\n"
          ]
        }
      ],
      "source": [
        "print(\"www.cisco.com\".lstrip(r\"w.\"))"
      ]
    },
    {
      "cell_type": "code",
      "execution_count": null,
      "metadata": {
        "colab": {
          "base_uri": "https://localhost:8080/",
          "height": 35
        },
        "outputId": "bd585e99-bb6a-4409-f3b7-abdbbf069612",
        "id": "mL-gyXU7Cdu1"
      },
      "outputs": [
        {
          "data": {
            "application/vnd.google.colaboratory.intrinsic+json": {
              "type": "string"
            },
            "text/plain": [
              "' world'"
            ]
          },
          "execution_count": 15,
          "metadata": {},
          "output_type": "execute_result"
        }
      ],
      "source": [
        "char = \"Hellooooo world\"\n",
        "char.lstrip(\"oHell\")"
      ]
    },
    {
      "cell_type": "code",
      "execution_count": null,
      "metadata": {
        "colab": {
          "base_uri": "https://localhost:8080/",
          "height": 35
        },
        "outputId": "dbd0b316-e394-4946-dd4c-2c0c8694de47",
        "id": "v9HhIgeTCdu1"
      },
      "outputs": [
        {
          "data": {
            "application/vnd.google.colaboratory.intrinsic+json": {
              "type": "string"
            },
            "text/plain": [
              "'llooooo world'"
            ]
          },
          "execution_count": 68,
          "metadata": {},
          "output_type": "execute_result"
        }
      ],
      "source": [
        "char.lstrip(\"eH\")"
      ]
    },
    {
      "cell_type": "code",
      "execution_count": null,
      "metadata": {
        "colab": {
          "base_uri": "https://localhost:8080/"
        },
        "outputId": "f839ddab-f9b0-4309-c9b3-a05a2a6d97a3",
        "id": "jCd-bYYACdu2"
      },
      "outputs": [
        {
          "name": "stdout",
          "output_type": "stream",
          "text": [
            "pythoninstitute.org\n"
          ]
        }
      ],
      "source": [
        "print(\"pythoninstitute.org\".lstrip(\".org\"))"
      ]
    },
    {
      "cell_type": "markdown",
      "metadata": {
        "id": "4D-4tQmeCdu2"
      },
      "source": [
        "###  replace()\n",
        "returns a copy of the original string in which all occurrences of the first argument have been replaced by the second argument."
      ]
    },
    {
      "cell_type": "code",
      "execution_count": null,
      "metadata": {
        "colab": {
          "base_uri": "https://localhost:8080/"
        },
        "outputId": "6e822fce-dfcc-4662-937c-dfd540ec9e39",
        "id": "t2F-QbtHCdu2"
      },
      "outputs": [
        {
          "name": "stdout",
          "output_type": "stream",
          "text": [
            "www.pythoninstitute.org\n",
            "Thare are it!, are\n",
            "Apple \n"
          ]
        }
      ],
      "source": [
        "print(\"www.netacad.com\".replace(\"netacad.com\", \"pythoninstitute.org\"))\n",
        "print(\"This is it!, is\".replace(\"is\", \"are\"))\n",
        "print(\"Apple juice\".replace(\"juice\", \"\"))\n"
      ]
    },
    {
      "cell_type": "code",
      "execution_count": null,
      "metadata": {
        "colab": {
          "base_uri": "https://localhost:8080/"
        },
        "outputId": "0d494174-3857-4326-b756-8e01278cb38d",
        "id": "LfPH85byCdu2"
      },
      "outputs": [
        {
          "name": "stdout",
          "output_type": "stream",
          "text": [
            "Thare is it!\n",
            "Thare are it!\n"
          ]
        }
      ],
      "source": [
        "# limit the number of replacements.\n",
        "print(\"This is it!\".replace(\"is\", \"are\", 1))\n",
        "print(\"This is it!\".replace(\"is\", \"are\", 2))"
      ]
    },
    {
      "cell_type": "markdown",
      "metadata": {
        "id": "Q5fSxej7Cdu2"
      },
      "source": [
        "### excercise\n",
        "swap commas and dots in a String"
      ]
    },
    {
      "cell_type": "code",
      "execution_count": null,
      "metadata": {
        "colab": {
          "base_uri": "https://localhost:8080/"
        },
        "outputId": "c8066791-e9a7-4ac0-953f-cdc7cceb1aeb",
        "id": "tOZq1yuuCdu2"
      },
      "outputs": [
        {
          "name": "stdout",
          "output_type": "stream",
          "text": [
            "10,990.00\n"
          ]
        }
      ],
      "source": [
        "price = \"10.990,00\"\n",
        "price = price.replace(',','#')\n",
        "price = price.replace('.',',')\n",
        "\n",
        "price = price.replace('#','.')\n",
        "\n",
        "print(price)"
      ]
    },
    {
      "cell_type": "markdown",
      "metadata": {
        "id": "bhQeH9U8Cdu3"
      },
      "source": [
        "### split()\n",
        "- it splits the string and builds a list of all detected substrings."
      ]
    },
    {
      "cell_type": "code",
      "execution_count": null,
      "metadata": {
        "colab": {
          "base_uri": "https://localhost:8080/"
        },
        "outputId": "443d7e67-e33f-4f3c-b6d6-7865864beadd",
        "id": "V7cAOjFZCdu3"
      },
      "outputs": [
        {
          "name": "stdout",
          "output_type": "stream",
          "text": [
            "['phi', 'chi', 'psi']\n"
          ]
        }
      ],
      "source": [
        "# Demonstrating the split() method:\n",
        "print(\"phi       chi\\npsi\".split())\n"
      ]
    },
    {
      "cell_type": "markdown",
      "metadata": {
        "id": "y2jQzA-NCdu5"
      },
      "source": [
        "### Sorting"
      ]
    },
    {
      "cell_type": "code",
      "execution_count": null,
      "metadata": {
        "colab": {
          "base_uri": "https://localhost:8080/"
        },
        "outputId": "9cb1a62f-74f2-4495-ba98-562652890ac3",
        "id": "pq_O7ynpCdu5"
      },
      "outputs": [
        {
          "name": "stdout",
          "output_type": "stream",
          "text": [
            "['omega', 'alpha', 'pi', 'gamma']\n",
            "['alpha', 'gamma', 'omega', 'pi']\n",
            "\n",
            "['omega', 'alpha', 'pi', 'gamma']\n",
            "['alpha', 'gamma', 'omega', 'pi']\n"
          ]
        }
      ],
      "source": [
        "first_greek = ['omega', 'alpha', 'pi', 'gamma']\n",
        "first_greek_2 = sorted(first_greek)\n",
        "\n",
        "print(first_greek)\n",
        "print(first_greek_2)\n",
        "\n",
        "print()\n",
        "\n",
        "# Demonstrating the sort() method:\n",
        "second_greek = ['omega', 'alpha', 'pi', 'gamma']\n",
        "print(second_greek)\n",
        "\n",
        "second_greek.sort()\n",
        "print(second_greek)"
      ]
    },
    {
      "cell_type": "markdown",
      "metadata": {
        "id": "48HeudH7-CDp"
      },
      "source": [
        "## Conditions and conditional execution\n",
        "\n",
        " do something if a condition is met, and not do it if it isn't.\n",
        " <br>\n",
        "\n",
        " #### Indentation\n",
        "In Python we use indentation to enclose blocks of code. For example, if statements use indentation to tell Python what code is inside and outside of different clauses."
      ]
    },
    {
      "cell_type": "code",
      "execution_count": null,
      "metadata": {
        "colab": {
          "base_uri": "https://localhost:8080/"
        },
        "id": "IpYWIjdi97MD",
        "outputId": "a29baf33-066d-41d7-9c42-1cacd899e3c4"
      },
      "outputs": [
        {
          "name": "stdout",
          "output_type": "stream",
          "text": [
            "Enter phone balance: 1\n"
          ]
        }
      ],
      "source": [
        "# Use Comparison Operators in Conditional Statements\n",
        "\n",
        "bank_balance = 100\n",
        "phone_balance = int(input(\"Enter phone balance: \"))\n",
        "\n",
        "if phone_balance < 5:\n",
        "    phone_balance += 10\n",
        "    bank_balance -= 10"
      ]
    },
    {
      "cell_type": "code",
      "execution_count": null,
      "metadata": {
        "colab": {
          "base_uri": "https://localhost:8080/"
        },
        "id": "VKDwp-BiNEdO",
        "outputId": "8f757567-f720-44fa-c655-37f66c2f2b0a"
      },
      "outputs": [
        {
          "data": {
            "text/plain": [
              "90"
            ]
          },
          "execution_count": 14,
          "metadata": {},
          "output_type": "execute_result"
        }
      ],
      "source": [
        "bank_balance"
      ]
    },
    {
      "cell_type": "code",
      "execution_count": null,
      "metadata": {
        "colab": {
          "base_uri": "https://localhost:8080/"
        },
        "id": "R_28lQkjNH1y",
        "outputId": "b3966ef6-552d-437c-e9a8-4b8ddd171ad3"
      },
      "outputs": [
        {
          "data": {
            "text/plain": [
              "11"
            ]
          },
          "execution_count": 15,
          "metadata": {},
          "output_type": "execute_result"
        }
      ],
      "source": [
        "phone_balance"
      ]
    },
    {
      "cell_type": "markdown",
      "metadata": {
        "id": "iARq3BjcOr2S"
      },
      "source": [
        "if-else"
      ]
    },
    {
      "cell_type": "code",
      "execution_count": null,
      "metadata": {
        "colab": {
          "base_uri": "https://localhost:8080/"
        },
        "id": "XsZ3mM5ZN0XS",
        "outputId": "64179c5e-c81b-431d-c027-43aa376e76bf"
      },
      "outputs": [
        {
          "name": "stdout",
          "output_type": "stream",
          "text": [
            "Enter an integer:2\n",
            "even\n"
          ]
        }
      ],
      "source": [
        "x= int(input('Enter an integer:'))\n",
        "if x%2==0:\n",
        "    print(\"even\")\n",
        "else:\n",
        "    print('odd')\n"
      ]
    },
    {
      "cell_type": "markdown",
      "metadata": {
        "id": "5gT_SmIqP3fN"
      },
      "source": [
        "if-else-elif"
      ]
    },
    {
      "cell_type": "code",
      "execution_count": null,
      "metadata": {
        "colab": {
          "base_uri": "https://localhost:8080/"
        },
        "id": "Y6GBcWOtPkYU",
        "outputId": "c8bfd87a-4b16-4468-ada6-922d877b6412"
      },
      "outputs": [
        {
          "name": "stdout",
          "output_type": "stream",
          "text": [
            "divisible by 2 and not 3\n"
          ]
        }
      ],
      "source": [
        "# if number divisible by 2 and 3\n",
        "if x%2==0:\n",
        "    if x%3==0:\n",
        "        print('divisible by 2 and 3')\n",
        "    else:\n",
        "        print('divisible by 2 and not 3')\n",
        "elif x%3==0:\n",
        "    print('divisible by 3 and not 2')"
      ]
    },
    {
      "cell_type": "markdown",
      "metadata": {
        "id": "sEfpluGBRD90"
      },
      "source": [
        "- You mustn't use else without a preceding if;\n",
        "- **else** is always the last branch of the cascade, regardless of whether you've used elif or not;\n",
        "- **else** is an optional part of the cascade, and may be omitted;\n",
        "- If there is an else branch in the cascade, only one of all the branches is executed;\n",
        "- If there is no else branch, it's possible that none of the available branches is executed"
      ]
    },
    {
      "cell_type": "code",
      "execution_count": null,
      "metadata": {
        "colab": {
          "base_uri": "https://localhost:8080/"
        },
        "id": "guxhppHAP6aq",
        "outputId": "ddbeeecd-9ff6-4825-cb25-f4b4d1147375"
      },
      "outputs": [
        {
          "name": "stdout",
          "output_type": "stream",
          "text": [
            "Enter the first number: 5\n",
            "Enter the second number: 2\n",
            "The larger number is: 5\n"
          ]
        }
      ],
      "source": [
        "# Read two numbers\n",
        "number1 = int(input(\"Enter the first number: \"))\n",
        "number2 = int(input(\"Enter the second number: \"))\n",
        "\n",
        "## if body is one line i can write after colon\n",
        "# Choose the larger number\n",
        "if number1 > number2: larger_number = number1\n",
        "else: larger_number = number2\n",
        "\n",
        "# Print the result\n",
        "print(\"The larger number is:\", larger_number)\n"
      ]
    },
    {
      "cell_type": "code",
      "execution_count": null,
      "metadata": {
        "id": "9EB1l417Rv_r"
      },
      "outputs": [],
      "source": [
        "weight = 60\n",
        "height = 160\n",
        "if 18.5 <= weight / height**2 < 25:\n",
        "    print(\"BMI is considered 'normal'\")"
      ]
    },
    {
      "cell_type": "markdown",
      "metadata": {
        "id": "cMApzZdzVZmk"
      },
      "source": [
        "## while loop"
      ]
    },
    {
      "cell_type": "code",
      "execution_count": null,
      "metadata": {
        "colab": {
          "base_uri": "https://localhost:8080/"
        },
        "id": "4SIM8RyqWiMS",
        "outputId": "501bfbfc-c7c7-413d-b742-43ee687f2f1f"
      },
      "outputs": [
        {
          "name": "stdout",
          "output_type": "stream",
          "text": [
            "1\n",
            "2\n",
            "3\n",
            "4\n",
            "5\n"
          ]
        }
      ],
      "source": [
        "n=0\n",
        "while n<5:\n",
        "    n=n+1\n",
        "    print(n)\n"
      ]
    },
    {
      "cell_type": "markdown",
      "metadata": {
        "id": "VnHEb87eWPPy"
      },
      "source": [
        "#### exercise\n",
        "- A program that reads a sequence of numbers\n",
        "- and counts how many numbers are even and how many are odd.\n",
        "- The program terminates when zero is entered."
      ]
    },
    {
      "cell_type": "code",
      "execution_count": null,
      "metadata": {
        "cellView": "form",
        "id": "ONAH-7fmTS88"
      },
      "outputs": [],
      "source": [
        "#@title solution\n",
        "#@markdown\n",
        "# A program that reads a sequence of numbers\n",
        "# and counts how many numbers are even and how many are odd.\n",
        "# The program terminates when zero is entered.\n",
        "\n",
        "odd_numbers = 0\n",
        "even_numbers = 0\n",
        "\n",
        "# Read the first number.\n",
        "number = int(input(\"Enter a number or type 0 to stop: \"))\n",
        "\n",
        "# 0 terminates execution.\n",
        "while number != 0:\n",
        "    # Check if the number is odd.\n",
        "    if number % 2 == 1:\n",
        "        # Increase the odd_numbers counter.\n",
        "        odd_numbers += 1\n",
        "    else:\n",
        "        # Increase the even_numbers counter.\n",
        "        even_numbers += 1\n",
        "    # Read the next number.\n",
        "    number = int(input(\"Enter a number or type 0 to stop: \"))\n",
        "\n",
        "# Print results.\n",
        "print(\"Odd numbers count:\", odd_numbers)\n",
        "print(\"Even numbers count:\", even_numbers)"
      ]
    },
    {
      "cell_type": "markdown",
      "metadata": {
        "id": "eZ8cvKPRW9tg"
      },
      "source": [
        "## For Loops"
      ]
    },
    {
      "cell_type": "code",
      "execution_count": null,
      "metadata": {
        "colab": {
          "base_uri": "https://localhost:8080/"
        },
        "id": "DUAXSvneU2Dj",
        "outputId": "f65da6a1-b218-4b2d-a005-35e7a3836afa"
      },
      "outputs": [
        {
          "name": "stdout",
          "output_type": "stream",
          "text": [
            "0\n",
            "1\n",
            "2\n",
            "3\n",
            "4\n"
          ]
        }
      ],
      "source": [
        "# n like counter\n",
        "\n",
        "\n",
        "#range(start, stop, step)\n",
        "\n",
        "for n in range(5):\n",
        "    print (n)"
      ]
    },
    {
      "cell_type": "code",
      "execution_count": null,
      "metadata": {
        "colab": {
          "base_uri": "https://localhost:8080/"
        },
        "id": "dFkpsHnPXPH4",
        "outputId": "40a4a9c9-2e10-47b2-f747-f48d846a22b3"
      },
      "outputs": [
        {
          "name": "stdout",
          "output_type": "stream",
          "text": [
            "5\n",
            "10\n",
            "15\n",
            "20\n",
            "25\n"
          ]
        }
      ],
      "source": [
        "for n in range(5, 30 , 5):\n",
        "    print (n)"
      ]
    },
    {
      "cell_type": "markdown",
      "metadata": {
        "id": "z6ihGmPEYfY3"
      },
      "source": [
        "Note: the set generated by the range() has to be sorted in ascending order. <br>There's no way to force the range() to create a set in a different form when the range() function accepts exactly two arguments. This means that the range()'s second argument must be greater than the first"
      ]
    },
    {
      "cell_type": "code",
      "execution_count": null,
      "metadata": {
        "id": "cY_zkVNzX0Dz"
      },
      "outputs": [],
      "source": [
        "for i in range(1,1):\n",
        "  print(i)"
      ]
    },
    {
      "cell_type": "code",
      "execution_count": null,
      "metadata": {
        "id": "fem_spTyYI1h"
      },
      "outputs": [],
      "source": [
        "for i in range(10,1):\n",
        "  print(i)"
      ]
    },
    {
      "cell_type": "code",
      "execution_count": null,
      "metadata": {
        "id": "r2HBJ3kxYOXk"
      },
      "outputs": [],
      "source": [
        "for i in range(5, 1):\n",
        "    print(\"The value of i is currently\", i)\n"
      ]
    },
    {
      "cell_type": "code",
      "execution_count": null,
      "metadata": {
        "id": "0huKiabPZEAZ"
      },
      "outputs": [],
      "source": [
        "for i in range(1, 5, -1):\n",
        "    print(\"The value of i is currently\", i)"
      ]
    },
    {
      "cell_type": "code",
      "execution_count": null,
      "metadata": {
        "colab": {
          "base_uri": "https://localhost:8080/"
        },
        "id": "GC48ztqAYVir",
        "outputId": "33c6daf8-fb66-411d-9624-a596be65f250"
      },
      "outputs": [
        {
          "name": "stdout",
          "output_type": "stream",
          "text": [
            "The value of i is currently 5\n",
            "The value of i is currently 4\n",
            "The value of i is currently 3\n",
            "The value of i is currently 2\n"
          ]
        }
      ],
      "source": [
        "for i in range(5, 1, -1):\n",
        "    print(\"The value of i is currently\", i)\n"
      ]
    },
    {
      "cell_type": "markdown",
      "metadata": {
        "id": "j0Cyq4V0Yzfc"
      },
      "source": [
        "### break and continue statements"
      ]
    },
    {
      "cell_type": "markdown",
      "metadata": {
        "id": "RO_0yWglZyRH"
      },
      "source": [
        "**break** - exits the loop immediately, and unconditionally ends the loop's operation; the program begins to execute the nearest instruction after the loop's body <br>\n",
        "**continue** - behaves as if the program has suddenly reached the end of the body; the next turn is started and the condition expression is tested immediately."
      ]
    },
    {
      "cell_type": "code",
      "execution_count": null,
      "metadata": {
        "colab": {
          "base_uri": "https://localhost:8080/"
        },
        "id": "nRLbpH6hYoAL",
        "outputId": "bdf075cd-fd20-4f7d-94af-366873ede2d3"
      },
      "outputs": [
        {
          "name": "stdout",
          "output_type": "stream",
          "text": [
            "4\n"
          ]
        }
      ],
      "source": [
        "#break\n",
        "sum=0\n",
        "for i in range(4,10,2):\n",
        "    sum+=i\n",
        "    if sum == 4:\n",
        "        break\n",
        "print(sum)"
      ]
    },
    {
      "cell_type": "code",
      "execution_count": null,
      "metadata": {
        "colab": {
          "base_uri": "https://localhost:8080/"
        },
        "id": "piirD5LaZiP5",
        "outputId": "58e230f7-9c7a-4ea9-965b-ef2b4021e3a4"
      },
      "outputs": [
        {
          "name": "stdout",
          "output_type": "stream",
          "text": [
            "Current variable value : 1\n",
            "Current variable value : 2\n",
            "Current variable value : 3\n",
            "Current variable value : 4\n",
            "Current variable value : 6\n",
            "Current variable value : 7\n",
            "Current variable value : 8\n",
            "Current variable value : 9\n",
            "Current variable value : 10\n",
            "Good bye!\n"
          ]
        }
      ],
      "source": [
        "# continue\n",
        "for var in range(10):\n",
        "   var +=1\n",
        "   if var == 5:\n",
        "      continue\n",
        "   print ('Current variable value :', var)\n",
        "\n",
        "print (\"Good bye!\")"
      ]
    },
    {
      "cell_type": "code",
      "execution_count": null,
      "metadata": {
        "colab": {
          "base_uri": "https://localhost:8080/"
        },
        "id": "4nAGcOxNbtSq",
        "outputId": "e1965491-8e31-4529-e0b2-3938e17611ba"
      },
      "outputs": [
        {
          "name": "stdout",
          "output_type": "stream",
          "text": [
            "yy\n",
            "Monica\n",
            "Cll\n",
            "jj\n"
          ]
        }
      ],
      "source": [
        "names = [\"yy\", \"Monica\", \"Cll\", \"jj\"]\n",
        "for i in names:\n",
        "  print(i)"
      ]
    },
    {
      "cell_type": "code",
      "execution_count": null,
      "metadata": {
        "colab": {
          "base_uri": "https://localhost:8080/"
        },
        "id": "HONxItXZb2CQ",
        "outputId": "14c49279-43b3-4a43-da74-974d647cea6d"
      },
      "outputs": [
        {
          "output_type": "stream",
          "name": "stdout",
          "text": [
            "M\n",
            "o\n",
            "h\n",
            "a\n",
            "m\n",
            "e\n",
            "d\n"
          ]
        }
      ],
      "source": [
        "name = \"Mohamed\"\n",
        "for i in name:\n",
        "  print(i)"
      ]
    },
    {
      "cell_type": "code",
      "execution_count": null,
      "metadata": {
        "colab": {
          "base_uri": "https://localhost:8080/"
        },
        "id": "m9VnHoSmclKs",
        "outputId": "55a32a5c-4c9d-4619-abcb-5bb67622d1ca"
      },
      "outputs": [
        {
          "name": "stdout",
          "output_type": "stream",
          "text": [
            "0\n",
            "1\n",
            "2\n",
            "3\n",
            "4\n",
            "else: 4\n"
          ]
        }
      ],
      "source": [
        "#for loop and the else branch\n",
        "#i = 111\n",
        "for i in range(0, 5):\n",
        "    print(i)\n",
        "else:\n",
        "    print(\"else:\", i)  # no break\n",
        "\n"
      ]
    },
    {
      "cell_type": "code",
      "execution_count": null,
      "metadata": {
        "colab": {
          "base_uri": "https://localhost:8080/"
        },
        "id": "_5Wq4DFAdgdE",
        "outputId": "e08d5c5a-84aa-4779-896e-d5dc858421b0"
      },
      "outputs": [
        {
          "name": "stdout",
          "output_type": "stream",
          "text": [
            "0\n",
            "1\n",
            "2\n",
            "3\n",
            "4\n",
            "5\n"
          ]
        }
      ],
      "source": [
        "#i = 111\n",
        "for i in range(0, 8):\n",
        "    print(i)\n",
        "    if i == 5:\n",
        "      break\n",
        "else:\n",
        "    print(\"else:\", i)\n"
      ]
    },
    {
      "cell_type": "markdown",
      "metadata": {
        "id": "oLX0AbG1eaA5"
      },
      "source": [
        "## Logical expressions (3.3.1.2)"
      ]
    },
    {
      "cell_type": "markdown",
      "metadata": {
        "id": "GY_CHooce8WU"
      },
      "source": [
        "- & requires exactly two 1s to provide 1 as the result;\n",
        "- | requires at least one 1 to provide 1 as the result;\n",
        "- ~ (tilde) - bitwise negation;\n",
        "- ^ requires exactly one 1 to provide 1 as the result.  --> (Xor)\n",
        "- />> bitwise right shift\n",
        "- /<< bitwise left shift\n",
        "\n"
      ]
    },
    {
      "cell_type": "markdown",
      "metadata": {
        "id": "WRkOA9VjfQ3f"
      },
      "source": [
        "![image.png](data:image/png;base64,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)"
      ]
    },
    {
      "cell_type": "code",
      "execution_count": null,
      "metadata": {
        "colab": {
          "base_uri": "https://localhost:8080/"
        },
        "id": "sf51qxA4hqQu",
        "outputId": "3ca80500-418d-491c-b0bc-e54fad12f742"
      },
      "outputs": [
        {
          "output_type": "stream",
          "name": "stdout",
          "text": [
            "0 5 5\n"
          ]
        }
      ],
      "source": [
        "x = 4\n",
        "y = 1\n",
        "\n",
        "a = x & y\n",
        "b = x | y\n",
        "c = x ^ y\n",
        "print(a,b,c)"
      ]
    },
    {
      "cell_type": "markdown",
      "metadata": {
        "id": "OaENtq7DgXCj"
      },
      "source": [
        "## left shift and binary right shift"
      ]
    },
    {
      "cell_type": "code",
      "execution_count": null,
      "metadata": {
        "colab": {
          "base_uri": "https://localhost:8080/"
        },
        "id": "BgeDzRQDfDSf",
        "outputId": "93ecc1d4-881a-4a43-fd5a-d6e39dc60d96"
      },
      "outputs": [
        {
          "name": "stdout",
          "output_type": "stream",
          "text": [
            "17 68 8\n"
          ]
        }
      ],
      "source": [
        "#17 // 2**1 (right shifting)\n",
        "#17 * 2**2  (lef shifting)\n",
        "var = 17\n",
        "var_right = var >> 1\n",
        "var_left = var << 2\n",
        "print(var, var_left, var_right)\n"
      ]
    },
    {
      "cell_type": "markdown",
      "metadata": {
        "id": "fuyQViNIh0Lj"
      },
      "source": [
        " ## lists\n",
        "- list starts with an open square bracket and ends with a closed square bracket\n",
        "- use index to access elements (always numbered starting from zero. )\n",
        "- Mutable can (delete, Add, replace)\n",
        "- May have different data types"
      ]
    },
    {
      "cell_type": "code",
      "execution_count": null,
      "metadata": {
        "colab": {
          "base_uri": "https://localhost:8080/"
        },
        "id": "SHVghPYPgdey",
        "outputId": "aaea8525-f6f8-445b-b76a-f47cec6b04a9"
      },
      "outputs": [
        {
          "data": {
            "text/plain": [
              "['one', 5, 'a', 77, 'b', 'num', 98]"
            ]
          },
          "execution_count": 209,
          "metadata": {},
          "output_type": "execute_result"
        }
      ],
      "source": [
        "my_list=['one',5,'a',77,'b','num',98]\n",
        "my_list"
      ]
    },
    {
      "cell_type": "code",
      "execution_count": null,
      "metadata": {
        "colab": {
          "base_uri": "https://localhost:8080/"
        },
        "id": "fOoE5v7viUTN",
        "outputId": "260b955e-c689-4781-f222-d8f0c290c461"
      },
      "outputs": [
        {
          "data": {
            "text/plain": [
              "list"
            ]
          },
          "execution_count": 210,
          "metadata": {},
          "output_type": "execute_result"
        }
      ],
      "source": [
        "type(my_list)"
      ]
    },
    {
      "cell_type": "code",
      "execution_count": null,
      "metadata": {
        "colab": {
          "base_uri": "https://localhost:8080/"
        },
        "id": "5H8Gtm_riXcc",
        "outputId": "924b4cf3-f9ad-4410-de24-38f5e04bc2f7"
      },
      "outputs": [
        {
          "data": {
            "text/plain": [
              "77"
            ]
          },
          "execution_count": 211,
          "metadata": {},
          "output_type": "execute_result"
        }
      ],
      "source": [
        "my_list[3]"
      ]
    },
    {
      "cell_type": "markdown",
      "metadata": {
        "id": "ux1hV97ZjWl5"
      },
      "source": [
        "### len()\n",
        "- length of a list\n",
        "- lenghth of string"
      ]
    },
    {
      "cell_type": "code",
      "execution_count": null,
      "metadata": {
        "colab": {
          "base_uri": "https://localhost:8080/"
        },
        "id": "BoQP3BTKjozy",
        "outputId": "5f7b07a0-4d68-40aa-e47e-07aafbd89df1"
      },
      "outputs": [
        {
          "data": {
            "text/plain": [
              "7"
            ]
          },
          "execution_count": 213,
          "metadata": {},
          "output_type": "execute_result"
        }
      ],
      "source": [
        "len(\"my_list\")"
      ]
    },
    {
      "cell_type": "markdown",
      "metadata": {
        "id": "r3_NA39Lj5pO"
      },
      "source": [
        "### Removing elements from a list"
      ]
    },
    {
      "cell_type": "code",
      "execution_count": null,
      "metadata": {
        "colab": {
          "base_uri": "https://localhost:8080/"
        },
        "id": "vhmmZFB9j1IS",
        "outputId": "8aaf2094-31b5-43f7-c893-2741e769cca7"
      },
      "outputs": [
        {
          "name": "stdout",
          "output_type": "stream",
          "text": [
            "5\n",
            "4\n"
          ]
        }
      ],
      "source": [
        "numbers = [10, 5, 7, 2, 1]\n",
        "print(len(numbers))\n",
        "del numbers[2]\n",
        "print(len(numbers))"
      ]
    },
    {
      "cell_type": "code",
      "execution_count": null,
      "metadata": {
        "colab": {
          "base_uri": "https://localhost:8080/"
        },
        "id": "FA2QghYMmOdb",
        "outputId": "a2ba96ff-128b-45e2-811d-6cc5937b1f89"
      },
      "outputs": [
        {
          "data": {
            "text/plain": [
              "[10, 5, 2, 1]"
            ]
          },
          "execution_count": 18,
          "metadata": {},
          "output_type": "execute_result"
        }
      ],
      "source": [
        "numbers"
      ]
    },
    {
      "cell_type": "code",
      "execution_count": null,
      "metadata": {
        "colab": {
          "base_uri": "https://localhost:8080/"
        },
        "id": "mHX7JeWokIoS",
        "outputId": "06fc1d12-d3d7-453f-db76-26151cb053a1"
      },
      "outputs": [
        {
          "data": {
            "text/plain": [
              "[]"
            ]
          },
          "execution_count": 19,
          "metadata": {},
          "output_type": "execute_result"
        }
      ],
      "source": [
        "del numbers[:]\n",
        "numbers"
      ]
    },
    {
      "cell_type": "code",
      "execution_count": null,
      "metadata": {
        "colab": {
          "base_uri": "https://localhost:8080/",
          "height": 183
        },
        "id": "7ep7l2m8kPXh",
        "outputId": "07413950-8cea-4cc3-ad75-cd3d2a1c983c"
      },
      "outputs": [
        {
          "ename": "NameError",
          "evalue": "ignored",
          "output_type": "error",
          "traceback": [
            "\u001b[0;31m---------------------------------------------------------------------------\u001b[0m",
            "\u001b[0;31mNameError\u001b[0m                                 Traceback (most recent call last)",
            "\u001b[0;32m<ipython-input-21-ace1044fa32e>\u001b[0m in \u001b[0;36m<module>\u001b[0;34m\u001b[0m\n\u001b[0;32m----> 1\u001b[0;31m \u001b[0;32mdel\u001b[0m \u001b[0mnumbers\u001b[0m\u001b[0;34m\u001b[0m\u001b[0;34m\u001b[0m\u001b[0m\n\u001b[0m\u001b[1;32m      2\u001b[0m \u001b[0mnumbers\u001b[0m\u001b[0;34m\u001b[0m\u001b[0;34m\u001b[0m\u001b[0m\n",
            "\u001b[0;31mNameError\u001b[0m: name 'numbers' is not defined"
          ]
        }
      ],
      "source": [
        "del numbers\n",
        "numbers"
      ]
    },
    {
      "cell_type": "markdown",
      "metadata": {
        "id": "yxpgHTLjkuWi"
      },
      "source": [
        "#### Negative indices\n",
        "list[start:end:step]"
      ]
    },
    {
      "cell_type": "code",
      "execution_count": null,
      "metadata": {
        "colab": {
          "base_uri": "https://localhost:8080/"
        },
        "id": "aKS9k8MmkRV7",
        "outputId": "0c84539e-7199-4561-887a-52fa46ae8c63"
      },
      "outputs": [
        {
          "name": "stdout",
          "output_type": "stream",
          "text": [
            "1\n",
            "2\n",
            "[111, 7, 2]\n"
          ]
        }
      ],
      "source": [
        "numbers = [111, 7, 2, 1]\n",
        "print(numbers[-1])\n",
        "print(numbers[-2])\n",
        "print(numbers[0:3])"
      ]
    },
    {
      "cell_type": "code",
      "execution_count": null,
      "metadata": {
        "colab": {
          "base_uri": "https://localhost:8080/"
        },
        "id": "gpIGuRLJpDzK",
        "outputId": "3f79e93f-eba4-4f11-89b9-f734fb4b5ed4"
      },
      "outputs": [
        {
          "data": {
            "text/plain": [
              "[1, 2, 7, 111]"
            ]
          },
          "execution_count": 240,
          "metadata": {},
          "output_type": "execute_result"
        }
      ],
      "source": [
        "numbers = [111, 7, 2, 1]\n",
        "\n",
        "numbers[::-1]"
      ]
    },
    {
      "cell_type": "code",
      "execution_count": null,
      "metadata": {
        "colab": {
          "base_uri": "https://localhost:8080/"
        },
        "id": "a2xn18JEphYU",
        "outputId": "91a9a289-d61e-424f-94d1-c4cc12f051b5"
      },
      "outputs": [
        {
          "data": {
            "text/plain": [
              "[111, 2]"
            ]
          },
          "execution_count": 243,
          "metadata": {},
          "output_type": "execute_result"
        }
      ],
      "source": [
        "numbers[0:4:2]"
      ]
    },
    {
      "cell_type": "markdown",
      "metadata": {
        "id": "HYV7EUoDlN1q"
      },
      "source": [
        "#### append() and insert() , extend()\n",
        "- Adding elements to a list"
      ]
    },
    {
      "cell_type": "code",
      "execution_count": null,
      "metadata": {
        "colab": {
          "base_uri": "https://localhost:8080/"
        },
        "id": "mX67Y9OIk18b",
        "outputId": "538979e4-1a49-485c-d8e2-5ddbade755d5"
      },
      "outputs": [
        {
          "data": {
            "text/plain": [
              "[111, 7, 2, 1, 5]"
            ]
          },
          "execution_count": 229,
          "metadata": {},
          "output_type": "execute_result"
        }
      ],
      "source": [
        "# append() add at the end of the list  -> ( list_name.append(value) )\n",
        "# insert() can add a new element at any place in the list, not only at the end. --> ( list.insert(location, value) )\n",
        "\n",
        "numbers = [111, 7, 2, 1]\n",
        "numbers.append(5)\n",
        "numbers\n"
      ]
    },
    {
      "cell_type": "code",
      "execution_count": null,
      "metadata": {
        "id": "NFYVAMoll1b1"
      },
      "outputs": [],
      "source": [
        "numbers.insert(2,10)"
      ]
    },
    {
      "cell_type": "code",
      "execution_count": null,
      "metadata": {
        "colab": {
          "base_uri": "https://localhost:8080/"
        },
        "id": "ORmvfPhyl4OH",
        "outputId": "33f61f11-3ea0-46f1-b525-d69834b5d47f"
      },
      "outputs": [
        {
          "data": {
            "text/plain": [
              "[111, 7, 10, 2, 1, 5]"
            ]
          },
          "execution_count": 233,
          "metadata": {},
          "output_type": "execute_result"
        }
      ],
      "source": [
        "numbers"
      ]
    },
    {
      "cell_type": "code",
      "execution_count": null,
      "metadata": {
        "colab": {
          "base_uri": "https://localhost:8080/"
        },
        "id": "wVHv4t09Clkf",
        "outputId": "6463edf6-8b01-4b3c-847e-c8024517e5d1"
      },
      "outputs": [
        {
          "name": "stdout",
          "output_type": "stream",
          "text": [
            "['a', 'b', ['c', ['d', 'e', ['f', 'g', 'h', 'i', 'j'], 'k'], 'l'], 'm', 'n']\n"
          ]
        }
      ],
      "source": [
        "#extend()\n",
        "\n",
        "list1 = [\"a\", \"b\", [\"c\", [\"d\", \"e\", [\"f\", \"g\"], \"k\"], \"l\"], \"m\", \"n\"]\n",
        "sub_list = [\"h\", \"i\", \"j\"]\n",
        "\n",
        "# understand indexing\n",
        "# list1[2] = ['c', ['d', 'e', ['f', 'g'], 'k'], 'l']\n",
        "# list1[2][1] = ['d', 'e', ['f', 'g'], 'k']\n",
        "# list1[2][1][2] = ['f', 'g']\n",
        "\n",
        "# solution\n",
        "list1[2][1][2].extend(sub_list)\n",
        "print(list1)"
      ]
    },
    {
      "cell_type": "markdown",
      "metadata": {
        "id": "39cfzPi5mHDJ"
      },
      "source": [
        "**exercise:** <br>\n",
        "- create list with names ex: \"Any name\"\n",
        "- Use the .replace() method to replace the spaces with underscores.\n",
        "- Add it to another list\n"
      ]
    },
    {
      "cell_type": "code",
      "execution_count": null,
      "metadata": {
        "cellView": "code",
        "colab": {
          "base_uri": "https://localhost:8080/"
        },
        "id": "bYYCEBTwaRf1",
        "outputId": "9ed32559-ecb2-47b0-b104-52db83f70466"
      },
      "outputs": [
        {
          "output_type": "stream",
          "name": "stdout",
          "text": [
            "['Joey_Tribbiani', 'Monica_Geller', 'Chandler_Bing', 'Phoebe_Buffay']\n"
          ]
        }
      ],
      "source": [
        "#@title sol\n",
        "names = [\"Joey Tribbiani\", \"Monica Geller\", \"Chandler Bing\", \"Phoebe Buffay\"]\n",
        "usernames = []\n",
        "\n",
        "# write your for loop here\n",
        "for i in names:\n",
        "    usernames.append((i.replace(\" \",\"_\")))\n",
        "\n",
        "print(usernames)"
      ]
    },
    {
      "cell_type": "markdown",
      "metadata": {
        "id": "jQhH4szqnRVA"
      },
      "source": [
        "**exercise:** <br>\n",
        "- create list contain numbers\n",
        "- check prime number\n"
      ]
    },
    {
      "cell_type": "code",
      "execution_count": null,
      "metadata": {
        "colab": {
          "base_uri": "https://localhost:8080/"
        },
        "id": "mekJ9rlLl-kO",
        "outputId": "d614b2c0-f8e1-4bec-c563-0c0d4ed86bc8"
      },
      "outputs": [
        {
          "name": "stdout",
          "output_type": "stream",
          "text": [
            "26 is NOT a prime number, because 2 is a factor of 26\n",
            "39 is NOT a prime number, because 3 is a factor of 39\n",
            "51 is NOT a prime number, because 3 is a factor of 51\n",
            "53 IS a prime number\n",
            "57 is NOT a prime number, because 3 is a factor of 57\n",
            "79 IS a prime number\n",
            "85 is NOT a prime number, because 5 is a factor of 85\n"
          ]
        }
      ],
      "source": [
        "check_prime = [26, 39, 51, 53, 57, 79, 85]\n",
        "for num in check_prime:\n",
        "\n",
        "    for i in range (2,num):\n",
        "\n",
        "        if (num % i) == 0:\n",
        "            print(\"{} is NOT a prime number, because {} is a factor of {}\".format(num,i,num))\n",
        "            break\n",
        "\n",
        "        if i == num -1:\n",
        "            print(\"{} IS a prime number\".format(num))"
      ]
    },
    {
      "cell_type": "code",
      "execution_count": null,
      "metadata": {
        "colab": {
          "base_uri": "https://localhost:8080/"
        },
        "id": "-tix42_RnmD-",
        "outputId": "d64f074b-b7dc-43c1-c4f6-719ffa8d2f16"
      },
      "outputs": [
        {
          "name": "stdout",
          "output_type": "stream",
          "text": [
            "27\n"
          ]
        }
      ],
      "source": [
        "my_list = [10, 1, 8, 3, 5]\n",
        "total = 0\n",
        "\n",
        "for i in range(len(my_list)):\n",
        "    total += my_list[i]\n",
        "\n",
        "print(total)\n"
      ]
    },
    {
      "cell_type": "code",
      "execution_count": null,
      "metadata": {
        "colab": {
          "base_uri": "https://localhost:8080/"
        },
        "id": "Ly-jkoWpn7Ip",
        "outputId": "198e16e8-999b-4407-df2f-15a3502861cf"
      },
      "outputs": [
        {
          "name": "stdout",
          "output_type": "stream",
          "text": [
            "27\n"
          ]
        }
      ],
      "source": [
        "total = 0\n",
        "for i in my_list:\n",
        "  total+=i\n",
        "print(total)\n"
      ]
    },
    {
      "cell_type": "code",
      "execution_count": null,
      "metadata": {
        "id": "i01_7kOYoGHw"
      },
      "outputs": [],
      "source": [
        "my_list = [10, 1, 8, 3, 5]\n",
        "\n",
        "my_list[0], my_list[4] = my_list[4], my_list[0]\n",
        "my_list[1], my_list[3] = my_list[3], my_list[1]\n"
      ]
    },
    {
      "cell_type": "code",
      "execution_count": null,
      "metadata": {
        "colab": {
          "base_uri": "https://localhost:8080/"
        },
        "id": "vluMDPNeofx-",
        "outputId": "11aff7d3-086c-4e8f-af3a-20b60234424e"
      },
      "outputs": [
        {
          "data": {
            "text/plain": [
              "[5, 3, 8, 1, 10]"
            ]
          },
          "execution_count": 238,
          "metadata": {},
          "output_type": "execute_result"
        }
      ],
      "source": [
        "my_list"
      ]
    },
    {
      "cell_type": "code",
      "execution_count": null,
      "metadata": {
        "colab": {
          "base_uri": "https://localhost:8080/"
        },
        "id": "OauH3ExRoiiX",
        "outputId": "d22437de-86d1-46a9-8de0-bae45f710086"
      },
      "outputs": [
        {
          "name": "stdout",
          "output_type": "stream",
          "text": [
            "[5, 3, 8, 1, 10]\n"
          ]
        }
      ],
      "source": [
        "my_list = [10, 1, 8, 3, 5]\n",
        "length = len(my_list)\n",
        "\n",
        "for i in range(length // 2):\n",
        "    my_list[i], my_list[length - i - 1] = my_list[length - i - 1], my_list[i]\n",
        "\n",
        "print(my_list)"
      ]
    },
    {
      "cell_type": "markdown",
      "metadata": {
        "id": "HxJ50D5Dpvj3"
      },
      "source": [
        "**exercises**\n",
        "\n",
        "\n",
        "1.   Write a Python program to get the largest number from a list.\n",
        "2.   Write a Python program to remove duplicates from a list.\n",
        "3.   Takes two lists and returns True if they have at least one common member\n",
        "\n"
      ]
    },
    {
      "cell_type": "code",
      "execution_count": null,
      "metadata": {
        "id": "j7tA6H1XtGOm"
      },
      "outputs": [],
      "source": [
        "#@title 1\n",
        "# list of numbers\n",
        "list1 = [10, 20, 4, 45, 99]\n",
        "\n",
        "# sorting the list\n",
        "list1.sort()\n",
        "list1[-1]"
      ]
    },
    {
      "cell_type": "code",
      "execution_count": null,
      "metadata": {
        "colab": {
          "base_uri": "https://localhost:8080/"
        },
        "id": "ClK3FmX6teXT",
        "outputId": "1a7d43ea-768e-451a-fe54-ee8f6ede5f09"
      },
      "outputs": [
        {
          "name": "stdout",
          "output_type": "stream",
          "text": [
            "[2, 4, 10, 20, 5]\n"
          ]
        }
      ],
      "source": [
        "#@title 2\n",
        "duplicate = [2, 4, 10, 20, 5, 2, 20, 4]\n",
        "final_list = []\n",
        "for num in duplicate:\n",
        "    if num not in final_list:\n",
        "      final_list.append(num)\n",
        "print(final_list)"
      ]
    },
    {
      "cell_type": "code",
      "execution_count": null,
      "metadata": {
        "id": "HfySFM6zouth"
      },
      "outputs": [],
      "source": [
        "#@title #3\n",
        "nums = [10, 20, 30, 40, 50, 60]\n",
        "lsts = [22, 42]\n",
        "\n",
        "flag = False\n",
        "for x in lsts:\n",
        "  if x in nums:\n",
        "    flag = True\n",
        "    print(\"common number\")\n",
        "    break;\n",
        "if flag == False:\n",
        "  print(\"no common\")"
      ]
    },
    {
      "cell_type": "markdown",
      "metadata": {
        "id": "Kkgj1ql0umoi"
      },
      "source": [
        "### Sorting a list"
      ]
    },
    {
      "cell_type": "code",
      "execution_count": null,
      "metadata": {
        "colab": {
          "base_uri": "https://localhost:8080/"
        },
        "id": "MMfqcwTSu75H",
        "outputId": "36b3c084-b059-48b0-c4f4-9b0220ae1d8b"
      },
      "outputs": [
        {
          "output_type": "stream",
          "name": "stdout",
          "text": [
            "[2, 4, 6, 8, 10]\n"
          ]
        }
      ],
      "source": [
        "my_list = [8, 10, 6, 2, 4]  # list to sort\n",
        "swapped = True  # It's a little fake, we need it to enter the while loop.\n",
        "\n",
        "while swapped:\n",
        "    swapped = False  # no swaps so far\n",
        "    for i in range(len(my_list) - 1):\n",
        "        if my_list[i] > my_list[i + 1]:\n",
        "            swapped = True  # a swap occurred!\n",
        "            my_list[i], my_list[i + 1] = my_list[i + 1], my_list[i]\n",
        "\n",
        "print(my_list)\n"
      ]
    },
    {
      "cell_type": "code",
      "execution_count": null,
      "metadata": {
        "colab": {
          "base_uri": "https://localhost:8080/"
        },
        "id": "pgXbvo7hvTT5",
        "outputId": "52656dbf-996a-4348-deee-2a19a0c20e86"
      },
      "outputs": [
        {
          "name": "stdout",
          "output_type": "stream",
          "text": [
            "[2, 4, 6, 8, 10]\n"
          ]
        }
      ],
      "source": [
        "my_list = [8, 10, 6, 2, 4]\n",
        "my_list.sort()\n",
        "print(my_list)"
      ]
    },
    {
      "cell_type": "markdown",
      "metadata": {
        "id": "oKbc9z3kvmS7"
      },
      "source": [
        "### The inner life of lists"
      ]
    },
    {
      "cell_type": "code",
      "execution_count": null,
      "metadata": {
        "colab": {
          "base_uri": "https://localhost:8080/"
        },
        "id": "eT1knuoOvY4D",
        "outputId": "b795f53b-e4d8-42b9-8cc1-ca140686940f"
      },
      "outputs": [
        {
          "name": "stdout",
          "output_type": "stream",
          "text": [
            "[2]\n"
          ]
        }
      ],
      "source": [
        "#list1 =[10,20,12,15,11]\n",
        "list_1 = [1]\n",
        "\n",
        "# will have the same memory adress\n",
        "list_2 = list_1\n",
        "list_1[0] = 2\n",
        "print(list_2)\n"
      ]
    },
    {
      "cell_type": "code",
      "execution_count": null,
      "metadata": {
        "colab": {
          "base_uri": "https://localhost:8080/"
        },
        "id": "G8cPgVLfv7f8",
        "outputId": "aac601c5-5fd8-43e8-fd2c-96c76f673fe5"
      },
      "outputs": [
        {
          "name": "stdout",
          "output_type": "stream",
          "text": [
            "[1]\n"
          ]
        }
      ],
      "source": [
        "# I get copy (now, not the same)\n",
        "list_1 = [1]\n",
        "list_2 = list_1[:]\n",
        "list_1[0] = 2\n",
        "print(list_2)\n"
      ]
    },
    {
      "cell_type": "code",
      "execution_count": null,
      "metadata": {
        "colab": {
          "base_uri": "https://localhost:8080/"
        },
        "id": "cy4OSHz0waak",
        "outputId": "e4a7516a-52f9-4ee1-ea2b-35ab533f9c88"
      },
      "outputs": [
        {
          "name": "stdout",
          "output_type": "stream",
          "text": [
            "[1]\n"
          ]
        }
      ],
      "source": [
        "# Copying the list\n",
        "list_1 = [1]\n",
        "list_2 = list_1.copy()\n",
        "list_1[0] = 2\n",
        "print(list_2)\n"
      ]
    },
    {
      "cell_type": "markdown",
      "metadata": {
        "id": "inTqMzy4yCWI"
      },
      "source": [
        "### in and not in operators"
      ]
    },
    {
      "cell_type": "code",
      "execution_count": null,
      "metadata": {
        "colab": {
          "base_uri": "https://localhost:8080/"
        },
        "id": "fiwPryD8x7w0",
        "outputId": "0e6af3e3-e30c-40ce-94e9-cb8508c28367"
      },
      "outputs": [
        {
          "name": "stdout",
          "output_type": "stream",
          "text": [
            "False\n",
            "True\n",
            "True\n"
          ]
        }
      ],
      "source": [
        "my_list = [0, 3, 12, 8, 2]\n",
        "\n",
        "print(5 in my_list)\n",
        "print(5 not in my_list)\n",
        "print(12 in my_list)"
      ]
    },
    {
      "cell_type": "code",
      "execution_count": null,
      "metadata": {
        "colab": {
          "base_uri": "https://localhost:8080/"
        },
        "id": "gqnE62hWyG9d",
        "outputId": "bc0fca0a-ac31-473b-fe6b-77bed84250dd"
      },
      "outputs": [
        {
          "name": "stdout",
          "output_type": "stream",
          "text": [
            "exist\n"
          ]
        }
      ],
      "source": [
        "if 3 in my_list:\n",
        "  print(\"exist\")\n",
        "else:\n",
        "  print(\"not exist\")"
      ]
    },
    {
      "cell_type": "markdown",
      "metadata": {
        "id": "Nfh9DT3pyv2f"
      },
      "source": [
        "**exercise**\n",
        "- find the location of a given element inside a list:"
      ]
    },
    {
      "cell_type": "code",
      "execution_count": null,
      "metadata": {
        "id": "aMDHfZCryfIv",
        "colab": {
          "base_uri": "https://localhost:8080/"
        },
        "outputId": "68d619e8-f662-4192-ff43-ee7423eadc57"
      },
      "outputs": [
        {
          "output_type": "stream",
          "name": "stdout",
          "text": [
            "Element found at index 4\n"
          ]
        }
      ],
      "source": [
        "#@title Default title text\n",
        "my_list = [1, 2, 3, 4, 5, 6, 7, 8, 9, 10]\n",
        "to_find = 5\n",
        "found = False\n",
        "\n",
        "for i in range(len(my_list)):\n",
        "    found = my_list[i] == to_find\n",
        "    if found:\n",
        "        break\n",
        "\n",
        "if found:\n",
        "    print(\"Element found at index\", i)\n",
        "else:\n",
        "    print(\"absent\")"
      ]
    },
    {
      "cell_type": "markdown",
      "metadata": {
        "id": "8BcBRZwqzJcR"
      },
      "source": [
        "### Lists in lists"
      ]
    },
    {
      "cell_type": "code",
      "execution_count": null,
      "metadata": {
        "id": "PM2L9WdzzTUR"
      },
      "outputs": [],
      "source": [
        "row = [i for i in range(8)]"
      ]
    },
    {
      "cell_type": "code",
      "execution_count": null,
      "metadata": {
        "colab": {
          "base_uri": "https://localhost:8080/"
        },
        "id": "oou3SzHYzZ2s",
        "outputId": "c30f4c8e-45d3-4907-e849-0013561d1162"
      },
      "outputs": [
        {
          "data": {
            "text/plain": [
              "[0, 1, 2, 3, 4, 5, 6, 7]"
            ]
          },
          "execution_count": 285,
          "metadata": {},
          "output_type": "execute_result"
        }
      ],
      "source": [
        "row"
      ]
    },
    {
      "cell_type": "code",
      "execution_count": null,
      "metadata": {
        "colab": {
          "base_uri": "https://localhost:8080/"
        },
        "id": "2VCdBOcHzbNN",
        "outputId": "9798ab35-ff55-46ae-fb56-d94a44125d84"
      },
      "outputs": [
        {
          "output_type": "execute_result",
          "data": {
            "text/plain": [
              "[0, 1, 4, 9, 16, 25, 36, 49, 64, 81]"
            ]
          },
          "metadata": {},
          "execution_count": 6
        }
      ],
      "source": [
        "squares = [x ** 2 for x in range(10)]\n",
        "squares"
      ]
    },
    {
      "cell_type": "code",
      "execution_count": null,
      "metadata": {
        "colab": {
          "base_uri": "https://localhost:8080/"
        },
        "id": "e9PD7nf2zfEV",
        "outputId": "0a15f8d1-9b9c-4807-c1eb-63bfa4d39405"
      },
      "outputs": [
        {
          "output_type": "execute_result",
          "data": {
            "text/plain": [
              "[1, 9, 25, 49, 81]"
            ]
          },
          "metadata": {},
          "execution_count": 8
        }
      ],
      "source": [
        "odds = [x for x in squares if x % 2 != 0 ]\n",
        "odds"
      ]
    },
    {
      "cell_type": "code",
      "execution_count": null,
      "metadata": {
        "id": "p7h9wEWOznMZ"
      },
      "outputs": [],
      "source": [
        "# you will get a syntax error doing this.\n",
        "#squares = [x**2 for x in range(9) if x % 2 == 0 else x + 3]\n",
        "#squares"
      ]
    },
    {
      "cell_type": "code",
      "execution_count": null,
      "metadata": {
        "colab": {
          "base_uri": "https://localhost:8080/"
        },
        "id": "HW3Ekn8hz7Vs",
        "outputId": "01d48088-d213-40e4-9410-8d739926dbdd"
      },
      "outputs": [
        {
          "data": {
            "text/plain": [
              "[0, 4, 4, 6, 16, 8, 36, 10, 64]"
            ]
          },
          "execution_count": 292,
          "metadata": {},
          "output_type": "execute_result"
        }
      ],
      "source": [
        "# you have to move the conditionals to the beginning of the listcomp, right after the expression, like this.\n",
        "\n",
        "squares = [x**2 if x % 2 == 0 else x + 3 for x in range(9)]\n",
        "squares"
      ]
    },
    {
      "cell_type": "code",
      "execution_count": null,
      "metadata": {
        "colab": {
          "base_uri": "https://localhost:8080/"
        },
        "id": "vEQ4MsGo0U7Q",
        "outputId": "b7fa054a-7090-4170-cc64-0d958076f72a"
      },
      "outputs": [
        {
          "name": "stdout",
          "output_type": "stream",
          "text": [
            "['rick', 'morty', 'summer', 'jerry', 'beth']\n"
          ]
        }
      ],
      "source": [
        "names = [\"Rick Sanchez\", \"Morty Smith\", \"Summer Smith\", \"Jerry Smith\", \"Beth Smith\"]\n",
        "\n",
        "first_names =[x.split(' ')[0].lower() for x in names] # write your list comprehension here\n",
        "print(first_names)"
      ]
    },
    {
      "cell_type": "markdown",
      "metadata": {
        "id": "PRgPQBj50r4P"
      },
      "source": [
        "### two-dimensional arrays"
      ]
    },
    {
      "cell_type": "code",
      "execution_count": null,
      "metadata": {
        "id": "P4olnIiT0ekr"
      },
      "outputs": [],
      "source": [
        "board = []\n",
        "\n",
        "for i in range(8):\n",
        "    row = [i for i in range(10)]\n",
        "    board.append(row)\n",
        "\n"
      ]
    },
    {
      "cell_type": "code",
      "execution_count": null,
      "metadata": {
        "colab": {
          "base_uri": "https://localhost:8080/"
        },
        "id": "xN_nsPtA00Ks",
        "outputId": "19d5891a-f887-4bc0-9b17-c3aaee911a6c"
      },
      "outputs": [
        {
          "output_type": "execute_result",
          "data": {
            "text/plain": [
              "[[0, 1, 2, 3, 4, 5, 6, 7, 8, 9],\n",
              " [0, 1, 2, 3, 4, 5, 6, 7, 8, 9],\n",
              " [0, 1, 2, 3, 4, 5, 6, 7, 8, 9],\n",
              " [0, 1, 2, 3, 4, 5, 6, 7, 8, 9],\n",
              " [0, 1, 2, 3, 4, 5, 6, 7, 8, 9],\n",
              " [0, 1, 2, 3, 4, 5, 6, 7, 8, 9],\n",
              " [0, 1, 2, 3, 4, 5, 6, 7, 8, 9],\n",
              " [0, 1, 2, 3, 4, 5, 6, 7, 8, 9]]"
            ]
          },
          "metadata": {},
          "execution_count": 10
        }
      ],
      "source": [
        "board"
      ]
    },
    {
      "cell_type": "code",
      "execution_count": null,
      "metadata": {
        "id": "ztUkeWDY02M6"
      },
      "outputs": [],
      "source": [
        "board = [[i for i in range(10)] for j in range(8)]"
      ]
    },
    {
      "cell_type": "code",
      "execution_count": null,
      "metadata": {
        "colab": {
          "base_uri": "https://localhost:8080/"
        },
        "id": "9F1lRBenpTQs",
        "outputId": "2b44e7bd-e045-4733-9da3-cc36cb4245a3"
      },
      "outputs": [
        {
          "output_type": "execute_result",
          "data": {
            "text/plain": [
              "[[0, 1, 2, 3, 4, 5, 6, 7, 8, 9],\n",
              " [0, 1, 2, 3, 4, 5, 6, 7, 8, 9],\n",
              " [0, 1, 2, 3, 4, 5, 6, 7, 8, 9],\n",
              " [0, 1, 2, 3, 4, 5, 6, 7, 8, 9],\n",
              " [0, 1, 2, 3, 4, 5, 6, 7, 8, 9],\n",
              " [0, 1, 2, 3, 4, 5, 6, 7, 8, 9],\n",
              " [0, 1, 2, 3, 4, 5, 6, 7, 8, 9],\n",
              " [0, 1, 2, 3, 4, 5, 6, 7, 8, 9]]"
            ]
          },
          "metadata": {},
          "execution_count": 12
        }
      ],
      "source": [
        "board"
      ]
    },
    {
      "cell_type": "code",
      "execution_count": null,
      "metadata": {
        "id": "8sJexM-o09qv"
      },
      "outputs": [],
      "source": [
        "import numpy as np\n",
        "array=np.arange(30,71,2)"
      ]
    },
    {
      "cell_type": "code",
      "execution_count": null,
      "metadata": {
        "colab": {
          "base_uri": "https://localhost:8080/"
        },
        "id": "z1mS76aB6oaX",
        "outputId": "1e4170c2-6e9d-4699-b0f8-c108e9982c2d"
      },
      "outputs": [
        {
          "data": {
            "text/plain": [
              "array([30, 32, 34, 36, 38, 40, 42, 44, 46, 48, 50, 52, 54, 56, 58, 60, 62,\n",
              "       64, 66, 68, 70])"
            ]
          },
          "execution_count": 2,
          "metadata": {},
          "output_type": "execute_result"
        }
      ],
      "source": [
        "array"
      ]
    },
    {
      "cell_type": "code",
      "execution_count": null,
      "metadata": {
        "colab": {
          "base_uri": "https://localhost:8080/"
        },
        "id": "G2DkQUgF6pOH",
        "outputId": "3352b146-4ac8-43fd-eff2-de7175e7386e"
      },
      "outputs": [
        {
          "data": {
            "text/plain": [
              "30"
            ]
          },
          "execution_count": 3,
          "metadata": {},
          "output_type": "execute_result"
        }
      ],
      "source": [
        "array[0]"
      ]
    },
    {
      "cell_type": "markdown",
      "metadata": {
        "id": "pFGUevSA_md3"
      },
      "source": [
        "### list_name.pop(index)\n"
      ]
    },
    {
      "cell_type": "code",
      "execution_count": null,
      "metadata": {
        "colab": {
          "base_uri": "https://localhost:8080/"
        },
        "id": "5WxKlfRO_pGH",
        "outputId": "9a85ba4e-09b0-4374-e724-cb61c4b551df"
      },
      "outputs": [
        {
          "output_type": "stream",
          "name": "stdout",
          "text": [
            "2\n",
            "[1, 3, 4, 5, 6, 7, 8]\n"
          ]
        }
      ],
      "source": [
        "a = [1, 2, 3, 4, 5, 6, 7, 8]\n",
        "print(a.pop(1))\n",
        "print(a)  # [1, 2, 4, 5, 6, 7, 8]\n",
        "\n"
      ]
    },
    {
      "cell_type": "markdown",
      "metadata": {
        "id": "dwAuBOY4Bdng"
      },
      "source": [
        "### list_name.reverse()"
      ]
    },
    {
      "cell_type": "code",
      "execution_count": null,
      "metadata": {
        "colab": {
          "base_uri": "https://localhost:8080/"
        },
        "id": "YX76wA8XBdKE",
        "outputId": "f64bae02-b214-435f-e0b9-08819bb8c162"
      },
      "outputs": [
        {
          "name": "stdout",
          "output_type": "stream",
          "text": [
            "['R', 'h', 'HI', 'Eman', 'A', 100, 3, 20, 1]\n"
          ]
        }
      ],
      "source": [
        "myList = [1, 20, 3, 100, \"A\", 'Eman', 'HI', 'h', 'R']\n",
        "myList.reverse()\n",
        "print(myList)"
      ]
    },
    {
      "cell_type": "markdown",
      "metadata": {
        "id": "UUHGhC4QBxw0"
      },
      "source": [
        "### list_name.clear()\n"
      ]
    },
    {
      "cell_type": "code",
      "execution_count": null,
      "metadata": {
        "colab": {
          "base_uri": "https://localhost:8080/"
        },
        "id": "_kkVGygzBx91",
        "outputId": "25cd8a42-e863-41df-9cad-a8d95e7fccf6"
      },
      "outputs": [
        {
          "name": "stdout",
          "output_type": "stream",
          "text": [
            "[]\n"
          ]
        }
      ],
      "source": [
        "myList = [1, 20, 3, 100, \"A\", 'Essam', 'HI', 'A', 'I']\n",
        "myList.clear()\n",
        "print(myList)  # []"
      ]
    },
    {
      "cell_type": "markdown",
      "metadata": {
        "id": "K_4bI0n3oIxh"
      },
      "source": [
        "## Functions\n",
        "- It always starts with the keyword def (for define)\n",
        "- parameters live inside functions (this is their natural environment)\n",
        "- arguments exist outside functions, and are carriers of values passed to corresponding parameters.\n"
      ]
    },
    {
      "cell_type": "code",
      "execution_count": null,
      "metadata": {
        "colab": {
          "base_uri": "https://localhost:8080/"
        },
        "id": "T3cMnsd8q_RR",
        "outputId": "8ffbf642-e75c-46cd-a618-aa27bdf018db"
      },
      "outputs": [
        {
          "output_type": "stream",
          "name": "stdout",
          "text": [
            "We start here.\n",
            "Enter a value: 0\n",
            "We end here.\n"
          ]
        }
      ],
      "source": [
        "def message():\n",
        "    input(\"Enter a value: \")\n",
        "\n",
        "\n",
        "print(\"We start here.\")\n",
        "message()\n",
        "print(\"We end here.\")"
      ]
    },
    {
      "cell_type": "code",
      "execution_count": null,
      "metadata": {
        "id": "gkyO9PTmoMZm"
      },
      "outputs": [],
      "source": [
        "def cylinder_volume(height, radius):\n",
        "    pi = 3.14159\n",
        "    return height * pi * radius ** 2"
      ]
    },
    {
      "cell_type": "code",
      "execution_count": null,
      "metadata": {
        "colab": {
          "base_uri": "https://localhost:8080/"
        },
        "id": "tf1ujyn8oMdK",
        "outputId": "7e153ff2-8570-4174-fcbc-ea4e137bc2a1"
      },
      "outputs": [
        {
          "data": {
            "text/plain": [
              "282.7431"
            ]
          },
          "execution_count": 100,
          "metadata": {},
          "output_type": "execute_result"
        }
      ],
      "source": [
        "cylinder_volume(10, 3)"
      ]
    },
    {
      "cell_type": "markdown",
      "metadata": {
        "id": "mQoG5XAeoztv"
      },
      "source": [
        "### Positional parameter passing\n",
        "positional parameter passing, while arguments passed in this way are named positional arguments."
      ]
    },
    {
      "cell_type": "code",
      "execution_count": null,
      "metadata": {
        "colab": {
          "base_uri": "https://localhost:8080/"
        },
        "id": "8mfXldN1tC1_",
        "outputId": "dc6aa09d-33b8-451a-fd05-6396d405f0af"
      },
      "outputs": [
        {
          "name": "stdout",
          "output_type": "stream",
          "text": [
            "1 2 3\n"
          ]
        }
      ],
      "source": [
        "def my_function(a, b, c):\n",
        "    print(a, b, c)\n",
        "\n",
        "my_function(1, 2, 3)\n"
      ]
    },
    {
      "cell_type": "markdown",
      "metadata": {
        "id": "V6PI_g7fupHA"
      },
      "source": [
        "Keyword argument passing"
      ]
    },
    {
      "cell_type": "code",
      "execution_count": null,
      "metadata": {
        "colab": {
          "base_uri": "https://localhost:8080/"
        },
        "id": "f_O5cRdTuqxa",
        "outputId": "9cd354d0-a2cb-4cca-e90f-6a0b6faa8d2a"
      },
      "outputs": [
        {
          "name": "stdout",
          "output_type": "stream",
          "text": [
            "Hello, my name is James Bond\n",
            "Hello, my name is Luke Skywalker\n"
          ]
        }
      ],
      "source": [
        "def introduction(first_name, last_name):\n",
        "    print(\"Hello, my name is\", first_name, last_name)\n",
        "\n",
        "introduction(first_name = \"James\", last_name = \"Bond\")\n",
        "introduction(last_name = \"Skywalker\", first_name = \"Luke\")\n"
      ]
    },
    {
      "cell_type": "markdown",
      "metadata": {
        "id": "EZSfNgX-uz_H"
      },
      "source": [
        " mustn't use a non-existent parameter name."
      ]
    },
    {
      "cell_type": "code",
      "execution_count": null,
      "metadata": {
        "colab": {
          "base_uri": "https://localhost:8080/",
          "height": 201
        },
        "id": "F7HVQhqJuvQ8",
        "outputId": "14c4658e-963a-417f-b62e-22dff02e6579"
      },
      "outputs": [
        {
          "ename": "TypeError",
          "evalue": "ignored",
          "output_type": "error",
          "traceback": [
            "\u001b[0;31m---------------------------------------------------------------------------\u001b[0m",
            "\u001b[0;31mTypeError\u001b[0m                                 Traceback (most recent call last)",
            "\u001b[0;32m<ipython-input-5-589c2c3e56c7>\u001b[0m in \u001b[0;36m<module>\u001b[0;34m\u001b[0m\n\u001b[1;32m      2\u001b[0m     \u001b[0mprint\u001b[0m\u001b[0;34m(\u001b[0m\u001b[0;34m\"Hello, my name is\"\u001b[0m\u001b[0;34m,\u001b[0m \u001b[0mfirst_name\u001b[0m\u001b[0;34m,\u001b[0m \u001b[0mlast_name\u001b[0m\u001b[0;34m)\u001b[0m\u001b[0;34m\u001b[0m\u001b[0;34m\u001b[0m\u001b[0m\n\u001b[1;32m      3\u001b[0m \u001b[0;34m\u001b[0m\u001b[0m\n\u001b[0;32m----> 4\u001b[0;31m \u001b[0mintroduction\u001b[0m\u001b[0;34m(\u001b[0m\u001b[0msurname\u001b[0m\u001b[0;34m=\u001b[0m\u001b[0;34m\"Skywalker\"\u001b[0m\u001b[0;34m,\u001b[0m \u001b[0mfirst_name\u001b[0m\u001b[0;34m=\u001b[0m\u001b[0;34m\"Luke\"\u001b[0m\u001b[0;34m)\u001b[0m\u001b[0;34m\u001b[0m\u001b[0;34m\u001b[0m\u001b[0m\n\u001b[0m",
            "\u001b[0;31mTypeError\u001b[0m: introduction() got an unexpected keyword argument 'surname'"
          ]
        }
      ],
      "source": [
        "def introduction(first_name, last_name):\n",
        "    print(\"Hello, my name is\", first_name, last_name)\n",
        "\n",
        "#introduction(surname=\"Skywalker\", first_name=\"Luke\")"
      ]
    },
    {
      "cell_type": "markdown",
      "metadata": {
        "id": "B_QoBe0YvENc"
      },
      "source": [
        "Mixing positional and keyword arguments\n",
        "- there is only one unbreakable rule: you have to put positional arguments before keyword arguments."
      ]
    },
    {
      "cell_type": "code",
      "execution_count": null,
      "metadata": {
        "id": "A-q48bMHvCR0"
      },
      "outputs": [],
      "source": [
        "def adding(a, b, c):\n",
        "    print(a, \"+\", b, \"+\", c, \"=\", a + b + c)"
      ]
    },
    {
      "cell_type": "code",
      "execution_count": null,
      "metadata": {
        "colab": {
          "base_uri": "https://localhost:8080/"
        },
        "id": "Ytn1wmvVvw1E",
        "outputId": "fa53c336-5637-484d-bde8-e4a2070e8e6a"
      },
      "outputs": [
        {
          "name": "stdout",
          "output_type": "stream",
          "text": [
            "1 + 2 + 3 = 6\n"
          ]
        }
      ],
      "source": [
        "adding(1, 2, 3)"
      ]
    },
    {
      "cell_type": "code",
      "execution_count": null,
      "metadata": {
        "colab": {
          "base_uri": "https://localhost:8080/"
        },
        "id": "hCrgwuBOv2m3",
        "outputId": "19e1149f-1583-4a2d-e185-86d8850e6995"
      },
      "outputs": [
        {
          "name": "stdout",
          "output_type": "stream",
          "text": [
            "2 + 3 + 1 = 6\n"
          ]
        }
      ],
      "source": [
        "adding(c = 1, a = 2, b = 3)"
      ]
    },
    {
      "cell_type": "code",
      "execution_count": null,
      "metadata": {
        "colab": {
          "base_uri": "https://localhost:8080/"
        },
        "id": "wZjF49-tv7Jf",
        "outputId": "9ef01907-9bb0-4a14-8cd6-2ace9b1133fc"
      },
      "outputs": [
        {
          "name": "stdout",
          "output_type": "stream",
          "text": [
            "3 + 2 + 1 = 6\n"
          ]
        }
      ],
      "source": [
        "adding(3, c = 1, b = 2)"
      ]
    },
    {
      "cell_type": "code",
      "execution_count": null,
      "metadata": {
        "colab": {
          "base_uri": "https://localhost:8080/",
          "height": 131
        },
        "id": "XNXtUOZwv98s",
        "outputId": "2416da9e-c490-4a3d-84b0-d435e2607c7a"
      },
      "outputs": [
        {
          "ename": "SyntaxError",
          "evalue": "ignored",
          "output_type": "error",
          "traceback": [
            "\u001b[0;36m  File \u001b[0;32m\"<ipython-input-17-ea2fc5035b41>\"\u001b[0;36m, line \u001b[0;32m1\u001b[0m\n\u001b[0;31m    adding(a = 1, b = 2, 5)    # Error (keyword befor positional)\u001b[0m\n\u001b[0m                         ^\u001b[0m\n\u001b[0;31mSyntaxError\u001b[0m\u001b[0;31m:\u001b[0m positional argument follows keyword argument\n"
          ]
        }
      ],
      "source": [
        "adding(a = 1, b = 2, 5)    # Error (keyword befor positional)"
      ]
    },
    {
      "cell_type": "code",
      "execution_count": null,
      "metadata": {
        "colab": {
          "base_uri": "https://localhost:8080/"
        },
        "id": "eWt4qDPww4Ls",
        "outputId": "cfd607e9-e708-411c-b79f-955c8bc70ca6"
      },
      "outputs": [
        {
          "output_type": "stream",
          "name": "stdout",
          "text": [
            "4 + 3 + 2 = 9\n"
          ]
        }
      ],
      "source": [
        "adding(4, 3, c = 2)"
      ]
    },
    {
      "cell_type": "markdown",
      "metadata": {
        "id": "aL-E6LjF7XlO"
      },
      "source": [
        "#### recursion\n",
        "recursion is a technique where a function invokes itself."
      ]
    },
    {
      "cell_type": "code",
      "execution_count": null,
      "metadata": {
        "id": "TOLAM0Cb7hBT"
      },
      "outputs": [],
      "source": [
        "def fib(n):\n",
        "    if n < 1:\n",
        "        return None\n",
        "    if n < 3:\n",
        "        return 1\n",
        "    return fib(n - 1) + fib(n - 2)\n"
      ]
    },
    {
      "cell_type": "code",
      "execution_count": null,
      "metadata": {
        "colab": {
          "base_uri": "https://localhost:8080/"
        },
        "id": "wbgCauPl8AA0",
        "outputId": "8763aedb-5b47-4410-846b-bfa76f5d3e8a"
      },
      "outputs": [
        {
          "name": "stdout",
          "output_type": "stream",
          "text": [
            "1 -> 1\n",
            "2 -> 1\n",
            "3 -> 2\n",
            "4 -> 3\n",
            "5 -> 5\n",
            "6 -> 8\n",
            "7 -> 13\n",
            "8 -> 21\n",
            "9 -> 34\n"
          ]
        }
      ],
      "source": [
        "for n in range(1, 10):  # testing\n",
        "    print(n, \"->\", fib(n))"
      ]
    },
    {
      "cell_type": "markdown",
      "metadata": {
        "id": "3_yRIJi6708q"
      },
      "source": [
        "**exercise:** <br>\n",
        "factorial (recursion)"
      ]
    },
    {
      "cell_type": "code",
      "execution_count": null,
      "metadata": {
        "id": "F0Lg-6jh7zIG"
      },
      "outputs": [],
      "source": [
        "def factorial_function(n):\n",
        "    if n < 0:\n",
        "        return None\n",
        "    if n < 2:\n",
        "        return 1\n",
        "    return n * factorial_function(n - 1)\n"
      ]
    },
    {
      "cell_type": "markdown",
      "metadata": {
        "id": "87StmsQe6KHL"
      },
      "source": [
        "**exercise:** <br>\n",
        "factorials\n",
        "- 0! = 1\n",
        "- 1! = 1\n",
        "- 2! = 1 * 2\n",
        "- 3! = 1 * 2 * 3\n",
        "- 4! = 1 * 2 * 3 * 4\n",
        "- :\n",
        "- :\n",
        "- n! = 1 * 2 ** 3 * 4 * ... * n-1 * n"
      ]
    },
    {
      "cell_type": "code",
      "execution_count": null,
      "metadata": {
        "colab": {
          "base_uri": "https://localhost:8080/"
        },
        "id": "0xrXEN6b5XsO",
        "outputId": "8dfae45f-a5c4-45bf-9f6b-3902f83d54bd"
      },
      "outputs": [
        {
          "name": "stdout",
          "output_type": "stream",
          "text": [
            "1 1\n",
            "2 2\n",
            "3 6\n",
            "4 24\n",
            "5 120\n"
          ]
        }
      ],
      "source": [
        "def factorial_function(n):\n",
        "    if n < 0:\n",
        "        return None\n",
        "    if n < 2:\n",
        "        return 1\n",
        "\n",
        "    product = 1\n",
        "    for i in range(2, n + 1):\n",
        "        product *= i\n",
        "    return product\n",
        "\n",
        "\n",
        "for n in range(1, 6):  # testing\n",
        "    print(n, factorial_function(n))\n",
        "\n"
      ]
    },
    {
      "cell_type": "markdown",
      "metadata": {
        "id": "6joNDQA967Xo"
      },
      "source": [
        "**exercise:** <br>\n",
        " Fibonacci numbers\n",
        "-fib_1 = 1\n",
        "- fib_2 = 1\n",
        "- fib_3 = 1 + 1 = 2\n",
        "- fib_4 = 1 + 2 = 3\n",
        "- fib_5 = 2 + 3 = 5\n",
        "- fib_6 = 3 + 5 = 8\n",
        "- fib_7 = 5 + 8 = 13"
      ]
    },
    {
      "cell_type": "code",
      "execution_count": null,
      "metadata": {
        "colab": {
          "base_uri": "https://localhost:8080/"
        },
        "id": "BFCZCnir7P3_",
        "outputId": "f46e3efb-0301-49d6-bb80-b4387e93e2cb"
      },
      "outputs": [
        {
          "name": "stdout",
          "output_type": "stream",
          "text": [
            "1 -> 1\n",
            "2 -> 1\n",
            "3 -> 2\n",
            "4 -> 3\n",
            "5 -> 5\n",
            "6 -> 8\n",
            "7 -> 13\n",
            "8 -> 21\n",
            "9 -> 34\n"
          ]
        }
      ],
      "source": [
        "def fib(n):\n",
        "    if n < 1:\n",
        "        return None\n",
        "    if n < 3:\n",
        "        return 1\n",
        "\n",
        "    elem_1 = elem_2 = 1\n",
        "    the_sum = 0\n",
        "    for i in range(3, n + 1):\n",
        "        the_sum = elem_1 + elem_2\n",
        "        elem_1, elem_2 = elem_2, the_sum\n",
        "    return the_sum\n",
        "\n",
        "\n",
        "for n in range(1, 10):  # testing\n",
        "    print(n, \"->\", fib(n))\n"
      ]
    },
    {
      "cell_type": "markdown",
      "metadata": {
        "id": "yRQCkP3OFYiR"
      },
      "source": [
        "### lambda Function\n",
        "- [1] It has no Name\n",
        "- [2] You can call it Inline without defining it\n",
        "- [3] you can use it in return data from another function\n",
        "- [4] lambda used for simple function and def for large function\n",
        "- [5] lambda is one single expression not block of code\n",
        "- [6] lambda type is a function"
      ]
    },
    {
      "cell_type": "code",
      "execution_count": null,
      "metadata": {
        "colab": {
          "base_uri": "https://localhost:8080/"
        },
        "id": "FXDBHQdzFuXK",
        "outputId": "181ca001-4399-4c56-b3ea-bd39c60a6dc8"
      },
      "outputs": [
        {
          "name": "stdout",
          "output_type": "stream",
          "text": [
            "12\n"
          ]
        }
      ],
      "source": [
        "x = lambda y : y + 7\n",
        "print (x(5))\n"
      ]
    },
    {
      "cell_type": "code",
      "execution_count": null,
      "metadata": {
        "colab": {
          "base_uri": "https://localhost:8080/"
        },
        "id": "4yxr1PpAGXPq",
        "outputId": "df3cf5bf-9754-40e3-a13b-dd2be4f0d952"
      },
      "outputs": [
        {
          "name": "stdout",
          "output_type": "stream",
          "text": [
            "False\n"
          ]
        }
      ],
      "source": [
        "z = lambda a, b : a > b\n",
        "print (z(3,7))"
      ]
    },
    {
      "cell_type": "code",
      "execution_count": null,
      "metadata": {
        "colab": {
          "base_uri": "https://localhost:8080/"
        },
        "id": "zEeb773VeZA9",
        "outputId": "a23e0ac6-fcc2-4874-a7de-83c83e371ab0"
      },
      "outputs": [
        {
          "output_type": "stream",
          "name": "stdout",
          "text": [
            "30\n"
          ]
        }
      ],
      "source": [
        "def myfunc(n):\n",
        "  return lambda a : a * n\n",
        "\n",
        "mytripler = myfunc(3)\n",
        "\n",
        "print(mytripler(10))"
      ]
    },
    {
      "cell_type": "code",
      "source": [
        "mytripler"
      ],
      "metadata": {
        "colab": {
          "base_uri": "https://localhost:8080/"
        },
        "id": "B3J7ETWktPlQ",
        "outputId": "1d00a459-c5f5-4928-9cd2-404b08228f63"
      },
      "execution_count": null,
      "outputs": [
        {
          "output_type": "execute_result",
          "data": {
            "text/plain": [
              "<function __main__.myfunc.<locals>.<lambda>(a)>"
            ]
          },
          "metadata": {},
          "execution_count": 48
        }
      ]
    },
    {
      "cell_type": "markdown",
      "metadata": {
        "id": "U7YXp-tpVxGQ"
      },
      "source": [
        "-------------------------------------------------------------------------------"
      ]
    },
    {
      "cell_type": "markdown",
      "metadata": {
        "id": "TRwbJQfaWiVF"
      },
      "source": [
        "## Tuples\n",
        "It's a data type for immutable ordered sequences of elements.\n",
        "\n",
        "- ( )\n",
        "- can use index to access elements\n",
        "- Tuples are immutable\n",
        "- not unique\n",
        "- accept different data types"
      ]
    },
    {
      "cell_type": "code",
      "execution_count": null,
      "metadata": {
        "colab": {
          "base_uri": "https://localhost:8080/"
        },
        "id": "zvuw31NrV0yV",
        "outputId": "87c3a898-572a-4f2c-8652-0b036e4bb3bb"
      },
      "outputs": [
        {
          "name": "stdout",
          "output_type": "stream",
          "text": [
            "Latitude: 13.4125\n",
            "Longitude: 103.866667\n"
          ]
        }
      ],
      "source": [
        "location = (13.4125, 103.866667)\n",
        "print(\"Latitude:\", location[0])\n",
        "print(\"Longitude:\", location[1])"
      ]
    },
    {
      "cell_type": "code",
      "execution_count": null,
      "metadata": {
        "colab": {
          "base_uri": "https://localhost:8080/"
        },
        "id": "I9J2Tg23W-hk",
        "outputId": "c70ddb54-7349-4bd3-f9ff-8c2247503dad"
      },
      "outputs": [
        {
          "output_type": "stream",
          "name": "stdout",
          "text": [
            "The dimensions are 52 x 40 x 100\n"
          ]
        }
      ],
      "source": [
        "# Tuples can also be used to assign multiple variables in a compact way.\n",
        "dimensions = (52, 40, 100)\n",
        "length, width, height = dimensions\n",
        "print(\"The dimensions are {} x {} x {}\".format(length, width, height))"
      ]
    },
    {
      "cell_type": "code",
      "execution_count": null,
      "metadata": {
        "colab": {
          "base_uri": "https://localhost:8080/"
        },
        "id": "1Eu4LacfYtz4",
        "outputId": "d36daf72-0cd1-402e-fdf2-07fadcd8fb13"
      },
      "outputs": [
        {
          "data": {
            "text/plain": [
              "(13.4125, 103.866667, 52, 40, 100)"
            ]
          },
          "execution_count": 54,
          "metadata": {},
          "output_type": "execute_result"
        }
      ],
      "source": [
        "#concatenation\n",
        "c=location+dimensions\n",
        "c"
      ]
    },
    {
      "cell_type": "code",
      "execution_count": null,
      "metadata": {
        "colab": {
          "base_uri": "https://localhost:8080/"
        },
        "id": "9SW-xKXc8aUH",
        "outputId": "5eaf1224-a669-4f79-b43a-820bfa7df506"
      },
      "outputs": [
        {
          "output_type": "stream",
          "name": "stdout",
          "text": [
            "<class 'tuple'>\n",
            "<class 'tuple'>\n"
          ]
        }
      ],
      "source": [
        "# one_element_tuple\n",
        "one_element_tuple_1 = (1, )\n",
        "one_element_tuple_2 = 1.,\n",
        "\n",
        "print(type(one_element_tuple_1))\n",
        "\n",
        "x= (1,)\n",
        "print(type(x))"
      ]
    },
    {
      "cell_type": "code",
      "execution_count": null,
      "metadata": {
        "colab": {
          "base_uri": "https://localhost:8080/",
          "height": 201
        },
        "id": "GLOdEhDF8szx",
        "outputId": "fb17bac0-f674-44c4-dae6-ca72d951c7f8"
      },
      "outputs": [
        {
          "ename": "TypeError",
          "evalue": "ignored",
          "output_type": "error",
          "traceback": [
            "\u001b[0;31m---------------------------------------------------------------------------\u001b[0m",
            "\u001b[0;31mTypeError\u001b[0m                                 Traceback (most recent call last)",
            "\u001b[0;32m<ipython-input-12-3e22eacef7ac>\u001b[0m in \u001b[0;36m<module>\u001b[0;34m\u001b[0m\n\u001b[1;32m      1\u001b[0m \u001b[0;31m# don't try to modify a tuple's contents\u001b[0m\u001b[0;34m\u001b[0m\u001b[0;34m\u001b[0m\u001b[0;34m\u001b[0m\u001b[0m\n\u001b[1;32m      2\u001b[0m \u001b[0;34m\u001b[0m\u001b[0m\n\u001b[0;32m----> 3\u001b[0;31m \u001b[0mlocation\u001b[0m\u001b[0;34m[\u001b[0m\u001b[0;36m0\u001b[0m\u001b[0;34m]\u001b[0m \u001b[0;34m=\u001b[0m \u001b[0;36m39\u001b[0m\u001b[0;34m\u001b[0m\u001b[0;34m\u001b[0m\u001b[0m\n\u001b[0m",
            "\u001b[0;31mTypeError\u001b[0m: 'tuple' object does not support item assignment"
          ]
        }
      ],
      "source": [
        "# don't try to modify a tuple's contents\n",
        "\n",
        "location[0] = 39\n"
      ]
    },
    {
      "cell_type": "markdown",
      "metadata": {
        "id": "pTQIHfRQ872v"
      },
      "source": [
        "![image.png](data:image/png;base64,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)"
      ]
    },
    {
      "cell_type": "code",
      "execution_count": null,
      "metadata": {
        "colab": {
          "base_uri": "https://localhost:8080/"
        },
        "id": "o0Dheu9_88-r",
        "outputId": "6693915c-b744-4933-ccd7-c13bbbe1fd5f"
      },
      "outputs": [
        {
          "name": "stdout",
          "output_type": "stream",
          "text": [
            "9\n",
            "(1, 10, 100, 1000, 10000)\n",
            "(1, 10, 100, 1, 10, 100, 1, 10, 100)\n",
            "True\n",
            "True\n"
          ]
        }
      ],
      "source": [
        "my_tuple = (1, 10, 100)\n",
        "\n",
        "t1 = my_tuple + (1000, 10000)\n",
        "t2 = my_tuple * 3\n",
        "\n",
        "print(len(t2))\n",
        "print(t1)\n",
        "print(t2)\n",
        "print(10 in my_tuple)\n",
        "print(-10 not in my_tuple)"
      ]
    },
    {
      "cell_type": "markdown",
      "metadata": {
        "id": "bSvuIs3hX5qG"
      },
      "source": [
        "## Sets\n",
        "A set is a data type for mutable unordered collections of unique elements.\n",
        "\n",
        "- sets not orderd and not indexed\n",
        "- set slicing can't be done\n",
        "- items in set should be unique\n",
        "- only immutable datatypes\n"
      ]
    },
    {
      "cell_type": "code",
      "execution_count": null,
      "metadata": {
        "id": "wcDCUADQX99o"
      },
      "outputs": [],
      "source": [
        "My_set1={\"xx\" , \"tt\" , 1000}\n",
        "My_set2 = set(['Prince','Techs'])"
      ]
    },
    {
      "cell_type": "code",
      "execution_count": null,
      "metadata": {
        "colab": {
          "base_uri": "https://localhost:8080/"
        },
        "id": "yUm3ULZqX-BC",
        "outputId": "a80d9896-c061-4fcb-e8e7-e04233feca8e"
      },
      "outputs": [
        {
          "name": "stdout",
          "output_type": "stream",
          "text": [
            "{'xx', 1000, 'tt'}\n",
            "{'Prince', 'Techs'}\n"
          ]
        }
      ],
      "source": [
        "print(My_set1)\n",
        "print(My_set2)"
      ]
    },
    {
      "cell_type": "code",
      "execution_count": null,
      "metadata": {
        "id": "aazrfdM6ZZCf"
      },
      "outputs": [],
      "source": [
        "#My_set1[0]  #Error because sets not indexed"
      ]
    },
    {
      "cell_type": "code",
      "execution_count": null,
      "metadata": {
        "colab": {
          "base_uri": "https://localhost:8080/"
        },
        "id": "lEhMYuISZbph",
        "outputId": "f24a165a-c087-4b4d-f1e4-e5860f407a02"
      },
      "outputs": [
        {
          "name": "stdout",
          "output_type": "stream",
          "text": [
            "{1, 2, 3, 6}\n"
          ]
        }
      ],
      "source": [
        "numbers = [1, 2, 6, 3, 1, 1, 6,1]\n",
        "unique_nums = set(numbers)\n",
        "print(unique_nums)         # only unique items"
      ]
    },
    {
      "cell_type": "code",
      "execution_count": null,
      "metadata": {
        "colab": {
          "base_uri": "https://localhost:8080/"
        },
        "id": "ddxgaC-xZbs4",
        "outputId": "3507a76b-c8b1-4444-d703-43a251efd5af"
      },
      "outputs": [
        {
          "output_type": "stream",
          "name": "stdout",
          "text": [
            "False\n",
            "{'banana', 'watermelon', 'grapefruit', 'orange', 'apple'}\n",
            "banana\n",
            "{'watermelon', 'grapefruit', 'orange', 'apple'}\n"
          ]
        }
      ],
      "source": [
        "fruit = {\"apple\", \"banana\", \"orange\", \"grapefruit\"}  # define a set\n",
        "\n",
        "print(\"watermelon\" in fruit)  # check for element\n",
        "\n",
        "# add an element  # sets use add method\n",
        "fruit.add(\"watermelon\")\n",
        "print(fruit)\n",
        "\n",
        "#remove elements using the pop method\n",
        "print(fruit.pop())  # remove a random element\n",
        "print(fruit)"
      ]
    },
    {
      "cell_type": "code",
      "execution_count": null,
      "metadata": {
        "id": "cImnFO5PCdzp",
        "colab": {
          "base_uri": "https://localhost:8080/"
        },
        "outputId": "498c9280-9f47-49bc-ae26-497a1cc1fc0f"
      },
      "outputs": [
        {
          "output_type": "stream",
          "name": "stdout",
          "text": [
            "{'100', 7.7, 'Python', True}\n"
          ]
        }
      ],
      "source": [
        "# only Immutable datatypes\n",
        "\n",
        "#mySetOne = {\"Python\", 7.7, \"100\", True, [1, 2, 3]}           # List is mutable\n",
        "#print(mySetOne)  # TypeError: unhashable type: 'list"
      ]
    },
    {
      "cell_type": "code",
      "execution_count": null,
      "metadata": {
        "colab": {
          "base_uri": "https://localhost:8080/"
        },
        "id": "xbPUweSCDQrt",
        "outputId": "0e37fd20-8908-4a4b-b25a-dfcde6b41fc9"
      },
      "outputs": [
        {
          "name": "stdout",
          "output_type": "stream",
          "text": [
            "set()\n"
          ]
        }
      ],
      "source": [
        "# clear()\n",
        "\n",
        "mySetOne = {\"Python\", 7.7, \"100\", True}\n",
        "mySetOne.clear()\n",
        "print(mySetOne)  # set()"
      ]
    },
    {
      "cell_type": "code",
      "execution_count": null,
      "metadata": {
        "colab": {
          "base_uri": "https://localhost:8080/"
        },
        "id": "8GEw_R1yDcQM",
        "outputId": "66da1257-06fb-4593-d71b-36f7ff92127d"
      },
      "outputs": [
        {
          "output_type": "stream",
          "name": "stdout",
          "text": [
            "{1, 2, 3, 'Two', 'One', 'Three'}\n",
            "{1, 2, 3, 'One', 'Three', 'ii', 'i', 'Two', 'iii'}\n"
          ]
        }
      ],
      "source": [
        "# union()\n",
        "a = {\"One\", \"Two\", \"Three\"}\n",
        "b = {1, 2, 3}\n",
        "c = {\"i\", \"ii\", \"iii\"}\n",
        "print(a.union(b))  # {1, 2, 3, 'One', 'Three', 'Two'}\n",
        "print(a.union(b, c))  # {1, 2, 3, 'Three', 'Two', 'i', 'ii', 'One', 'iii'}"
      ]
    },
    {
      "cell_type": "code",
      "execution_count": null,
      "metadata": {
        "colab": {
          "base_uri": "https://localhost:8080/"
        },
        "id": "6e2tJXqHD7UN",
        "outputId": "a2a917ce-10de-4940-9a03-62eba8751ce5"
      },
      "outputs": [
        {
          "name": "stdout",
          "output_type": "stream",
          "text": [
            "{1, 2, 4, 5}\n"
          ]
        }
      ],
      "source": [
        "# remove (element)\n",
        "a = {1, 2, 3, 4, 5}\n",
        "a.remove(3)\n",
        "print(a)  # {1, 2, 4, 5}\n",
        "# a.remove(7)  # KeyError: 7"
      ]
    },
    {
      "cell_type": "code",
      "execution_count": null,
      "metadata": {
        "colab": {
          "base_uri": "https://localhost:8080/"
        },
        "id": "g7VaZEkXD9DU",
        "outputId": "1caf70ae-f555-47db-b62c-ef6d22fb6709"
      },
      "outputs": [
        {
          "name": "stdout",
          "output_type": "stream",
          "text": [
            "{1, 2, 4, 5}\n",
            "{1, 2, 4, 5}\n"
          ]
        }
      ],
      "source": [
        "# discard (element)\n",
        "a = {1, 2, 3, 4, 5}\n",
        "a.discard(3)\n",
        "print(a)  # {1, 2, 4, 5}\n",
        "a.discard(7)\n",
        "print(a)  # {1, 2, 4, 5}"
      ]
    },
    {
      "cell_type": "markdown",
      "metadata": {
        "id": "W3rdFOuKcF-t"
      },
      "source": [
        "## Dictionaries\n",
        "A dictionary is a mutable data type that stores mappings of unique keys to values.\n",
        "\n",
        "\n",
        "- each key must be unique - it's not possible to have more than one key of the same value;\n",
        "- a key may be any immutable type of object: it can be a number (integer or float), or even a string, but not a list;\n",
        "- a dictionary is not a list - a list contains a set of numbered values, while a dictionary holds pairs of values;\n",
        "- the len() function works for dictionaries, too - it returns the numbers of key-value elements in the dictionary;\n",
        "\n",
        "**Note:** keys are case-sensitive:"
      ]
    },
    {
      "cell_type": "code",
      "execution_count": null,
      "metadata": {
        "colab": {
          "base_uri": "https://localhost:8080/"
        },
        "id": "nFfW5oTycTNM",
        "outputId": "aff07b53-0861-465c-959c-c9b3ebf7926c"
      },
      "outputs": [
        {
          "name": "stdout",
          "output_type": "stream",
          "text": [
            "2\n",
            "True\n"
          ]
        }
      ],
      "source": [
        "elements = {\"hydrogen\": 1, \"helium\": 2, \"carbon\": 6}\n",
        "\n",
        "print(elements['helium'])\n",
        "print(\"carbon\" in elements)"
      ]
    },
    {
      "cell_type": "code",
      "execution_count": null,
      "metadata": {
        "colab": {
          "base_uri": "https://localhost:8080/"
        },
        "id": "Z9XOb5ok93Co",
        "outputId": "f60498e5-e7ba-4bb7-f672-e81a799f476e"
      },
      "outputs": [
        {
          "output_type": "stream",
          "name": "stdout",
          "text": [
            "cat -> 0\n",
            "lion is not in dictionary\n",
            "horse -> 2\n"
          ]
        }
      ],
      "source": [
        "dictionary = {\"cat\": \"0\", \"dog\": \"1\", \"horse\": \"2\"}\n",
        "words = ['cat', 'lion', 'horse']\n",
        "\n",
        "for word in words:\n",
        "    if word in dictionary:\n",
        "        print(word, \"->\", dictionary[word])\n",
        "    else:\n",
        "        print(word, \"is not in dictionary\")\n",
        "\n"
      ]
    },
    {
      "cell_type": "code",
      "execution_count": null,
      "metadata": {
        "colab": {
          "base_uri": "https://localhost:8080/"
        },
        "id": "RIrltmgg-CEc",
        "outputId": "b922df8a-942b-4596-9f3b-13c77a268fbf"
      },
      "outputs": [
        {
          "output_type": "execute_result",
          "data": {
            "text/plain": [
              "dict_keys(['cat', 'dog', 'horse'])"
            ]
          },
          "metadata": {},
          "execution_count": 52
        }
      ],
      "source": [
        "#keys()\n",
        "dictionary.keys()"
      ]
    },
    {
      "cell_type": "code",
      "execution_count": null,
      "metadata": {
        "colab": {
          "base_uri": "https://localhost:8080/"
        },
        "id": "KJZkFqL6-IQG",
        "outputId": "3df6f472-af32-4bb5-ef46-aa957b75218c"
      },
      "outputs": [
        {
          "output_type": "stream",
          "name": "stdout",
          "text": [
            "cat -> 0\n",
            "horse -> 1\n",
            "dog -> 2\n"
          ]
        }
      ],
      "source": [
        "dictionary = {\"cat\": \"0\", \"horse\": \"1\", \"dog\": \"2\"}\n",
        "\n",
        "for key in dictionary.keys():\n",
        "    print(key, \"->\", dictionary[key])"
      ]
    },
    {
      "cell_type": "code",
      "execution_count": null,
      "metadata": {
        "colab": {
          "base_uri": "https://localhost:8080/"
        },
        "id": "H7s22-PtD82S",
        "outputId": "227e7c69-8682-439f-e158-da2ccf541044"
      },
      "outputs": [
        {
          "output_type": "execute_result",
          "data": {
            "text/plain": [
              "{'cat': '0', 'horse': '1', 'dog': '2'}"
            ]
          },
          "metadata": {},
          "execution_count": 59
        }
      ],
      "source": [
        "dictionary = {\"cat\": \"0\", \"horse\": \"1\", \"dog\": \"2\"}\n",
        "dictionary"
      ]
    },
    {
      "cell_type": "code",
      "execution_count": null,
      "metadata": {
        "colab": {
          "base_uri": "https://localhost:8080/"
        },
        "id": "vf8WB6Xa-UPk",
        "outputId": "9697e851-5196-45e9-8574-624d9e16f4af"
      },
      "outputs": [
        {
          "output_type": "stream",
          "name": "stdout",
          "text": [
            "cat -> 0\n",
            "dog -> 2\n",
            "horse -> 1\n"
          ]
        }
      ],
      "source": [
        "# sorted() function\n",
        "for key in sorted(dictionary.keys()):\n",
        "  print(key, \"->\", dictionary[key])"
      ]
    },
    {
      "cell_type": "markdown",
      "metadata": {
        "id": "zxlGnwoN-hI9"
      },
      "source": [
        "#### items() and values()\n",
        " **items()**:The method returns tuples (this is the first example where tuples are something more than just an example of themselves) where each tuple is a key-value pair. <br>\n",
        "**values():** which works similarly to keys(), but returns values."
      ]
    },
    {
      "cell_type": "code",
      "execution_count": null,
      "metadata": {
        "colab": {
          "base_uri": "https://localhost:8080/"
        },
        "id": "9-XMcxvg-j3l",
        "outputId": "20145c59-3646-46c8-9d58-040cb3883179"
      },
      "outputs": [
        {
          "output_type": "execute_result",
          "data": {
            "text/plain": [
              "dict_items([('cat', '0'), ('horse', '1'), ('dog', '2')])"
            ]
          },
          "metadata": {},
          "execution_count": 63
        }
      ],
      "source": [
        "dictionary.items()"
      ]
    },
    {
      "cell_type": "code",
      "execution_count": null,
      "metadata": {
        "colab": {
          "base_uri": "https://localhost:8080/"
        },
        "id": "h0gP5Z1k_Fx8",
        "outputId": "fdc95175-a581-4cfa-8000-ae9dea5c1d7e"
      },
      "outputs": [
        {
          "output_type": "stream",
          "name": "stdout",
          "text": [
            "cat 0\n",
            "horse 1\n",
            "dog 2\n"
          ]
        }
      ],
      "source": [
        "for key, value in dictionary.items():\n",
        "  print(key, value)"
      ]
    },
    {
      "cell_type": "code",
      "execution_count": null,
      "metadata": {
        "colab": {
          "base_uri": "https://localhost:8080/"
        },
        "id": "he5C5MIm-qAl",
        "outputId": "cb406663-9887-4523-f920-598c38097d72"
      },
      "outputs": [
        {
          "output_type": "execute_result",
          "data": {
            "text/plain": [
              "dict_values(['0', '1', '2'])"
            ]
          },
          "metadata": {},
          "execution_count": 64
        }
      ],
      "source": [
        "dictionary.values()"
      ]
    },
    {
      "cell_type": "markdown",
      "metadata": {
        "id": "YM49O1EL_oN5"
      },
      "source": [
        "modifying and adding values"
      ]
    },
    {
      "cell_type": "code",
      "execution_count": null,
      "metadata": {
        "colab": {
          "base_uri": "https://localhost:8080/"
        },
        "id": "EqYMBVKd_dgs",
        "outputId": "2e693823-6185-4774-ff35-c501e16324ac"
      },
      "outputs": [
        {
          "output_type": "stream",
          "name": "stdout",
          "text": [
            "{'cat': '00', 'dog': '1', 'horse': '2'}\n"
          ]
        }
      ],
      "source": [
        "#modify\n",
        "dictionary = {\"cat\": \"0\", \"dog\": \"1\", \"horse\": \"2\"}\n",
        "\n",
        "dictionary['cat'] = '00'\n",
        "print(dictionary)\n"
      ]
    },
    {
      "cell_type": "code",
      "execution_count": null,
      "metadata": {
        "colab": {
          "base_uri": "https://localhost:8080/"
        },
        "id": "2CNhwgNN_xhe",
        "outputId": "46e54292-5f3f-4388-9a40-8454f1c2a103"
      },
      "outputs": [
        {
          "output_type": "stream",
          "name": "stdout",
          "text": [
            "{'cat': '0', 'dog': '1', 'horse': '2', 'swan': '3'}\n"
          ]
        }
      ],
      "source": [
        "#add\n",
        "dictionary = {\"cat\": \"0\", \"dog\": \"1\", \"horse\": \"2\"}\n",
        "\n",
        "dictionary['swan'] = '3'\n",
        "print(dictionary)"
      ]
    },
    {
      "cell_type": "code",
      "execution_count": null,
      "metadata": {
        "colab": {
          "base_uri": "https://localhost:8080/"
        },
        "id": "zZb10GUI_9DS",
        "outputId": "ae73af1e-7b24-42eb-830a-a98229aec611"
      },
      "outputs": [
        {
          "output_type": "stream",
          "name": "stdout",
          "text": [
            "{'cat': '0', 'dog': '1', 'horse': '2', 'swan': '3', 'duck': '4'}\n"
          ]
        }
      ],
      "source": [
        "# add\n",
        "# update()   function\n",
        "dictionary.update({\"duck\": \"4\"})\n",
        "print(dictionary)"
      ]
    },
    {
      "cell_type": "markdown",
      "metadata": {
        "id": "gbce-K4UAHuC"
      },
      "source": [
        "Removing a key  --> removing a key will always cause the removal of the associated value. Values cannot exist without their keys."
      ]
    },
    {
      "cell_type": "code",
      "execution_count": null,
      "metadata": {
        "colab": {
          "base_uri": "https://localhost:8080/"
        },
        "id": "t21SNXYEAR1i",
        "outputId": "8a8e5a5a-424d-4278-9cce-676a93c849c4"
      },
      "outputs": [
        {
          "output_type": "stream",
          "name": "stdout",
          "text": [
            "{'cat': '0', 'horse': '2', 'swan': '3', 'duck': '4'}\n"
          ]
        }
      ],
      "source": [
        "del dictionary['dog']\n",
        "print(dictionary)\n"
      ]
    },
    {
      "cell_type": "code",
      "execution_count": null,
      "metadata": {
        "colab": {
          "base_uri": "https://localhost:8080/"
        },
        "id": "eQDcjZ7LAZ2e",
        "outputId": "7eb72058-1ce4-44e3-a80c-a5344e979a45"
      },
      "outputs": [
        {
          "output_type": "stream",
          "name": "stdout",
          "text": [
            "('horse', '2')\n",
            "{'cat': '0', 'dog': '1'}\n"
          ]
        }
      ],
      "source": [
        "#popitem()  remove the last item in a dictionary\n",
        "dictionary = {\"cat\": \"0\", \"dog\": \"1\", \"horse\": \"2\"}\n",
        "\n",
        "print(dictionary.popitem())\n",
        "print(dictionary)    # outputs: {'cat': 'chat', 'dog': 'chien'}"
      ]
    },
    {
      "cell_type": "code",
      "execution_count": null,
      "metadata": {
        "id": "N-PG2Lw4iiz8"
      },
      "outputs": [],
      "source": [
        "# Nested Dictionaries\n",
        "elements = {\"hydrogen\": {\"number\": 1,\n",
        "                         \"weight\": 1.00794,\n",
        "                         \"symbol\": \"H\"},\n",
        "              \"helium\": {\"number\": 2,\n",
        "                         \"weight\": 4.002602,\n",
        "                         \"symbol\": \"He\"}}"
      ]
    },
    {
      "cell_type": "code",
      "execution_count": null,
      "metadata": {
        "colab": {
          "base_uri": "https://localhost:8080/"
        },
        "id": "3GnG4VuHFurg",
        "outputId": "cb4b1f9b-6d37-4da7-cf62-0f375a9933ec"
      },
      "outputs": [
        {
          "output_type": "execute_result",
          "data": {
            "text/plain": [
              "('helium', {'number': 2, 'weight': 4.002602, 'symbol': 'He'})"
            ]
          },
          "metadata": {},
          "execution_count": 81
        }
      ],
      "source": [
        "elements.popitem()"
      ]
    },
    {
      "cell_type": "code",
      "source": [
        "# Nested Dictionaries\n",
        "elements = {\"hydrogen\": {\"number\": 1,\n",
        "                         \"weight\": 1.00794,\n",
        "                         \"symbol\": \"H\"},\n",
        "              \"helium\": {\"number\": 2,\n",
        "                         \"weight\": 4.002602,\n",
        "                         \"symbol\": \"He\"}}"
      ],
      "metadata": {
        "id": "tFtRLxeHva9z"
      },
      "execution_count": null,
      "outputs": []
    },
    {
      "cell_type": "code",
      "execution_count": null,
      "metadata": {
        "id": "k1Z03rkUjB5v"
      },
      "outputs": [],
      "source": [
        "helium = elements[\"helium\"]  # get the helium dictionary\n",
        "hydrogen_weight = elements[\"hydrogen\"][\"weight\"]  # get hydrogen's weight"
      ]
    },
    {
      "cell_type": "code",
      "execution_count": null,
      "metadata": {
        "colab": {
          "base_uri": "https://localhost:8080/"
        },
        "id": "vL6NG01vjGYM",
        "outputId": "24b88eaa-bace-4fb1-ff0e-f9bc6b8a417d"
      },
      "outputs": [
        {
          "output_type": "stream",
          "name": "stdout",
          "text": [
            "{'number': 2, 'weight': 4.002602, 'symbol': 'He'}\n",
            "1.00794\n"
          ]
        }
      ],
      "source": [
        "print(helium)\n",
        "print(hydrogen_weight)"
      ]
    },
    {
      "cell_type": "markdown",
      "metadata": {
        "id": "Czlw1TI3j96U"
      },
      "source": [
        "![image.png](data:image/png;base64,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)"
      ]
    },
    {
      "cell_type": "markdown",
      "metadata": {
        "id": "IZ3Vm9rgkBnt"
      },
      "source": [
        "-------------------------------------------------------------------------------------------"
      ]
    },
    {
      "cell_type": "markdown",
      "metadata": {
        "id": "65TLXC8EBzaq"
      },
      "source": [
        "#### The zip() function can take two or more lists, aggregate them in a tuple, and returns it."
      ]
    },
    {
      "cell_type": "code",
      "execution_count": null,
      "metadata": {
        "colab": {
          "base_uri": "https://localhost:8080/"
        },
        "id": "LS_QJMxIB4ZO",
        "outputId": "913cfee3-f190-4c12-d494-3642c97caea8"
      },
      "outputs": [
        {
          "output_type": "execute_result",
          "data": {
            "text/plain": [
              "[(0, 10), (400, 20), (300, 30), (200, 40)]"
            ]
          },
          "metadata": {},
          "execution_count": 86
        }
      ],
      "source": [
        "# combine two lists\n",
        "list1 = [10, 20, 30, 40]\n",
        "list2 = [100, 200, 300, 400, 00]\n",
        "\n",
        "new_list = list(zip( list2[::-1],list1))\n",
        "\n",
        "new_list"
      ]
    },
    {
      "cell_type": "code",
      "execution_count": null,
      "metadata": {
        "colab": {
          "base_uri": "https://localhost:8080/"
        },
        "id": "l0nhjqyO6qyT",
        "outputId": "3f4d16ef-e181-4218-869b-a640cd52e906"
      },
      "outputs": [
        {
          "output_type": "stream",
          "name": "stdout",
          "text": [
            "10 0\n",
            "20 400\n",
            "30 300\n",
            "40 200\n"
          ]
        }
      ],
      "source": [
        "#Iterate both lists simultaneously\n",
        "for x, y in zip(list1, list2[::-1]):\n",
        "    print(x, y)"
      ]
    },
    {
      "cell_type": "code",
      "execution_count": null,
      "metadata": {
        "colab": {
          "base_uri": "https://localhost:8080/"
        },
        "id": "Rtj3dZ1EB64Y",
        "outputId": "d5af1f11-b89f-4e70-e718-b0eaa19e0bf8"
      },
      "outputs": [
        {
          "output_type": "stream",
          "name": "stdout",
          "text": [
            "(0, 400, 300, 200)\n",
            "(10, 20, 30, 40)\n"
          ]
        }
      ],
      "source": [
        "#unzip\n",
        "l1, l2 = zip(*new_list)\n",
        "print(l1)\n",
        "print(l2)"
      ]
    },
    {
      "cell_type": "code",
      "execution_count": null,
      "metadata": {
        "colab": {
          "base_uri": "https://localhost:8080/"
        },
        "id": "Nrny_uHyQzwQ",
        "outputId": "78e7e415-4ec0-4ab5-fd86-bcc73b79f107"
      },
      "outputs": [
        {
          "data": {
            "text/plain": [
              "tuple"
            ]
          },
          "execution_count": 37,
          "metadata": {},
          "output_type": "execute_result"
        }
      ],
      "source": [
        "type(l1)"
      ]
    },
    {
      "cell_type": "code",
      "execution_count": null,
      "metadata": {
        "colab": {
          "base_uri": "https://localhost:8080/"
        },
        "id": "nkeGdCuOQ-Ck",
        "outputId": "1c4c6403-f33d-47e9-fc67-41e1d0ebde26"
      },
      "outputs": [
        {
          "data": {
            "text/plain": [
              "[10, 20, 30, 40]"
            ]
          },
          "execution_count": 38,
          "metadata": {},
          "output_type": "execute_result"
        }
      ],
      "source": [
        "list(l1)"
      ]
    },
    {
      "cell_type": "markdown",
      "metadata": {
        "id": "2KllnGr2RU21"
      },
      "source": [
        "## enamurate"
      ]
    },
    {
      "cell_type": "code",
      "execution_count": null,
      "metadata": {
        "colab": {
          "base_uri": "https://localhost:8080/"
        },
        "id": "_NPzZZsSRDZn",
        "outputId": "c6efbb12-acec-4e70-effa-8b7a31f1d827"
      },
      "outputs": [
        {
          "name": "stdout",
          "output_type": "stream",
          "text": [
            "0 10\n",
            "1 20\n",
            "2 30\n",
            "3 40\n"
          ]
        }
      ],
      "source": [
        "#iterate on the list elements with the index\n",
        "list1 = [10, 20, 30, 40]\n",
        "for i, item in enumerate(list1):\n",
        "  print(i, item)"
      ]
    },
    {
      "cell_type": "code",
      "execution_count": null,
      "metadata": {
        "colab": {
          "base_uri": "https://localhost:8080/"
        },
        "id": "91ho01i2R22u",
        "outputId": "9dc675cf-6860-4613-a1bb-ff291b0b9f4e"
      },
      "outputs": [
        {
          "data": {
            "text/plain": [
              "[(0, 10), (1, 20), (2, 30), (3, 40)]"
            ]
          },
          "execution_count": 42,
          "metadata": {},
          "output_type": "execute_result"
        }
      ],
      "source": [
        "list(enumerate(list1))"
      ]
    },
    {
      "cell_type": "markdown",
      "metadata": {
        "id": "f3DIKj_XSOMI"
      },
      "source": [
        "## **exercise:** <br>\n",
        "\n",
        "create a list of strings specifying the label and coordinates of each point and appends it to the list points.<br>\n",
        "Each string should be formatted as label: x, y, z. <br>\n",
        "For example, the string for the first coordinate should be F: 23, 677, 4.\n",
        "\n",
        "x_coord = [23, 53, 2, -12, 95, 103, 14, -5]  <br>\n",
        "y_coord = [677, 233, 405, 433, 905, 376, 432, 445] <br>\n",
        "z_coord = [4, 16, -6, -42, 3, -6, 23, -1] <br>\n",
        "labels = [\"F\", \"J\", \"A\", \"Q\", \"Y\", \"B\", \"W\", \"X\"] <br>\n"
      ]
    },
    {
      "cell_type": "code",
      "execution_count": null,
      "metadata": {
        "colab": {
          "base_uri": "https://localhost:8080/"
        },
        "id": "Sc4Hr91ER8So",
        "outputId": "f41846a5-9e7a-4f07-fc5a-50993adc2294"
      },
      "outputs": [
        {
          "output_type": "stream",
          "name": "stdout",
          "text": [
            "F: 23, 677, 4\n",
            "J: 53, 233, 16\n",
            "A: 2, 405, -6\n",
            "Q: -12, 433, -42\n",
            "Y: 95, 905, 3\n",
            "B: 103, 376, -6\n",
            "W: 14, 432, 23\n",
            "X: -5, 445, -1\n"
          ]
        }
      ],
      "source": [
        "x_coord = [23, 53, 2, -12, 95, 103, 14, -5]\n",
        "y_coord = [677, 233, 405, 433, 905, 376, 432, 445]\n",
        "z_coord = [4, 16, -6, -42, 3, -6, 23, -1]\n",
        "labels = [\"F\", \"J\", \"A\", \"Q\", \"Y\", \"B\", \"W\", \"X\"]\n",
        "\n",
        "points = []\n",
        "\n",
        "for point in zip(labels, x_coord, y_coord, z_coord):\n",
        "    points.append(\"{}: {}, {}, {}\".format(*point))\n",
        "\n",
        "for point in points:\n",
        "    print(point)"
      ]
    },
    {
      "cell_type": "markdown",
      "metadata": {
        "id": "MxMINQLfUo6V"
      },
      "source": [
        "**exercise:** <br>\n",
        "Zip Lists to a Dictionary\n",
        "- convert two lists have the same lengnth to dictionary"
      ]
    },
    {
      "cell_type": "code",
      "execution_count": null,
      "metadata": {
        "colab": {
          "base_uri": "https://localhost:8080/"
        },
        "id": "lMv0c9erUe_y",
        "outputId": "c4b00124-1fdf-437a-9fad-50b9695c7124"
      },
      "outputs": [
        {
          "name": "stdout",
          "output_type": "stream",
          "text": [
            "{'Barney': 72, 'Robin': 68, 'Ted': 72, 'Lily': 66, 'Marshall': 76}\n"
          ]
        }
      ],
      "source": [
        "cast_names = [\"Barney\", \"Robin\", \"Ted\", \"Lily\", \"Marshall\"]\n",
        "cast_heights = [72, 68, 72, 66, 76]\n",
        "\n",
        "cast ={} # replace with your code\n",
        "\n",
        "for name, height in zip(cast_names, cast_heights):\n",
        "    cast[name] = height\n",
        "\n",
        "print(cast)"
      ]
    },
    {
      "cell_type": "code",
      "execution_count": null,
      "metadata": {
        "colab": {
          "base_uri": "https://localhost:8080/"
        },
        "id": "kfaYtlgnVEwd",
        "outputId": "fe560df5-d624-4dc8-d5cb-e6ddb9d69150"
      },
      "outputs": [
        {
          "output_type": "execute_result",
          "data": {
            "text/plain": [
              "{'Barney': 72, 'Robin': 68, 'Ted': 72, 'Lily': 66, 'Marshall': 76}"
            ]
          },
          "metadata": {},
          "execution_count": 2
        }
      ],
      "source": [
        "cast_names = [\"Barney\", \"Robin\", \"Ted\", \"Lily\", \"Marshall\"]\n",
        "cast_heights = [72, 68, 72, 66, 76, 44, 44]      #len(cast_heights) > len(cast_names)\n",
        "\n",
        "dict(zip(cast_names, cast_heights))"
      ]
    },
    {
      "cell_type": "markdown",
      "metadata": {
        "id": "Jc2ig-OoCA1r"
      },
      "source": [
        "# Errors"
      ]
    },
    {
      "cell_type": "markdown",
      "metadata": {
        "id": "wFKFxFRDyjfK"
      },
      "source": [
        "### Errors and Exceptions\n",
        "\n",
        "**Syntax errors** occur when Python can’t interpret our code, since we didn’t follow the correct syntax for Python. <br>\n",
        "These are errors you’re likely to get when you make a typo, or you’re first starting to learn Python.\n",
        "\n",
        "**Exceptions occur** when unexpected things happen during execution of a program, even if the code is syntactically correct. <br> There are different types of built-in exceptions in Python, and you can see which exception is thrown in the error message.\n",
        "\n"
      ]
    },
    {
      "cell_type": "markdown",
      "metadata": {
        "id": "5C7RD3GMB-Iw"
      },
      "source": [
        "### When data is not what it should be"
      ]
    },
    {
      "cell_type": "code",
      "execution_count": null,
      "metadata": {
        "colab": {
          "base_uri": "https://localhost:8080/",
          "height": 176
        },
        "id": "8OByedGfCD3M",
        "outputId": "0bbd7e92-3efa-47aa-f869-290b735eacb2"
      },
      "outputs": [
        {
          "name": "stdout",
          "output_type": "stream",
          "text": [
            "Enter a natural number: 0\n"
          ]
        },
        {
          "output_type": "error",
          "ename": "ZeroDivisionError",
          "evalue": "division by zero",
          "traceback": [
            "\u001b[0;31m---------------------------------------------------------------------------\u001b[0m",
            "\u001b[0;31mZeroDivisionError\u001b[0m                         Traceback (most recent call last)",
            "\u001b[0;32m<ipython-input-94-be0c91d7d4aa>\u001b[0m in \u001b[0;36m<cell line: 2>\u001b[0;34m()\u001b[0m\n\u001b[1;32m      1\u001b[0m \u001b[0mvalue\u001b[0m \u001b[0;34m=\u001b[0m \u001b[0mint\u001b[0m\u001b[0;34m(\u001b[0m\u001b[0minput\u001b[0m\u001b[0;34m(\u001b[0m\u001b[0;34m'Enter a natural number: '\u001b[0m\u001b[0;34m)\u001b[0m\u001b[0;34m)\u001b[0m\u001b[0;34m\u001b[0m\u001b[0;34m\u001b[0m\u001b[0m\n\u001b[0;32m----> 2\u001b[0;31m \u001b[0mprint\u001b[0m\u001b[0;34m(\u001b[0m\u001b[0;34m'The reciprocal of'\u001b[0m\u001b[0;34m,\u001b[0m \u001b[0mvalue\u001b[0m\u001b[0;34m,\u001b[0m \u001b[0;34m'is'\u001b[0m\u001b[0;34m,\u001b[0m \u001b[0;36m1\u001b[0m\u001b[0;34m/\u001b[0m\u001b[0mvalue\u001b[0m\u001b[0;34m)\u001b[0m     \u001b[0;31m# ValueError if value string or zero\u001b[0m\u001b[0;34m\u001b[0m\u001b[0;34m\u001b[0m\u001b[0m\n\u001b[0m",
            "\u001b[0;31mZeroDivisionError\u001b[0m: division by zero"
          ]
        }
      ],
      "source": [
        "value = int(input('Enter a natural number: '))\n",
        "print('The reciprocal of', value, 'is', 1/value)     # ValueError if value string or zero\n"
      ]
    },
    {
      "cell_type": "markdown",
      "metadata": {
        "id": "mXg9C025CqOt"
      },
      "source": [
        "try-except"
      ]
    },
    {
      "cell_type": "markdown",
      "metadata": {
        "id": "e2icG8DaDFFM"
      },
      "source": [
        "\n",
        "the code in the except branch is activated only when an exception has been encountered inside the try block.\n",
        "\n"
      ]
    },
    {
      "cell_type": "code",
      "execution_count": null,
      "metadata": {
        "colab": {
          "base_uri": "https://localhost:8080/"
        },
        "id": "VARfuqbPDQRJ",
        "outputId": "eaea7830-3479-4329-9bfb-119366751114"
      },
      "outputs": [
        {
          "name": "stdout",
          "output_type": "stream",
          "text": [
            "Enter a natural number: 0\n",
            "I do not know what to do.\n"
          ]
        }
      ],
      "source": [
        "try:\n",
        "    value = int(input('Enter a natural number: '))\n",
        "    print('The reciprocal of', value, 'is', 1/value)\n",
        "except:\n",
        "    print('I do not know what to do.')\n"
      ]
    },
    {
      "cell_type": "code",
      "execution_count": null,
      "metadata": {
        "colab": {
          "base_uri": "https://localhost:8080/"
        },
        "outputId": "c15c9cb0-dbc2-412d-fa45-39ed19e5a013",
        "id": "0OF368LlCdu9"
      },
      "outputs": [
        {
          "name": "stdout",
          "output_type": "stream",
          "text": [
            "1\n",
            "Oh dear, something went wrong...\n",
            "3\n"
          ]
        }
      ],
      "source": [
        "try:\n",
        "    print(\"1\")\n",
        "    x = 1 / 0\n",
        "    print(\"2\")\n",
        "except:\n",
        "    print(\"Oh dear, something went wrong...\")\n",
        "\n",
        "print(\"3\")\n"
      ]
    },
    {
      "cell_type": "code",
      "execution_count": null,
      "metadata": {
        "colab": {
          "base_uri": "https://localhost:8080/"
        },
        "id": "x_DtIaHLCOMv",
        "outputId": "1b676961-a453-4462-97b3-e80620a1ca3b"
      },
      "outputs": [
        {
          "output_type": "stream",
          "name": "stdout",
          "text": [
            "Enter a natural number: 0\n",
            "Division by zero is not allowed in our Universe.\n"
          ]
        }
      ],
      "source": [
        "try:\n",
        "    value = int(input('Enter a natural number: '))\n",
        "    print('The reciprocal of', value, 'is', 1/value)\n",
        "except ValueError:\n",
        "    print('I do not know what to do.')\n",
        "except ZeroDivisionError:\n",
        "    print('Division by zero is not allowed in our Universe.')\n"
      ]
    },
    {
      "cell_type": "code",
      "execution_count": null,
      "metadata": {
        "colab": {
          "base_uri": "https://localhost:8080/"
        },
        "id": "Uk4mC564DbCr",
        "outputId": "f738d54b-aedb-4d73-935b-21177c50abf6"
      },
      "outputs": [
        {
          "name": "stdout",
          "output_type": "stream",
          "text": [
            "Enter a natural number: h\n",
            "I do not know what to do.\n"
          ]
        }
      ],
      "source": [
        "# default exception\n",
        "# except branch, but this time it has no exception name specified\n",
        "# except branch must be the last except branch. Always!\n",
        "\n",
        "try:\n",
        "    value = int(input('Enter a natural number: '))\n",
        "    print('The reciprocal of', value, 'is', 1/value)\n",
        "except ValueError:\n",
        "    print('I do not know what to do.')\n",
        "except ZeroDivisionError:\n",
        "    print('Division by zero is not allowed in our Universe.')\n",
        "except:\n",
        "    print('Something strange has happened here... Sorry!')"
      ]
    },
    {
      "cell_type": "markdown",
      "metadata": {
        "id": "_SODTLrUy6L8"
      },
      "source": [
        "**else:** If Python runs into no exceptions while running the try block, it will run the code in this block after running the try block.\n",
        "\n",
        "**finally:** Before Python leaves this try statement, it will run the code in this finally block under any conditions, even if it's ending the program"
      ]
    },
    {
      "cell_type": "code",
      "execution_count": null,
      "metadata": {
        "colab": {
          "base_uri": "https://localhost:8080/"
        },
        "id": "OuiDQvU5y96H",
        "outputId": "3564b86a-8881-4c19-f110-d306043e8a4e"
      },
      "outputs": [
        {
          "output_type": "stream",
          "name": "stdout",
          "text": [
            "Yeah ! Your answer is : 1\n",
            "This is always executed\n",
            "\n",
            "Sorry ! You are dividing by zero \n",
            "This is always executed\n"
          ]
        }
      ],
      "source": [
        "def divide(x, y):\n",
        "    try:\n",
        "        result = x // y\n",
        "    except ZeroDivisionError:\n",
        "        print(\"Sorry ! You are dividing by zero \")\n",
        "    else:\n",
        "        print(\"Yeah ! Your answer is :\", result)\n",
        "    finally:\n",
        "        # this block is always executed\n",
        "        # regardless of exception generation.\n",
        "        print('This is always executed')\n",
        "\n",
        "# Look at parameters and note the working of Program\n",
        "divide(3, 2)\n",
        "print()\n",
        "divide(3, 0)"
      ]
    },
    {
      "cell_type": "markdown",
      "metadata": {
        "id": "7Xv3UAu7z5WA"
      },
      "source": [
        "Accessing Error Messages"
      ]
    },
    {
      "cell_type": "code",
      "source": [
        "try:\n",
        "    value = int(input('Enter a natural number: '))\n",
        "    print('The reciprocal of', value, 'is', 1/value)\n",
        "except ZeroDivisionError as e:\n",
        "    print(\"Exception occurred: {}\".format(e))\n"
      ],
      "metadata": {
        "colab": {
          "base_uri": "https://localhost:8080/"
        },
        "id": "NPPY9FfB2YZC",
        "outputId": "fce272d8-3b03-49f0-87b2-23352771098f"
      },
      "execution_count": null,
      "outputs": [
        {
          "output_type": "stream",
          "name": "stdout",
          "text": [
            "Enter a natural number: 0\n",
            "Exception occurred: division by zero\n"
          ]
        }
      ]
    },
    {
      "cell_type": "code",
      "execution_count": null,
      "metadata": {
        "colab": {
          "base_uri": "https://localhost:8080/"
        },
        "id": "BgyUWpoNz5qH",
        "outputId": "d13e3ed4-7f0a-43e9-b51f-65c2314e93c8"
      },
      "outputs": [
        {
          "output_type": "stream",
          "name": "stdout",
          "text": [
            "Enter a natural number: 0\n",
            "Exception occurred: division by zero\n"
          ]
        }
      ],
      "source": [
        "try:\n",
        "    value = int(input('Enter a natural number: '))\n",
        "    print('The reciprocal of', value, 'is', 1/value)\n",
        "except BaseException as e:\n",
        "    print(\"Exception occurred: {}\".format(e))\n"
      ]
    },
    {
      "cell_type": "markdown",
      "metadata": {
        "id": "KYP8yqoqCdu6"
      },
      "source": [
        "### Errors, failures, and other plagues"
      ]
    },
    {
      "cell_type": "markdown",
      "metadata": {
        "id": "dx5IUs8sCdu6"
      },
      "source": [
        "![image.png](data:image/png;base64,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)"
      ]
    },
    {
      "cell_type": "code",
      "execution_count": null,
      "metadata": {
        "colab": {
          "base_uri": "https://localhost:8080/"
        },
        "outputId": "e73ece02-eff8-4de0-e1a0-80568655dcf7",
        "id": "5uRfz_YYCdu8"
      },
      "outputs": [
        {
          "output_type": "stream",
          "name": "stdout",
          "text": [
            "Oooppsss...\n",
            "THE END.\n"
          ]
        }
      ],
      "source": [
        "# each exception raised falls into the first matching branch;\n",
        "try:\n",
        "    y = 1 / 0\n",
        "\n",
        "except ArithmeticError:\n",
        "    print(\"Oooppsss...\")\n",
        "except ZeroDivisionError:\n",
        "  print(\"zero division\")\n",
        "finally:\n",
        "  print(\"THE END.\")\n",
        "\n"
      ]
    },
    {
      "cell_type": "markdown",
      "metadata": {
        "id": "oftjequsCdu8"
      },
      "source": [
        "If an exception is raised inside a function, it can be handled:\n",
        "- inside the function;\n",
        "- outside the function;\n"
      ]
    },
    {
      "cell_type": "markdown",
      "metadata": {
        "id": "Mc5c64VoCdu8"
      },
      "source": [
        "- ZeroDivisionError is a special case of more a general exception class named ArithmeticError;\n",
        "- ArithmeticError is a special case of a more general exception class named just Exception;\n"
      ]
    },
    {
      "cell_type": "code",
      "execution_count": null,
      "metadata": {
        "colab": {
          "base_uri": "https://localhost:8080/"
        },
        "outputId": "49e04f02-5fe7-4047-d111-0b3b09f18b0c",
        "id": "g4mhBlVvCdu8"
      },
      "outputs": [
        {
          "name": "stdout",
          "output_type": "stream",
          "text": [
            "Arithmetic Problem!\n",
            "THE END.\n"
          ]
        }
      ],
      "source": [
        "def bad_fun(n):\n",
        "    try:\n",
        "        return 1 / n\n",
        "    except ArithmeticError:\n",
        "        print(\"Arithmetic Problem!\")\n",
        "    return None\n",
        "\n",
        "bad_fun(0)\n",
        "\n",
        "print(\"THE END.\")\n"
      ]
    },
    {
      "cell_type": "markdown",
      "metadata": {
        "id": "ISOXFR9ZCdu8"
      },
      "source": [
        "The problem has to be solved by the invoker"
      ]
    },
    {
      "cell_type": "code",
      "execution_count": null,
      "metadata": {
        "colab": {
          "base_uri": "https://localhost:8080/"
        },
        "outputId": "e19bd5e5-b2af-472d-8a8a-9fb91c856916",
        "id": "6yWPaYa1Cdu9"
      },
      "outputs": [
        {
          "name": "stdout",
          "output_type": "stream",
          "text": [
            "Zero Division!\n",
            "THE END.\n"
          ]
        }
      ],
      "source": [
        "def bad_fun(n):\n",
        "    return 1 / n\n",
        "\n",
        "try:\n",
        "    bad_fun(0)\n",
        "except ZeroDivisionError:\n",
        "    print(\"Zero Division!\")\n",
        "\n",
        "except ArithmeticError:\n",
        "    print(\"Arithmetic problem!\")\n",
        "\n",
        "\n",
        "print(\"THE END.\")\n",
        "\n"
      ]
    },
    {
      "cell_type": "code",
      "execution_count": null,
      "metadata": {
        "colab": {
          "base_uri": "https://localhost:8080/"
        },
        "outputId": "caa2fc09-ffa0-4dd4-bb43-ee79d06bbe87",
        "id": "cYBj7lRLCdu9"
      },
      "outputs": [
        {
          "output_type": "stream",
          "name": "stdout",
          "text": [
            "Enter x: -8\n",
            "Exception occurred: math domain error\n"
          ]
        }
      ],
      "source": [
        "# negative number -->Error\n",
        "import math\n",
        "try:\n",
        "  x = float(input(\"Enter x: \"))\n",
        "  y = math.sqrt(x)\n",
        "  print(\"The square root of\", x, \"equals to\", y)\n",
        "except BaseException as e:\n",
        "  print(\"Exception occurred: {}\".format(e))"
      ]
    },
    {
      "cell_type": "code",
      "execution_count": null,
      "metadata": {
        "colab": {
          "base_uri": "https://localhost:8080/"
        },
        "outputId": "64406459-a9cd-4d8c-fc6a-e7eee9feb7c1",
        "id": "D6M30y6RCdu-"
      },
      "outputs": [
        {
          "output_type": "stream",
          "name": "stdout",
          "text": [
            "Enter a number: r\n",
            "You must enter an integer value.\n",
            "THE END.\n"
          ]
        }
      ],
      "source": [
        "try:\n",
        "    x = int(input(\"Enter a number: \"))\n",
        "    y = 1 / x\n",
        "    print(y)\n",
        "except ZeroDivisionError:\n",
        "    print(\"You cannot divide by zero, sorry.\")\n",
        "except ValueError:\n",
        "    print(\"You must enter an integer value.\")\n",
        "except:\n",
        "    print(\"Oh dear, something went wrong...\")\n",
        "finally:\n",
        "  print(\"THE END.\")\n"
      ]
    },
    {
      "cell_type": "code",
      "execution_count": null,
      "metadata": {
        "colab": {
          "base_uri": "https://localhost:8080/",
          "height": 253
        },
        "outputId": "8be59bdd-d66f-4201-c347-deffcd743e82",
        "id": "-7_kSN3hCdu-"
      },
      "outputs": [
        {
          "name": "stdout",
          "output_type": "stream",
          "text": [
            "Enter a number: 0\n"
          ]
        },
        {
          "ename": "ZeroDivisionError",
          "evalue": "ignored",
          "output_type": "error",
          "traceback": [
            "\u001b[0;31m---------------------------------------------------------------------------\u001b[0m",
            "\u001b[0;31mZeroDivisionError\u001b[0m                         Traceback (most recent call last)",
            "\u001b[0;32m<ipython-input-7-22c78b7365c6>\u001b[0m in \u001b[0;36m<module>\u001b[0;34m\u001b[0m\n\u001b[1;32m      1\u001b[0m \u001b[0;32mtry\u001b[0m\u001b[0;34m:\u001b[0m\u001b[0;34m\u001b[0m\u001b[0;34m\u001b[0m\u001b[0m\n\u001b[1;32m      2\u001b[0m     \u001b[0mx\u001b[0m \u001b[0;34m=\u001b[0m \u001b[0mint\u001b[0m\u001b[0;34m(\u001b[0m\u001b[0minput\u001b[0m\u001b[0;34m(\u001b[0m\u001b[0;34m\"Enter a number: \"\u001b[0m\u001b[0;34m)\u001b[0m\u001b[0;34m)\u001b[0m\u001b[0;34m\u001b[0m\u001b[0;34m\u001b[0m\u001b[0m\n\u001b[0;32m----> 3\u001b[0;31m     \u001b[0my\u001b[0m \u001b[0;34m=\u001b[0m \u001b[0;36m1\u001b[0m \u001b[0;34m/\u001b[0m \u001b[0mx\u001b[0m                \u001b[0;31m# zero --> error\u001b[0m\u001b[0;34m\u001b[0m\u001b[0;34m\u001b[0m\u001b[0m\n\u001b[0m\u001b[1;32m      4\u001b[0m     \u001b[0mprint\u001b[0m\u001b[0;34m(\u001b[0m\u001b[0my\u001b[0m\u001b[0;34m)\u001b[0m\u001b[0;34m\u001b[0m\u001b[0;34m\u001b[0m\u001b[0m\n\u001b[1;32m      5\u001b[0m \u001b[0;32mexcept\u001b[0m \u001b[0mValueError\u001b[0m\u001b[0;34m:\u001b[0m\u001b[0;34m\u001b[0m\u001b[0;34m\u001b[0m\u001b[0m\n",
            "\u001b[0;31mZeroDivisionError\u001b[0m: division by zero"
          ]
        }
      ],
      "source": [
        "try:\n",
        "    x = int(input(\"Enter a number: \"))\n",
        "    y = 1 / x                # zero --> error\n",
        "    print(y)\n",
        "except ValueError:\n",
        "    print(\"You must enter an integer value.\")\n",
        "\n",
        "print(\"THE END.\")\n"
      ]
    },
    {
      "cell_type": "markdown",
      "metadata": {
        "id": "a_o6EE-XCdu-"
      },
      "source": [
        "### raise exc\n",
        "raise instruction raises the specified exception named exc as if it was raised in a normal (natural) way:"
      ]
    },
    {
      "cell_type": "code",
      "execution_count": null,
      "metadata": {
        "colab": {
          "base_uri": "https://localhost:8080/"
        },
        "outputId": "95605ba4-9c6a-4ae1-d92a-bb4f0fca5332",
        "id": "DWFSE7QcCdu-"
      },
      "outputs": [
        {
          "output_type": "stream",
          "name": "stdout",
          "text": [
            "What happened? An error?\n",
            "THE END.\n"
          ]
        }
      ],
      "source": [
        "def bad_fun(n):\n",
        "    raise \"nooo\"\n",
        "#bad_fun(7)\n",
        "\n",
        "try:\n",
        "    bad_fun(5)        #-> any value will rais error\n",
        "except ArithmeticError:\n",
        "    print(\"What happened? An error?\")\n",
        "\n",
        "print(\"THE END.\")\n"
      ]
    },
    {
      "cell_type": "code",
      "execution_count": null,
      "metadata": {
        "colab": {
          "base_uri": "https://localhost:8080/"
        },
        "outputId": "8d6cf201-915f-4198-bca6-131338f85ff4",
        "id": "72MmJmEMCdu_"
      },
      "outputs": [
        {
          "output_type": "stream",
          "name": "stdout",
          "text": [
            "I did it again!\n",
            "THE END.\n"
          ]
        }
      ],
      "source": [
        "# The ZeroDivisionError is raised twice:\n",
        "def bad_fun(n):\n",
        "    try:\n",
        "        return n / 0\n",
        "    except:\n",
        "        print(\"I did it again!\")  #excuted\n",
        "        #raise        #--> raise error\n",
        "\n",
        "#bad_fun(0)\n",
        "try:\n",
        "    bad_fun(0)\n",
        "except ArithmeticError:\n",
        "    print(\"I see!\")\n",
        "\n",
        "print(\"THE END.\")\n"
      ]
    },
    {
      "cell_type": "markdown",
      "metadata": {
        "id": "Gi4z3crcCdu_"
      },
      "source": [
        "### assert expression\n",
        "\n",
        "- It evaluates the expression;\n",
        "- if the expression evaluates to True, or a non-zero numerical value, or non-empty string, or any other value different than None, it won't do anything else;\n",
        "- otherwise, it automatically and immediately raises an exception named AssertionError (in this case, we say that the assertion has failed)\n"
      ]
    },
    {
      "cell_type": "code",
      "execution_count": null,
      "metadata": {
        "colab": {
          "base_uri": "https://localhost:8080/",
          "height": 253
        },
        "outputId": "9de19521-f53d-4592-a6aa-e0489d3c85ae",
        "id": "OY1ZN4ayCdu_"
      },
      "outputs": [
        {
          "name": "stdout",
          "output_type": "stream",
          "text": [
            "Enter a number: -2\n"
          ]
        },
        {
          "output_type": "error",
          "ename": "AssertionError",
          "evalue": "ignored",
          "traceback": [
            "\u001b[0;31m---------------------------------------------------------------------------\u001b[0m",
            "\u001b[0;31mAssertionError\u001b[0m                            Traceback (most recent call last)",
            "\u001b[0;32m<ipython-input-8-90c3b96ddf5f>\u001b[0m in \u001b[0;36m<cell line: 4>\u001b[0;34m()\u001b[0m\n\u001b[1;32m      2\u001b[0m \u001b[0;34m\u001b[0m\u001b[0m\n\u001b[1;32m      3\u001b[0m \u001b[0mx\u001b[0m \u001b[0;34m=\u001b[0m \u001b[0mfloat\u001b[0m\u001b[0;34m(\u001b[0m\u001b[0minput\u001b[0m\u001b[0;34m(\u001b[0m\u001b[0;34m\"Enter a number: \"\u001b[0m\u001b[0;34m)\u001b[0m\u001b[0;34m)\u001b[0m\u001b[0;34m\u001b[0m\u001b[0;34m\u001b[0m\u001b[0m\n\u001b[0;32m----> 4\u001b[0;31m \u001b[0;32massert\u001b[0m \u001b[0mx\u001b[0m \u001b[0;34m>=\u001b[0m \u001b[0;36m0.0\u001b[0m   \u001b[0;31m#to be safed from wrong data\u001b[0m\u001b[0;34m\u001b[0m\u001b[0;34m\u001b[0m\u001b[0m\n\u001b[0m\u001b[1;32m      5\u001b[0m \u001b[0;34m\u001b[0m\u001b[0m\n\u001b[1;32m      6\u001b[0m \u001b[0mx\u001b[0m \u001b[0;34m=\u001b[0m \u001b[0mmath\u001b[0m\u001b[0;34m.\u001b[0m\u001b[0msqrt\u001b[0m\u001b[0;34m(\u001b[0m\u001b[0mx\u001b[0m\u001b[0;34m)\u001b[0m\u001b[0;34m\u001b[0m\u001b[0;34m\u001b[0m\u001b[0m\n",
            "\u001b[0;31mAssertionError\u001b[0m: "
          ]
        }
      ],
      "source": [
        "import math\n",
        "\n",
        "x = float(input(\"Enter a number: \"))\n",
        "assert x >= 0.0   #to be safed from wrong data\n",
        "\n",
        "x = math.sqrt(x)\n",
        "\n",
        "print(x)\n"
      ]
    },
    {
      "cell_type": "markdown",
      "metadata": {
        "id": "g4FNR1WiCdu_"
      },
      "source": [
        "### IndexError"
      ]
    },
    {
      "cell_type": "code",
      "execution_count": null,
      "metadata": {
        "colab": {
          "base_uri": "https://localhost:8080/"
        },
        "outputId": "45eaae25-5e02-4943-ce56-f69a4581e3c5",
        "id": "FyD7NiHKCdu_"
      },
      "outputs": [
        {
          "output_type": "stream",
          "name": "stdout",
          "text": [
            "1\n",
            "2\n",
            "3\n",
            "4\n",
            "5\n",
            "Exception occurred: list index out of range\n"
          ]
        }
      ],
      "source": [
        "# The code shows an extravagant way\n",
        "# of leaving the loop.\n",
        "\n",
        "the_list = [1, 2, 3, 4, 5]\n",
        "ix = 0\n",
        "do_it = True\n",
        "\n",
        "while do_it:\n",
        "    try:\n",
        "        print(the_list[ix])\n",
        "        ix += 1\n",
        "    except IndexError as e:\n",
        "        print(\"Exception occurred: {}\".format(e))\n",
        "        do_it = False"
      ]
    },
    {
      "cell_type": "markdown",
      "metadata": {
        "id": "NueJ-usOCdvA"
      },
      "source": [
        "### KeyboardInterrupt"
      ]
    },
    {
      "cell_type": "code",
      "execution_count": null,
      "metadata": {
        "colab": {
          "base_uri": "https://localhost:8080/"
        },
        "outputId": "69a4933d-e206-4ce9-8fe3-b36340cbfd68",
        "id": "65tWu3fNCdvA"
      },
      "outputs": [
        {
          "output_type": "stream",
          "name": "stdout",
          "text": [
            "0\n",
            "1\n",
            "2\n",
            "3\n",
            "4\n",
            "5\n",
            "Don't do that!\n"
          ]
        }
      ],
      "source": [
        "# This code cannot be terminated\n",
        "# by pressing Ctrl-C.\n",
        "\n",
        "from time import sleep\n",
        "\n",
        "seconds = 0\n",
        "\n",
        "while True:\n",
        "    try:\n",
        "        print(seconds)\n",
        "        seconds += 1\n",
        "        sleep(1)\n",
        "    except KeyboardInterrupt:\n",
        "        print(\"Don't do that!\")\n",
        "        break"
      ]
    },
    {
      "cell_type": "markdown",
      "metadata": {
        "id": "7c65qcTrCdvA"
      },
      "source": [
        "### ImportError"
      ]
    },
    {
      "cell_type": "code",
      "source": [
        "import math\n",
        "import time\n",
        "import abracadabra"
      ],
      "metadata": {
        "colab": {
          "base_uri": "https://localhost:8080/",
          "height": 340
        },
        "outputId": "b26c5086-59fa-4f18-f62e-0c9eefead09e",
        "id": "h8wWEJKhCdvA"
      },
      "execution_count": null,
      "outputs": [
        {
          "output_type": "error",
          "ename": "ModuleNotFoundError",
          "evalue": "ignored",
          "traceback": [
            "\u001b[0;31m---------------------------------------------------------------------------\u001b[0m",
            "\u001b[0;31mModuleNotFoundError\u001b[0m                       Traceback (most recent call last)",
            "\u001b[0;32m<ipython-input-13-ca9bc4c41b8e>\u001b[0m in \u001b[0;36m<cell line: 3>\u001b[0;34m()\u001b[0m\n\u001b[1;32m      1\u001b[0m \u001b[0;32mimport\u001b[0m \u001b[0mmath\u001b[0m\u001b[0;34m\u001b[0m\u001b[0;34m\u001b[0m\u001b[0m\n\u001b[1;32m      2\u001b[0m \u001b[0;32mimport\u001b[0m \u001b[0mtime\u001b[0m\u001b[0;34m\u001b[0m\u001b[0;34m\u001b[0m\u001b[0m\n\u001b[0;32m----> 3\u001b[0;31m \u001b[0;32mimport\u001b[0m \u001b[0mabracadabra\u001b[0m\u001b[0;34m\u001b[0m\u001b[0;34m\u001b[0m\u001b[0m\n\u001b[0m",
            "\u001b[0;31mModuleNotFoundError\u001b[0m: No module named 'abracadabra'",
            "",
            "\u001b[0;31m---------------------------------------------------------------------------\u001b[0;32m\nNOTE: If your import is failing due to a missing package, you can\nmanually install dependencies using either !pip or !apt.\n\nTo view examples of installing some common dependencies, click the\n\"Open Examples\" button below.\n\u001b[0;31m---------------------------------------------------------------------------\u001b[0m\n"
          ],
          "errorDetails": {
            "actions": [
              {
                "action": "open_url",
                "actionText": "Open Examples",
                "url": "/notebooks/snippets/importing_libraries.ipynb"
              }
            ]
          }
        }
      ]
    },
    {
      "cell_type": "markdown",
      "metadata": {
        "id": "-R3dWa5uCdvB"
      },
      "source": [
        "### KeyError"
      ]
    },
    {
      "cell_type": "code",
      "execution_count": null,
      "metadata": {
        "colab": {
          "base_uri": "https://localhost:8080/"
        },
        "outputId": "c8c6d91a-f0ad-4f7b-a7ba-6c4bf5dc2cc5",
        "id": "BI4Wyet5CdvB"
      },
      "outputs": [
        {
          "name": "stdout",
          "output_type": "stream",
          "text": [
            "b\n",
            "c\n",
            "d\n",
            "No such key: d\n"
          ]
        }
      ],
      "source": [
        "# How to abuse the dictionary\n",
        "# and how to deal with it?\n",
        "\n",
        "dictionary = { 'a': 'b', 'b': 'c', 'c': 'd' }\n",
        "ch = 'a'\n",
        "\n",
        "try:\n",
        "    while True:\n",
        "        ch = dictionary[ch]\n",
        "        print(ch)\n",
        "except KeyError:\n",
        "    print('No such key:', ch)\n",
        "\n"
      ]
    },
    {
      "cell_type": "markdown",
      "metadata": {
        "id": "5AOIWuUFCdvB"
      },
      "source": [
        "### OverflowError\n",
        "raised when an operation produces a number too big to be successfully stored"
      ]
    },
    {
      "cell_type": "code",
      "execution_count": null,
      "metadata": {
        "colab": {
          "base_uri": "https://localhost:8080/"
        },
        "outputId": "4aaaf042-ac21-41d3-85a2-badb3790d78e",
        "id": "rXRGeLyDCdvB"
      },
      "outputs": [
        {
          "name": "stdout",
          "output_type": "stream",
          "text": [
            "2.718281828459045\n",
            "7.38905609893065\n",
            "54.598150033144236\n",
            "2980.9579870417283\n",
            "8886110.520507872\n",
            "78962960182680.69\n",
            "6.235149080811617e+27\n",
            "3.887708405994595e+55\n",
            "1.5114276650041035e+111\n",
            "2.2844135865397565e+222\n",
            "The number is too big.\n"
          ]
        }
      ],
      "source": [
        "# The code prints subsequent\n",
        "# values of exp(k), k = 1, 2, 4, 8, 16, ...\n",
        "\n",
        "from math import exp\n",
        "\n",
        "ex = 1\n",
        "\n",
        "try:\n",
        "    while True:\n",
        "        print(exp(ex))\n",
        "        ex *= 2\n",
        "except OverflowError:\n",
        "    print('The number is too bi g.')\n"
      ]
    },
    {
      "cell_type": "markdown",
      "metadata": {
        "id": "XgXzTMSsFpA9"
      },
      "source": [
        "### Log Exceptions"
      ]
    },
    {
      "cell_type": "code",
      "source": [
        "!pip install colorlog"
      ],
      "metadata": {
        "colab": {
          "base_uri": "https://localhost:8080/"
        },
        "id": "zJ45oc2m78G7",
        "outputId": "f2a6011a-494b-4ff6-d9ea-22b0f2496590"
      },
      "execution_count": null,
      "outputs": [
        {
          "output_type": "stream",
          "name": "stdout",
          "text": [
            "Collecting colorlog\n",
            "  Downloading colorlog-6.8.2-py3-none-any.whl (11 kB)\n",
            "Installing collected packages: colorlog\n",
            "Successfully installed colorlog-6.8.2\n"
          ]
        }
      ]
    },
    {
      "cell_type": "code",
      "source": [
        "import logging\n",
        "from colorlog import ColoredFormatter\n",
        "\n",
        "# Set up colored logging\n",
        "stream_formatter = ColoredFormatter(\n",
        "    f\"%(white)s%(asctime)s - %(log_color)s%(levelname)-8s : %(message)s\",\n",
        "    datefmt=\"%d-%b-%y %H:%M:%S\",\n",
        "    reset=True,\n",
        "    log_colors={\n",
        "        \"DEBUG\": \"purple\",\n",
        "        \"INFO\": \"green\",\n",
        "        \"WARNING\": \"yellow\",\n",
        "        \"ERROR\": \"red\",\n",
        "        \"CRITICAL\": \"red\",\n",
        "    },\n",
        ")\n",
        "file_formatter = logging.Formatter(\n",
        "    f\"%(asctime)s - %(name)s - %(levelname)s : %(message)s\"\n",
        ")\n",
        "\n",
        "stream_handler = logging.StreamHandler()\n",
        "stream_handler.setFormatter(stream_formatter)\n",
        "\n",
        "file_handler = logging.FileHandler(\"application.log\")\n",
        "file_handler.setFormatter(file_formatter)\n",
        "\n",
        "logger = logging.getLogger(__name__)\n",
        "logger.propagate = False\n",
        "logger.addHandler(stream_handler)\n",
        "logger.addHandler(file_handler)\n",
        "logger.setLevel(logging.INFO)\n",
        "\n",
        "if __name__ == \"__main__\":\n",
        "  logger.info(\"Starting The Server...\")\n",
        "  # negative number -->Error\n",
        "  import math\n",
        "  try:\n",
        "    x = float(input(\"Enter x: \"))\n",
        "    y = math.sqrt(x)\n",
        "    print(\"The square root of\", x, \"equals to\", y)\n",
        "  except KeyboardInterrupt:\n",
        "    logger.info(\"Received KeyboardInterrupt. Cleaning up...\")\n",
        "  except BaseException as e:\n",
        "    logger.error(str(e))\n",
        "  finally:\n",
        "    logger.info(\"Cleanup complete. Exiting...\")"
      ],
      "metadata": {
        "id": "s6Eie4YXAkZ6",
        "colab": {
          "base_uri": "https://localhost:8080/"
        },
        "outputId": "973d3fae-1d1b-4ceb-bb8c-1e65cd5bc2ed"
      },
      "execution_count": null,
      "outputs": [
        {
          "output_type": "stream",
          "name": "stderr",
          "text": [
            "\u001b[37m24-Feb-24 16:28:00 - \u001b[32mINFO     : Starting The Server...\u001b[0m\n",
            "\u001b[37m24-Feb-24 16:28:00 - \u001b[32mINFO     : Starting The Server...\u001b[0m\n",
            "\u001b[37m24-Feb-24 16:28:00 - \u001b[32mINFO     : Starting The Server...\u001b[0m\n"
          ]
        },
        {
          "name": "stdout",
          "output_type": "stream",
          "text": [
            "Enter x: -8\n"
          ]
        },
        {
          "output_type": "stream",
          "name": "stderr",
          "text": [
            "\u001b[37m24-Feb-24 16:28:07 - \u001b[31mERROR    : math domain error\u001b[0m\n",
            "\u001b[37m24-Feb-24 16:28:07 - \u001b[31mERROR    : math domain error\u001b[0m\n",
            "\u001b[37m24-Feb-24 16:28:07 - \u001b[31mERROR    : math domain error\u001b[0m\n",
            "\u001b[37m24-Feb-24 16:28:07 - \u001b[32mINFO     : Cleanup complete. Exiting...\u001b[0m\n",
            "\u001b[37m24-Feb-24 16:28:07 - \u001b[32mINFO     : Cleanup complete. Exiting...\u001b[0m\n",
            "\u001b[37m24-Feb-24 16:28:07 - \u001b[32mINFO     : Cleanup complete. Exiting...\u001b[0m\n"
          ]
        }
      ]
    },
    {
      "cell_type": "markdown",
      "source": [
        "**exercise** <br>\n",
        "Send any error in your system in slack"
      ],
      "metadata": {
        "id": "RqTjK2kKAaoi"
      }
    },
    {
      "cell_type": "markdown",
      "metadata": {
        "id": "HmvacjNbRNOV"
      },
      "source": [
        "------------------------------------------------------------"
      ]
    },
    {
      "cell_type": "markdown",
      "metadata": {
        "id": "Rq_Bu-ZMcWLs"
      },
      "source": [
        "# Using Files"
      ]
    },
    {
      "cell_type": "code",
      "execution_count": null,
      "metadata": {
        "colab": {
          "base_uri": "https://localhost:8080/"
        },
        "id": "BmIeaH_ZVN1Q",
        "outputId": "ac04eacf-6a98-4f2b-be42-2a23c69c6d57"
      },
      "outputs": [
        {
          "output_type": "execute_result",
          "data": {
            "text/plain": [
              "<function TextIOWrapper.close()>"
            ]
          },
          "metadata": {},
          "execution_count": 133
        }
      ],
      "source": [
        "# 'r' --> read only\n",
        "f = open('/content/try.txt', 'r')\n",
        "file_data = f.read()\n",
        "f.close"
      ]
    },
    {
      "cell_type": "code",
      "execution_count": null,
      "metadata": {
        "colab": {
          "base_uri": "https://localhost:8080/"
        },
        "id": "Sb3XNtcfcamv",
        "outputId": "dabdf8c7-4863-4e33-acc6-abe222ababd0"
      },
      "outputs": [
        {
          "output_type": "stream",
          "name": "stdout",
          "text": [
            "hello world\n",
            "here is NTI\n",
            "congrats\n"
          ]
        }
      ],
      "source": [
        "print(file_data)"
      ]
    },
    {
      "cell_type": "code",
      "execution_count": null,
      "metadata": {
        "id": "nM_WNRdzcjwT"
      },
      "outputs": [],
      "source": [
        "# 'w' --> write mode\n",
        "f = open('/content/try.txt', 'w')\n",
        "f.write(\"writing mode on ...\")\n",
        "f.close()"
      ]
    },
    {
      "cell_type": "code",
      "execution_count": null,
      "metadata": {
        "colab": {
          "base_uri": "https://localhost:8080/",
          "height": 35
        },
        "id": "PGiPPGjWB3Pf",
        "outputId": "2c0aec9c-d057-4043-db1d-e66cb3084386"
      },
      "outputs": [
        {
          "output_type": "execute_result",
          "data": {
            "text/plain": [
              "'/content/try.txt'"
            ],
            "application/vnd.google.colaboratory.intrinsic+json": {
              "type": "string"
            }
          },
          "metadata": {},
          "execution_count": 136
        }
      ],
      "source": [
        "f.name"
      ]
    },
    {
      "cell_type": "markdown",
      "metadata": {
        "id": "DGqVsJDdcry3"
      },
      "source": [
        "This ***with*** keyword allows you to open a file, do operations on it, and automatically close it after the indented code is executed"
      ]
    },
    {
      "cell_type": "code",
      "execution_count": null,
      "metadata": {
        "id": "Ev8ctUSBclib"
      },
      "outputs": [],
      "source": [
        "# auto close\n",
        "with open('/content/try.txt', 'r') as f:\n",
        "  file_data = f.read()"
      ]
    },
    {
      "cell_type": "code",
      "execution_count": null,
      "metadata": {
        "colab": {
          "base_uri": "https://localhost:8080/"
        },
        "id": "Bj0FckMDcufc",
        "outputId": "41172b0f-1c73-432d-ca08-4a7e466f2038"
      },
      "outputs": [
        {
          "output_type": "stream",
          "name": "stdout",
          "text": [
            "writing mode on ...\n"
          ]
        }
      ],
      "source": [
        "print(file_data)"
      ]
    },
    {
      "cell_type": "code",
      "execution_count": null,
      "metadata": {
        "id": "L2Qe4Z7icwVE"
      },
      "outputs": [],
      "source": [
        "# 'a' --> append mode\n",
        "with open('/content/try.txt', 'a') as f:\n",
        "  f.write('\\nappending mode ...')"
      ]
    },
    {
      "cell_type": "markdown",
      "metadata": {
        "id": "LRFQeapLc09O"
      },
      "source": [
        "#### read line by line from file"
      ]
    },
    {
      "cell_type": "code",
      "execution_count": null,
      "metadata": {
        "id": "nIIOR_6GcyVL"
      },
      "outputs": [],
      "source": [
        "with open('/content/try.txt', 'r') as f:\n",
        "  line1= f.readline()\n",
        "  line2= f.readline()"
      ]
    },
    {
      "cell_type": "code",
      "execution_count": null,
      "metadata": {
        "colab": {
          "base_uri": "https://localhost:8080/"
        },
        "id": "_NqoHl4Oc-3q",
        "outputId": "82e81291-08ef-4f4b-e764-1a5766dc8e17"
      },
      "outputs": [
        {
          "output_type": "stream",
          "name": "stdout",
          "text": [
            "writing mode on ...\n",
            "\n",
            "appending mode ...\n"
          ]
        }
      ],
      "source": [
        "print(line1)\n",
        "print(line2)"
      ]
    },
    {
      "cell_type": "code",
      "execution_count": null,
      "metadata": {
        "colab": {
          "base_uri": "https://localhost:8080/"
        },
        "id": "N4IW34S2eSrO",
        "outputId": "9ce14220-e056-45da-8052-d162063fea00"
      },
      "outputs": [
        {
          "output_type": "stream",
          "name": "stdout",
          "text": [
            "writing mode on ...\n",
            "\n",
            "appending mode ...\n"
          ]
        }
      ],
      "source": [
        "with open('/content/try.txt', 'r') as f:\n",
        "  for line in f:\n",
        "    print(line)"
      ]
    },
    {
      "cell_type": "markdown",
      "metadata": {
        "id": "foKZ5v2hdXjb"
      },
      "source": [
        "**exercise:** <br>\n",
        "\n",
        "Write a python program to find the longest words in file."
      ]
    },
    {
      "cell_type": "code",
      "execution_count": null,
      "metadata": {
        "colab": {
          "base_uri": "https://localhost:8080/"
        },
        "id": "p1J39TA-dHNP",
        "outputId": "260cb100-0dbd-4d39-db92-d91287aa9946"
      },
      "outputs": [
        {
          "output_type": "stream",
          "name": "stdout",
          "text": [
            "['appending']\n"
          ]
        }
      ],
      "source": [
        "def longest_word(filename):\n",
        "    with open(filename, 'r') as infile:\n",
        "      words = infile.read().split()\n",
        "      #words.append(\"appendink\")\n",
        "      max_word = max(words, key=len)\n",
        "      max_len = len(max_word)\n",
        "    return [word for word in words if len(word) == max_len]\n",
        "\n",
        "print(longest_word('try.txt'))"
      ]
    },
    {
      "cell_type": "markdown",
      "metadata": {
        "id": "OD3e9e2oea-d"
      },
      "source": [
        "### random"
      ]
    },
    {
      "cell_type": "code",
      "execution_count": null,
      "metadata": {
        "colab": {
          "base_uri": "https://localhost:8080/"
        },
        "id": "74Nj9SUdcpQ2",
        "outputId": "7f45ef6c-c385-4a30-b6be-93c8558564bf"
      },
      "outputs": [
        {
          "name": "stdout",
          "output_type": "stream",
          "text": [
            "0.6947834537984674\n",
            "0.01982375216883303\n",
            "0.4275865868494696\n",
            "0.16674014418240624\n",
            "0.8939627388804938\n"
          ]
        }
      ],
      "source": [
        "from random import random\n",
        "\n",
        "for i in range(5):\n",
        "    print(random())          # range 0 - 1\n"
      ]
    },
    {
      "cell_type": "markdown",
      "metadata": {
        "id": "vqCV8NyCfXH-"
      },
      "source": [
        "#### seed()\n",
        "\n",
        "- seed() - sets the seed with the current time;\n",
        "- seed(int_value) - sets the seed with the integer value int_value.\n",
        "\n"
      ]
    },
    {
      "cell_type": "code",
      "execution_count": null,
      "metadata": {
        "colab": {
          "base_uri": "https://localhost:8080/"
        },
        "id": "Tlfj6QN8e9FT",
        "outputId": "a0815c96-bc75-4c99-e80c-ee9e97630865"
      },
      "outputs": [
        {
          "name": "stdout",
          "output_type": "stream",
          "text": [
            "0.07742178385330412\n",
            "0.2136167894649883\n",
            "0.3031283371027854\n",
            "0.9002136829331141\n",
            "0.496252492251408\n"
          ]
        }
      ],
      "source": [
        "# By default the random number generator uses the current system time.\n",
        "from random import random, seed\n",
        "\n",
        "seed(32)\n",
        "\n",
        "for i in range(5):\n",
        "    print(random())\n",
        "\n"
      ]
    },
    {
      "cell_type": "code",
      "execution_count": null,
      "metadata": {
        "colab": {
          "base_uri": "https://localhost:8080/",
          "height": 35
        },
        "id": "EPpKYaZagXnS",
        "outputId": "20e3e5da-4670-4ec8-b99d-83d9fffa8bc6"
      },
      "outputs": [
        {
          "data": {
            "application/vnd.google.colaboratory.intrinsic+json": {
              "type": "string"
            },
            "text/plain": [
              "'g'"
            ]
          },
          "execution_count": 26,
          "metadata": {},
          "output_type": "execute_result"
        }
      ],
      "source": [
        "import random\n",
        "\n",
        "names = [\"a\" , \"g\", \"dg\", \"gg\"]\n",
        "v = random.choice(names)\n",
        "v"
      ]
    },
    {
      "cell_type": "code",
      "execution_count": null,
      "metadata": {
        "colab": {
          "base_uri": "https://localhost:8080/"
        },
        "id": "H2mhXtVsgmSG",
        "outputId": "ad2af497-bf68-452c-ef27-919337c953af"
      },
      "outputs": [
        {
          "data": {
            "text/plain": [
              "['a', 'dg', 'gg', 'dg', 'gg']"
            ]
          },
          "execution_count": 6,
          "metadata": {},
          "output_type": "execute_result"
        }
      ],
      "source": [
        "v = random.choices(names, k=5)\n",
        "v"
      ]
    },
    {
      "cell_type": "code",
      "execution_count": null,
      "metadata": {
        "colab": {
          "base_uri": "https://localhost:8080/",
          "height": 159
        },
        "id": "pRm9I7p1i0Md",
        "outputId": "a99062b8-607c-4ede-a443-24f25c02b2dc"
      },
      "outputs": [
        {
          "output_type": "error",
          "ename": "NameError",
          "evalue": "name 'names' is not defined",
          "traceback": [
            "\u001b[0;31m---------------------------------------------------------------------------\u001b[0m",
            "\u001b[0;31mNameError\u001b[0m                                 Traceback (most recent call last)",
            "\u001b[0;32m<ipython-input-1-72dc732d2f5e>\u001b[0m in \u001b[0;36m<cell line: 2>\u001b[0;34m()\u001b[0m\n\u001b[1;32m      1\u001b[0m \u001b[0;32mimport\u001b[0m \u001b[0mrandom\u001b[0m\u001b[0;34m\u001b[0m\u001b[0;34m\u001b[0m\u001b[0m\n\u001b[0;32m----> 2\u001b[0;31m \u001b[0mprint\u001b[0m\u001b[0;34m(\u001b[0m\u001b[0mrandom\u001b[0m\u001b[0;34m.\u001b[0m\u001b[0msample\u001b[0m\u001b[0;34m(\u001b[0m\u001b[0mnames\u001b[0m\u001b[0;34m,\u001b[0m \u001b[0;36m4\u001b[0m\u001b[0;34m)\u001b[0m\u001b[0;34m)\u001b[0m        \u001b[0;31m# error (more than 4)\u001b[0m\u001b[0;34m\u001b[0m\u001b[0;34m\u001b[0m\u001b[0m\n\u001b[0m",
            "\u001b[0;31mNameError\u001b[0m: name 'names' is not defined"
          ]
        }
      ],
      "source": [
        "import random\n",
        "print(random.sample(names, 4))        # error (more than 4)"
      ]
    },
    {
      "cell_type": "code",
      "execution_count": null,
      "metadata": {
        "colab": {
          "base_uri": "https://localhost:8080/"
        },
        "id": "B-lemNpjg6uX",
        "outputId": "04b088be-f1c9-4080-ca24-4ba58467137c"
      },
      "outputs": [
        {
          "name": "stdout",
          "output_type": "stream",
          "text": [
            "0 1 0 6\n"
          ]
        }
      ],
      "source": [
        "from random import randrange, randint\n",
        "\n",
        "print(randrange(1), end=' ')\n",
        "print(randrange(0, 5), end=' ')\n",
        "print(randrange(0, 1, 1), end=' ')         # (beg, end, step)\n",
        "print(randint(0, 10))                      # when you want to generate a random number from an inclusive range."
      ]
    },
    {
      "cell_type": "code",
      "execution_count": null,
      "metadata": {
        "colab": {
          "base_uri": "https://localhost:8080/"
        },
        "id": "up9PBimChub7",
        "outputId": "ce61de99-9740-472e-d36f-22d9c2aca025"
      },
      "outputs": [
        {
          "name": "stdout",
          "output_type": "stream",
          "text": [
            "2\n"
          ]
        }
      ],
      "source": [
        "print(randint(0, 10))\n"
      ]
    },
    {
      "cell_type": "code",
      "execution_count": null,
      "metadata": {
        "colab": {
          "base_uri": "https://localhost:8080/"
        },
        "id": "yFgL4eQtiOT9",
        "outputId": "633a4711-117f-464d-b5cb-aa12eb5b1d7f"
      },
      "outputs": [
        {
          "name": "stdout",
          "output_type": "stream",
          "text": [
            "5,4,10,10,1,3,6,7,7,2,"
          ]
        }
      ],
      "source": [
        "from random import randint\n",
        "\n",
        "for i in range(10):\n",
        "    print(randint(1, 10), end=',')\n"
      ]
    },
    {
      "cell_type": "markdown",
      "metadata": {
        "id": "n8I7zqt-hxXj"
      },
      "source": [
        "**exercise:** <br>\n",
        "Write a Python program to read a random line from a file."
      ]
    },
    {
      "cell_type": "code",
      "execution_count": null,
      "metadata": {
        "colab": {
          "base_uri": "https://localhost:8080/"
        },
        "id": "cRGStrZrhu2s",
        "outputId": "4842f2e8-e15b-4c6c-be7b-8b736bfa17ad"
      },
      "outputs": [
        {
          "name": "stdout",
          "output_type": "stream",
          "text": [
            "writing mode on ...\n"
          ]
        }
      ],
      "source": [
        "import random\n",
        "def random_line(fname):\n",
        "    lines = open(fname).read().splitlines()\n",
        "    return random.choice(lines)\n",
        "\n",
        "print(random_line('try.txt'))"
      ]
    },
    {
      "cell_type": "markdown",
      "metadata": {
        "id": "aFaqsie_7rqm"
      },
      "source": [
        "# Procedural Programming vs OOP\n",
        "\n",
        "- In procedural programming, the program is divided into small parts called functions.\n",
        "- In object-oriented programming, the program is divided into small parts called objects."
      ]
    },
    {
      "cell_type": "markdown",
      "metadata": {
        "id": "LhgJw83m6192"
      },
      "source": [
        "### What is a stack?\n",
        "A stack is a structure developed to store data in a very specific way.\n",
        "-  LIFO.  --> (Last In - First Out.)\n",
        "\n",
        "A stack is an object with two elementary operations, conventionally named push (when a new element is put on the top) and pop (when an existing element is taken away from the top)."
      ]
    },
    {
      "cell_type": "code",
      "execution_count": null,
      "metadata": {
        "colab": {
          "base_uri": "https://localhost:8080/"
        },
        "id": "IplLPj0W-0wH",
        "outputId": "b2436769-7437-4563-aa9c-63976b689d72"
      },
      "outputs": [
        {
          "output_type": "stream",
          "name": "stdout",
          "text": [
            "1\n",
            "2\n",
            "3\n"
          ]
        }
      ],
      "source": [
        "stack = []\n",
        "\n",
        "def push(val):\n",
        "    stack.append(val)\n",
        "\n",
        "def pop():\n",
        "    val = stack[-1]\n",
        "    del stack[-1]\n",
        "    return val\n",
        "\n",
        "\n",
        "push(3)\n",
        "push(2)\n",
        "push(1)\n",
        "\n",
        "print(pop())\n",
        "print(pop())\n",
        "print(pop())\n",
        "\n",
        "push(3)\n",
        "push(2)\n",
        "push(1)\n"
      ]
    },
    {
      "cell_type": "code",
      "execution_count": null,
      "metadata": {
        "id": "ODnGrFasD8vz",
        "colab": {
          "base_uri": "https://localhost:8080/"
        },
        "outputId": "4618047d-4d32-4c3d-b289-335438d94108"
      },
      "outputs": [
        {
          "output_type": "execute_result",
          "data": {
            "text/plain": [
              "[0, 2, 1]"
            ]
          },
          "metadata": {},
          "execution_count": 163
        }
      ],
      "source": [
        "stack[0] = 0       # anyone can modify it in an uncontrollable way, destroying the stack, in effect\n",
        "stack"
      ]
    },
    {
      "cell_type": "markdown",
      "metadata": {
        "id": "pBZHfkoj-BQ-"
      },
      "source": [
        "# Object-Oriented Programming\n",
        "\n",
        "- OOP allows you to create large, modular programs that can easily expand over time.\n",
        "- OOP hide the implementation from the end-user.\n"
      ]
    },
    {
      "cell_type": "markdown",
      "metadata": {
        "id": "2lCK8CjZMqU8"
      },
      "source": [
        "- **Class:** A blueprint consisting of methods and attributes.\n",
        "- **Object:** An instance of a class. It can help to think of objects as something in the real world like a yellow pencil, a small dog, or a blue shirt. However, as you'll see later in the lesson, objects can be more abstract.\n",
        "- **Attribute:** A descriptor or characteristic. Examples would be color, length, size, etc. These attributes can take on specific values like blue, 3 inches, large, etc.\n",
        "- **Method:** An action that a class or object could take."
      ]
    },
    {
      "cell_type": "markdown",
      "metadata": {
        "id": "Jm5o6TJR7vXj"
      },
      "source": [
        "Encapsulation; the encapsulated values can be neither accessed nor modified if you want to use them exclusively;"
      ]
    },
    {
      "cell_type": "markdown",
      "metadata": {
        "id": "OhIgcfecNSiA"
      },
      "source": [
        "### Function versus Method\n",
        "\n",
        " The difference is that a method is inside of a class whereas a function is outside of a class."
      ]
    },
    {
      "cell_type": "markdown",
      "metadata": {
        "id": "Q1KOcXOSMqe8"
      },
      "source": [
        "### What Is self?\n",
        "If you instantiate two objects, how does Python differentiate between these two objects?"
      ]
    },
    {
      "cell_type": "markdown",
      "metadata": {
        "id": "rUWzqjw9Gv2s"
      },
      "source": [
        "- the constructor's name is always \\__init__\\()\n",
        "- ____init__\\__ method is called anytime an object is created.\n",
        "\n",
        "- it has to have at least one parameter (self)\n",
        "\n",
        "- note: the obligatory parameter is usually named self - it's only a convention, but you should follow it - it simplifies the process of reading and understanding your code.\n"
      ]
    },
    {
      "cell_type": "markdown",
      "metadata": {
        "id": "nLiclELwRRYC"
      },
      "source": [
        "**Note that the constructor:**\n",
        "- cannot return a value, as it is designed to return a newly created object and nothing else.\n",
        "\n",
        "- cannot be invoked directly either from the object or from inside the class\n",
        "- (you can invoke a constructor from any of the object's subclasses, but we'll discuss this issue later.)\n"
      ]
    },
    {
      "cell_type": "code",
      "execution_count": null,
      "metadata": {
        "colab": {
          "base_uri": "https://localhost:8080/"
        },
        "id": "UCEBId39FUnk",
        "outputId": "dc555bc4-91e4-4048-e868-ecdc8c4c310e"
      },
      "outputs": [
        {
          "output_type": "stream",
          "name": "stdout",
          "text": [
            "Hi!\n"
          ]
        }
      ],
      "source": [
        "class Stack:  # Defining the Stack class.\n",
        "    def __init__(self):  # Defining the constructor function.\n",
        "        print(\"Hi!\")\n",
        "\n",
        "\n",
        "stack_object = Stack()  # Instantiating the object.\n"
      ]
    },
    {
      "cell_type": "code",
      "execution_count": null,
      "metadata": {
        "id": "yRfZBw4VUvNR"
      },
      "outputs": [],
      "source": [
        "class Shirt:\n",
        "  def __init__ ( self, shirt_color, shirt_size, shirt_style, shirt_price):\n",
        "    self._color = shirt_color\n",
        "    self.size = shirt_size\n",
        "    self.style = shirt_style\n",
        "    self.price = shirt_price\n",
        "\n",
        "  def change_price (self, new_price):\n",
        "    self.price = new_price\n",
        "\n",
        "  def discount(self, discount) :\n",
        "    return self.price * (1 - discount)\n"
      ]
    },
    {
      "cell_type": "code",
      "execution_count": null,
      "metadata": {
        "colab": {
          "base_uri": "https://localhost:8080/"
        },
        "id": "7FMYkC6IP2N3",
        "outputId": "e96cc679-2941-47f3-a3f9-6f4611fdf64d"
      },
      "outputs": [
        {
          "output_type": "stream",
          "name": "stdout",
          "text": [
            "red\n",
            "S\n",
            "short sleeve\n",
            "15\n"
          ]
        }
      ],
      "source": [
        "# object from shirt class\n",
        "new_shirt = Shirt( 'red', 'S' , 'short sleeve', 15)\n",
        "print(new_shirt._color)\n",
        "print(new_shirt.size)\n",
        "print(new_shirt.style)\n",
        "print(new_shirt.price)"
      ]
    },
    {
      "cell_type": "code",
      "execution_count": null,
      "metadata": {
        "colab": {
          "base_uri": "https://localhost:8080/"
        },
        "id": "FrPV1uPc7C2f",
        "outputId": "ff90f6ff-2181-495e-cbba-d95a9e3e372e"
      },
      "outputs": [
        {
          "name": "stdout",
          "output_type": "stream",
          "text": [
            "cotton\n"
          ]
        }
      ],
      "source": [
        "#add a new data to the object\n",
        "new_shirt.material='cotton'\n",
        "print(new_shirt.material)"
      ]
    },
    {
      "cell_type": "code",
      "execution_count": null,
      "metadata": {
        "colab": {
          "base_uri": "https://localhost:8080/"
        },
        "id": "WfxdKpPSQKQV",
        "outputId": "2b2450a8-bfa7-48a5-8114-c6a877f31dfb"
      },
      "outputs": [
        {
          "data": {
            "text/plain": [
              "10.5"
            ]
          },
          "execution_count": 7,
          "metadata": {},
          "output_type": "execute_result"
        }
      ],
      "source": [
        "new_shirt.discount(.3)"
      ]
    },
    {
      "cell_type": "code",
      "execution_count": null,
      "metadata": {
        "id": "6aNBz3bbRm5u"
      },
      "outputs": [],
      "source": [
        "shirt_two = Shirt('yellow', 'M', 'long-sleeve', 20)"
      ]
    },
    {
      "cell_type": "code",
      "execution_count": null,
      "metadata": {
        "colab": {
          "base_uri": "https://localhost:8080/"
        },
        "id": "ls3mjOPLR2nE",
        "outputId": "c112cda4-629f-4359-87b0-2b3b3f9fb167"
      },
      "outputs": [
        {
          "data": {
            "text/plain": [
              "12"
            ]
          },
          "execution_count": 42,
          "metadata": {},
          "output_type": "execute_result"
        }
      ],
      "source": [
        "#set new price\n",
        "shirt_two.change_price(12)\n",
        "shirt_two.price"
      ]
    },
    {
      "cell_type": "code",
      "execution_count": null,
      "metadata": {
        "colab": {
          "base_uri": "https://localhost:8080/"
        },
        "id": "JC3J3W_jR-NC",
        "outputId": "a0790f6f-2af8-40d5-cb0a-25f289745fdc"
      },
      "outputs": [
        {
          "data": {
            "text/plain": [
              "10.56"
            ]
          },
          "execution_count": 44,
          "metadata": {},
          "output_type": "execute_result"
        }
      ],
      "source": [
        "# discount 12%\n",
        "shirt_two.discount(0.12)"
      ]
    },
    {
      "cell_type": "markdown",
      "metadata": {
        "id": "LIX4KjOf-WO6"
      },
      "source": [
        "### Protected\n",
        "- Attributes and Methods Can be Accessed From Within The Class and Sub Classes\n",
        "- Attributes and methods Prefixed With -One , Underscore _"
      ]
    },
    {
      "cell_type": "code",
      "execution_count": null,
      "metadata": {
        "id": "c8WMv2kKSSLd"
      },
      "outputs": [],
      "source": [
        "class PL:\n",
        "  def __init__(self, name):\n",
        "    self._name =name\n",
        "\n",
        "one = PL(\"C\")"
      ]
    },
    {
      "cell_type": "code",
      "execution_count": null,
      "metadata": {
        "colab": {
          "base_uri": "https://localhost:8080/",
          "height": 35
        },
        "id": "eFCThMjbBt2n",
        "outputId": "54061fb3-44db-4388-b596-d13afc035df1"
      },
      "outputs": [
        {
          "output_type": "execute_result",
          "data": {
            "text/plain": [
              "'C'"
            ],
            "application/vnd.google.colaboratory.intrinsic+json": {
              "type": "string"
            }
          },
          "metadata": {},
          "execution_count": 165
        }
      ],
      "source": [
        "one._name"
      ]
    },
    {
      "cell_type": "code",
      "execution_count": null,
      "metadata": {
        "colab": {
          "base_uri": "https://localhost:8080/",
          "height": 35
        },
        "id": "QoCJ8NnfCECz",
        "outputId": "ababa1be-242e-4ac1-aea9-97d3ec13daa5"
      },
      "outputs": [
        {
          "output_type": "execute_result",
          "data": {
            "text/plain": [
              "'Python'"
            ],
            "application/vnd.google.colaboratory.intrinsic+json": {
              "type": "string"
            }
          },
          "metadata": {},
          "execution_count": 166
        }
      ],
      "source": [
        "one._name = \"Python\"\n",
        "one._name"
      ]
    },
    {
      "cell_type": "markdown",
      "metadata": {
        "id": "I434n3Y4A0Oc"
      },
      "source": [
        "private\n",
        "- Attributes and Methods Can be Accessed From within The Class Or Object Only\n",
        "- Attributes Cannot Be Modified From Outside The Class\n",
        "- Attributes and Methods Prefixed With Two Underscores __"
      ]
    },
    {
      "cell_type": "code",
      "execution_count": null,
      "metadata": {
        "id": "POr_xNo9BDpI"
      },
      "outputs": [],
      "source": [
        "class PL:\n",
        "  def __init__(self, name, experience):\n",
        "    self.__name =name      #Private\n",
        "    self.experience = experience\n",
        "\n",
        "  def HI(self):\n",
        "    return \"Hello {}\".format(self.__name)          # I can access it in the class only\n",
        "\n",
        "one = PL(\"C\", 3)"
      ]
    },
    {
      "cell_type": "code",
      "execution_count": null,
      "metadata": {
        "colab": {
          "base_uri": "https://localhost:8080/",
          "height": 141
        },
        "id": "E5_-YdLoCz6q",
        "outputId": "25e9a13b-63f5-4b97-aebe-bb5373fba729"
      },
      "outputs": [
        {
          "output_type": "error",
          "ename": "AttributeError",
          "evalue": "'PL' object has no attribute '__name'",
          "traceback": [
            "\u001b[0;31m---------------------------------------------------------------------------\u001b[0m",
            "\u001b[0;31mAttributeError\u001b[0m                            Traceback (most recent call last)",
            "\u001b[0;32m<ipython-input-172-667c778fa5ca>\u001b[0m in \u001b[0;36m<cell line: 1>\u001b[0;34m()\u001b[0m\n\u001b[0;32m----> 1\u001b[0;31m \u001b[0mone\u001b[0m\u001b[0;34m.\u001b[0m\u001b[0m__name\u001b[0m         \u001b[0;31m#PL' object has no attribute '__name'/\u001b[0m\u001b[0;34m\u001b[0m\u001b[0;34m\u001b[0m\u001b[0m\n\u001b[0m",
            "\u001b[0;31mAttributeError\u001b[0m: 'PL' object has no attribute '__name'"
          ]
        }
      ],
      "source": [
        "one.__name         #PL' object has no attribute '__name'/"
      ]
    },
    {
      "cell_type": "code",
      "execution_count": null,
      "metadata": {
        "colab": {
          "base_uri": "https://localhost:8080/",
          "height": 141
        },
        "id": "xFgVugUVC_fI",
        "outputId": "26e50857-1ccc-4754-a79c-ae71a783f013"
      },
      "outputs": [
        {
          "output_type": "error",
          "ename": "AttributeError",
          "evalue": "'PL' object has no attribute 'name'",
          "traceback": [
            "\u001b[0;31m---------------------------------------------------------------------------\u001b[0m",
            "\u001b[0;31mAttributeError\u001b[0m                            Traceback (most recent call last)",
            "\u001b[0;32m<ipython-input-169-468cbd1ed873>\u001b[0m in \u001b[0;36m<cell line: 1>\u001b[0;34m()\u001b[0m\n\u001b[0;32m----> 1\u001b[0;31m \u001b[0mone\u001b[0m\u001b[0;34m.\u001b[0m\u001b[0mname\u001b[0m                     \u001b[0;31m#AttributeError: 'PL' object has no attribute 'name'\u001b[0m\u001b[0;34m\u001b[0m\u001b[0;34m\u001b[0m\u001b[0m\n\u001b[0m",
            "\u001b[0;31mAttributeError\u001b[0m: 'PL' object has no attribute 'name'"
          ]
        }
      ],
      "source": [
        "one.name                     #AttributeError: 'PL' object has no attribute 'name'"
      ]
    },
    {
      "cell_type": "code",
      "execution_count": null,
      "metadata": {
        "colab": {
          "base_uri": "https://localhost:8080/",
          "height": 35
        },
        "id": "cUp3XQHfC2DH",
        "outputId": "0d023b75-6027-40cf-b5da-bd5c43ceb910"
      },
      "outputs": [
        {
          "output_type": "execute_result",
          "data": {
            "text/plain": [
              "'Python'"
            ],
            "application/vnd.google.colaboratory.intrinsic+json": {
              "type": "string"
            }
          },
          "metadata": {},
          "execution_count": 173
        }
      ],
      "source": [
        "one.__name = \"Python\"         # I can't edit\n",
        "\n",
        "#one._name\n",
        "one.__name"
      ]
    },
    {
      "cell_type": "code",
      "execution_count": null,
      "metadata": {
        "colab": {
          "base_uri": "https://localhost:8080/",
          "height": 35
        },
        "id": "duiOCom5C7QP",
        "outputId": "daa666b0-b31b-4159-946b-1382aca990c1"
      },
      "outputs": [
        {
          "output_type": "execute_result",
          "data": {
            "text/plain": [
              "'Hello C'"
            ],
            "application/vnd.google.colaboratory.intrinsic+json": {
              "type": "string"
            }
          },
          "metadata": {},
          "execution_count": 174
        }
      ],
      "source": [
        "one.HI()"
      ]
    },
    {
      "cell_type": "code",
      "execution_count": null,
      "metadata": {
        "colab": {
          "base_uri": "https://localhost:8080/"
        },
        "id": "HA6ftpuMDpVK",
        "outputId": "3f7a9981-aa81-449b-8640-3524b904e73c"
      },
      "outputs": [
        {
          "output_type": "stream",
          "name": "stdout",
          "text": [
            "C\n"
          ]
        }
      ],
      "source": [
        "print(one._PL__name)          # no restriction\n",
        "                              # name convention"
      ]
    },
    {
      "cell_type": "code",
      "execution_count": null,
      "metadata": {
        "colab": {
          "base_uri": "https://localhost:8080/",
          "height": 35
        },
        "id": "mPD_1ty-_rn2",
        "outputId": "48cd031c-ce44-4640-b806-41de0baed793"
      },
      "outputs": [
        {
          "output_type": "execute_result",
          "data": {
            "text/plain": [
              "'Hello Python'"
            ],
            "application/vnd.google.colaboratory.intrinsic+json": {
              "type": "string"
            }
          },
          "metadata": {},
          "execution_count": 176
        }
      ],
      "source": [
        "#editing\n",
        "one._PL__name = \"Python\"\n",
        "one.HI()"
      ]
    },
    {
      "cell_type": "code",
      "execution_count": null,
      "metadata": {
        "colab": {
          "base_uri": "https://localhost:8080/"
        },
        "id": "rdR5uL8IIJ4g",
        "outputId": "6bcec46b-3a1b-4157-a9ce-d22d508dcc38"
      },
      "outputs": [
        {
          "name": "stdout",
          "output_type": "stream",
          "text": [
            "1\n",
            "2\n",
            "3\n"
          ]
        }
      ],
      "source": [
        "class Stack:\n",
        "    def __init__(self):\n",
        "        self.__stack_list = []\n",
        "\n",
        "\n",
        "    def push(self, val):\n",
        "        self.__stack_list.append(val)\n",
        "\n",
        "\n",
        "    def pop(self):\n",
        "        val = self.__stack_list[-1]\n",
        "        del self.__stack_list[-1]\n",
        "        return val\n",
        "\n",
        "\n",
        "stack_object = Stack()\n",
        "\n",
        "stack_object.push(3)\n",
        "stack_object.push(2)\n",
        "stack_object.push(1)\n",
        "\n",
        "print(stack_object.pop())\n",
        "print(stack_object.pop())\n",
        "print(stack_object.pop())\n"
      ]
    },
    {
      "cell_type": "code",
      "execution_count": null,
      "metadata": {
        "colab": {
          "base_uri": "https://localhost:8080/"
        },
        "id": "NHPJvOA7JP72",
        "outputId": "c7e16ed8-bbae-40c0-c2ff-10694aeb2d38"
      },
      "outputs": [
        {
          "name": "stdout",
          "output_type": "stream",
          "text": [
            "0\n"
          ]
        }
      ],
      "source": [
        "class Stack:\n",
        "    def __init__(self):\n",
        "        self.__stack_list = []\n",
        "\n",
        "    def push(self, val):\n",
        "        self.__stack_list.append(val)\n",
        "\n",
        "    def pop(self):\n",
        "        val = self.__stack_list[-1]\n",
        "        del self.__stack_list[-1]\n",
        "        return val\n",
        "\n",
        "\n",
        "little_stack = Stack()\n",
        "another_stack = Stack()\n",
        "funny_stack = Stack()\n",
        "\n",
        "little_stack.push(1)\n",
        "another_stack.push(little_stack.pop() + 1)\n",
        "funny_stack.push(another_stack.pop() - 2)\n",
        "\n",
        "print(funny_stack.pop())\n",
        "\n"
      ]
    },
    {
      "cell_type": "code",
      "execution_count": null,
      "metadata": {
        "colab": {
          "base_uri": "https://localhost:8080/"
        },
        "id": "m0V1hcOhSgrw",
        "outputId": "48e2447b-ecbf-497d-c081-586ab37045ec"
      },
      "outputs": [
        {
          "name": "stdout",
          "output_type": "stream",
          "text": [
            "visible\n",
            "failed\n",
            "hidden\n"
          ]
        }
      ],
      "source": [
        "# private methods\n",
        "class Classy:\n",
        "    def visible(self):\n",
        "        print(\"visible\")\n",
        "\n",
        "    def __hidden(self):\n",
        "        print(\"hidden\")\n",
        "\n",
        "\n",
        "obj = Classy()\n",
        "obj.visible()\n",
        "\n",
        "try:\n",
        "    obj.__hidden()\n",
        "except:\n",
        "    print(\"failed\")\n",
        "\n",
        "obj._Classy__hidden()\n",
        "\n"
      ]
    },
    {
      "cell_type": "code",
      "execution_count": null,
      "metadata": {
        "colab": {
          "base_uri": "https://localhost:8080/"
        },
        "id": "7oCFzCZvJgMy",
        "outputId": "101cda50-ac83-4904-fcef-83a06b54a276"
      },
      "outputs": [
        {
          "name": "stdout",
          "output_type": "stream",
          "text": [
            "method\n",
            "other\n"
          ]
        }
      ],
      "source": [
        "# invoke other object/class methods from inside the class.\n",
        "class Classy:\n",
        "    def other(self):\n",
        "        print(\"other\")\n",
        "\n",
        "    def method(self):\n",
        "        print(\"method\")\n",
        "        self.other()\n",
        "\n",
        "obj = Classy()\n",
        "obj.method()"
      ]
    },
    {
      "cell_type": "markdown",
      "metadata": {
        "id": "gXZC4ex1F5QP"
      },
      "source": [
        "### Set and Get Methods\n",
        "Two methods to access attributes or change attribute values. These methods are called **set** and** get** methods or **setter** and **getter** methods."
      ]
    },
    {
      "cell_type": "code",
      "execution_count": null,
      "metadata": {
        "id": "pmNJjkqxFNJj"
      },
      "outputs": [],
      "source": [
        "\"\"\" Following the Python convention, the underscore in front of price is to let a\n",
        " programmer know that price should only be accessed with get and set methods\n",
        " rather than accessing price directly with shirt_one._price \"\"\"\n",
        "class Shirt:\n",
        "\n",
        "    def __init__(self, shirt_color, shirt_size, shirt_style, shirt_price):\n",
        "        self._price = shirt_price\n",
        "\n",
        "    def get_price(self):\n",
        "      return self._price\n",
        "\n",
        "    def set_price(self, new_price):\n",
        "      self._price = new_price"
      ]
    },
    {
      "cell_type": "code",
      "execution_count": null,
      "metadata": {
        "colab": {
          "base_uri": "https://localhost:8080/"
        },
        "id": "xq0TuxBBGqu5",
        "outputId": "0090707d-34fb-4477-8dcf-69f21daefb87"
      },
      "outputs": [
        {
          "data": {
            "text/plain": [
              "35"
            ]
          },
          "execution_count": 20,
          "metadata": {},
          "output_type": "execute_result"
        }
      ],
      "source": [
        "one = Shirt(\"red\", 10 , \"long\", 35)\n",
        "one.get_price()"
      ]
    },
    {
      "cell_type": "code",
      "execution_count": null,
      "metadata": {
        "id": "U5oR94AmG9B-"
      },
      "outputs": [],
      "source": [
        "one.set_price(50)"
      ]
    },
    {
      "cell_type": "code",
      "execution_count": null,
      "metadata": {
        "colab": {
          "base_uri": "https://localhost:8080/"
        },
        "id": "yBqVBfDjHM0z",
        "outputId": "be341cb1-6445-4acc-a7db-f90bbe2ecc68"
      },
      "outputs": [
        {
          "data": {
            "text/plain": [
              "50"
            ]
          },
          "execution_count": 119,
          "metadata": {},
          "output_type": "execute_result"
        }
      ],
      "source": [
        "one._price"
      ]
    },
    {
      "cell_type": "code",
      "execution_count": null,
      "metadata": {
        "id": "YSDwL3H9HULK"
      },
      "outputs": [],
      "source": [
        "two = Shirt(\"green\", 10 , \"short\", 40 )"
      ]
    },
    {
      "cell_type": "code",
      "execution_count": null,
      "metadata": {
        "colab": {
          "base_uri": "https://localhost:8080/"
        },
        "id": "MEEu1iXbTCqI",
        "outputId": "94a709c2-b1d6-42f9-9ff1-edb596954058"
      },
      "outputs": [
        {
          "data": {
            "text/plain": [
              "50"
            ]
          },
          "execution_count": 127,
          "metadata": {},
          "output_type": "execute_result"
        }
      ],
      "source": [
        "list_of_objects = [one, two]\n",
        "list_of_objects[0]._price"
      ]
    },
    {
      "cell_type": "markdown",
      "metadata": {
        "id": "Fky3Q8JwX-1N"
      },
      "source": [
        "**exercise**\n",
        "\n",
        "### Pants class\n",
        "\n",
        "Write a Pants class with the following characteristics:\n",
        "- the class attributes should include\n",
        "        color\n",
        "        waist_size\n",
        "        length\n",
        "        price\n",
        "- the class should have an init function that initializes all of the attributes\n",
        "\n",
        "- the class should have two methods\n",
        "        change_price() a method to change the price attribute\n",
        "        discount() to calculate a discount\n",
        "\n"
      ]
    },
    {
      "cell_type": "markdown",
      "metadata": {
        "id": "c5q5Yg30Y6cv"
      },
      "source": [
        "### SalesPerson class\n",
        "\n",
        "Write a SalesPerson class with the following characteristics:\n",
        "- the class name should be SalesPerson\n",
        "- the class attributes should include\n",
        "        first_name\n",
        "        last_name\n",
        "        employee_id\n",
        "        salary\n",
        "        pants_sold   --> list of pants (objects)\n",
        "        total_sales\n",
        "- the class should have an init function that initializes all of the attributes\n",
        "- the class should have four methods\n",
        "        sell_pants() a method to add sold pants\n",
        "        calculate_sales() a method to calculate the sales\n",
        "        display_sales() a method to print out all the pants sold with nice formatting\n",
        "        calculate_commission() a method to calculate the salesperson commission based on total sales and a percentage\n"
      ]
    },
    {
      "cell_type": "code",
      "execution_count": null,
      "metadata": {
        "id": "gHjED0jKTLSF"
      },
      "outputs": [],
      "source": [
        "class Pants:\n",
        "    def __init__(self,color, waist_size, length, price):\n",
        "        self.color = color\n",
        "        self.waist_size = waist_size\n",
        "        self.length = length\n",
        "        self.price = price\n",
        "\n",
        "    def change_price(self,new_price):\n",
        "        self.price = new_price\n",
        "\n",
        "    def discount(self, percent):\n",
        "        return self.price * (1 - percent)"
      ]
    },
    {
      "cell_type": "code",
      "execution_count": null,
      "metadata": {
        "id": "ExePOKTmY1Sq"
      },
      "outputs": [],
      "source": [
        "class SalesPerson:\n",
        "\n",
        "    def __init__(self, first_name, last_name, employee_id, salary):\n",
        "        self.first_name = first_name\n",
        "        self.last_name = last_name\n",
        "        self.employee_id = employee_id\n",
        "        self.salary = salary\n",
        "        self.pants_sold = []\n",
        "        self.total_sales = 0\n",
        "\n",
        "    def sell_pants(self, pants):\n",
        "        self.pants_sold.append(pants)\n",
        "\n",
        "\n",
        "    def display_sales(self):\n",
        "        for i in range (len(self.pants_sold)):\n",
        "            print(\"color : {}, waist_size : {}, length: {}, price: {}\".format(self.pants_sold[i].color, self.pants_sold[i].waist_size, self.pants_sold[i].length, self.pants_sold[i].price))\n",
        "\n",
        "    def calculate_sales(self):\n",
        "        for i in range(len(self.pants_sold)):\n",
        "            self.total_sales += self.pants_sold[i].price\n",
        "        return self.total_sales\n",
        "\n",
        "\n",
        "    def calculate_commission(self,percentage):\n",
        "        return self.calculate_sales()*percentage\n",
        "\n"
      ]
    },
    {
      "cell_type": "code",
      "execution_count": null,
      "metadata": {
        "id": "nUhD8wq4ZsWk"
      },
      "outputs": [],
      "source": [
        "pants_one = Pants('red', 35, 36, 15.12)\n",
        "\n",
        "pants_two = Pants('blue', 40, 38, 24.12)\n",
        "\n",
        "pants_three = Pants('tan', 28, 30, 8.12)\n"
      ]
    },
    {
      "cell_type": "code",
      "execution_count": null,
      "metadata": {
        "id": "xbhmwzCWaY6q"
      },
      "outputs": [],
      "source": [
        "salesperson_1 = SalesPerson('Amy', 'Gonzalez', 2581923, 40000)\n",
        "salesperson_1.sell_pants(pants_one)\n",
        "salesperson_1.sell_pants(pants_two)"
      ]
    },
    {
      "cell_type": "code",
      "execution_count": null,
      "metadata": {
        "colab": {
          "base_uri": "https://localhost:8080/"
        },
        "id": "oClJRW6FZ2C2",
        "outputId": "40b31a69-7f23-4dae-a8b5-23645855cd1e"
      },
      "outputs": [
        {
          "name": "stdout",
          "output_type": "stream",
          "text": [
            "Amy\n",
            "Gonzalez\n",
            "2581923\n",
            "40000\n",
            "color : red, waist_size : 35, length: 36, price: 15.12\n",
            "color : blue, waist_size : 40, length: 38, price: 24.12\n",
            "None\n",
            "78.48\n",
            "78.48\n"
          ]
        }
      ],
      "source": [
        "\n",
        "print(salesperson_1.first_name)\n",
        "print(salesperson_1.last_name)\n",
        "print(salesperson_1.employee_id)\n",
        "print(salesperson_1.salary)\n",
        "print(salesperson_1.display_sales())\n",
        "#print(salesperson_1.total_sales)\n",
        "print(salesperson_1.calculate_sales())\n",
        "print(salesperson_1.total_sales)"
      ]
    },
    {
      "cell_type": "code",
      "execution_count": null,
      "metadata": {
        "colab": {
          "base_uri": "https://localhost:8080/"
        },
        "id": "3hjp7qSxaE4j",
        "outputId": "244a1f74-10c0-4299-d6e8-db42b9fc53a4"
      },
      "outputs": [
        {
          "data": {
            "text/plain": [
              "14.1264"
            ]
          },
          "execution_count": 154,
          "metadata": {},
          "output_type": "execute_result"
        }
      ],
      "source": [
        "salesperson_1.calculate_commission(0.12)"
      ]
    },
    {
      "cell_type": "markdown",
      "source": [
        "### exercise"
      ],
      "metadata": {
        "id": "3ofnnMgJue6j"
      }
    },
    {
      "cell_type": "markdown",
      "metadata": {
        "id": "A0oj4bHL0k7D"
      },
      "source": [
        "![image.png](data:image/png;base64,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)"
      ]
    },
    {
      "cell_type": "code",
      "execution_count": null,
      "metadata": {
        "colab": {
          "base_uri": "https://localhost:8080/"
        },
        "id": "vBjAlfHlyrdC",
        "outputId": "4b5478fa-3b26-4584-f96e-a6eb29fdcc5d"
      },
      "outputs": [
        {
          "data": {
            "text/plain": [
              "['/content',\n",
              " '/env/python',\n",
              " '/usr/lib/python38.zip',\n",
              " '/usr/lib/python3.8',\n",
              " '/usr/lib/python3.8/lib-dynload',\n",
              " '',\n",
              " '/usr/local/lib/python3.8/dist-packages',\n",
              " '/usr/lib/python3/dist-packages',\n",
              " '/usr/local/lib/python3.8/dist-packages/IPython/extensions',\n",
              " '/root/.ipython',\n",
              " '/content/fun.py']"
            ]
          },
          "execution_count": 21,
          "metadata": {},
          "output_type": "execute_result"
        }
      ],
      "source": [
        "## packages, like modules, may require initialization\n",
        "# __init__.py\n",
        "## packages, like modules, may require initialization\n",
        "# __init__.py\n",
        "from sys import path\n",
        "path"
      ]
    },
    {
      "cell_type": "code",
      "execution_count": null,
      "metadata": {
        "id": "6RvELbSn1LF6"
      },
      "outputs": [],
      "source": [
        "from extra import iota"
      ]
    },
    {
      "cell_type": "code",
      "execution_count": null,
      "metadata": {
        "colab": {
          "base_uri": "https://localhost:8080/",
          "height": 35
        },
        "id": "i6cpDXxT2KGW",
        "outputId": "13260be2-cdcc-4804-8b6f-3e3314fef46f"
      },
      "outputs": [
        {
          "data": {
            "application/vnd.google.colaboratory.intrinsic+json": {
              "type": "string"
            },
            "text/plain": [
              "'Iota'"
            ]
          },
          "execution_count": 34,
          "metadata": {},
          "output_type": "execute_result"
        }
      ],
      "source": [
        "iota.FunI()"
      ]
    },
    {
      "cell_type": "code",
      "execution_count": null,
      "metadata": {
        "id": "eNjIRP142KJ0"
      },
      "outputs": [],
      "source": [
        "import extra.good.best.sigma\n",
        "from extra.good.best.tau import FunT"
      ]
    },
    {
      "cell_type": "code",
      "execution_count": null,
      "metadata": {
        "colab": {
          "base_uri": "https://localhost:8080/",
          "height": 35
        },
        "id": "6_I_YEXN3I1B",
        "outputId": "f1570008-b8ae-45dd-ca6c-036c9fee3e9b"
      },
      "outputs": [
        {
          "data": {
            "application/vnd.google.colaboratory.intrinsic+json": {
              "type": "string"
            },
            "text/plain": [
              "'Tau'"
            ]
          },
          "execution_count": 10,
          "metadata": {},
          "output_type": "execute_result"
        }
      ],
      "source": [
        "FunT()"
      ]
    },
    {
      "cell_type": "code",
      "execution_count": null,
      "metadata": {
        "colab": {
          "base_uri": "https://localhost:8080/",
          "height": 35
        },
        "id": "Ia6t5u_B2Scx",
        "outputId": "b41f1ae9-0455-4eb2-949c-427511915ea3"
      },
      "outputs": [
        {
          "data": {
            "application/vnd.google.colaboratory.intrinsic+json": {
              "type": "string"
            },
            "text/plain": [
              "'Sigma'"
            ]
          },
          "execution_count": 11,
          "metadata": {},
          "output_type": "execute_result"
        }
      ],
      "source": [
        "extra.good.best.sigma.FunS()"
      ]
    },
    {
      "cell_type": "markdown",
      "metadata": {
        "id": "ys0xQ70L3V7y"
      },
      "source": [
        "### iterator protocol\n",
        "Is a way in which an object should behave to conform to the rules imposed by the context of the **for** and **in** statements.\n",
        "\n",
        " An object conforming to the iterator protocol is called an iterator."
      ]
    },
    {
      "cell_type": "markdown",
      "metadata": {
        "id": "_tLb-TkP4s2c"
      },
      "source": [
        "![image.png](data:image/png;base64,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)"
      ]
    },
    {
      "cell_type": "code",
      "execution_count": null,
      "metadata": {
        "colab": {
          "base_uri": "https://localhost:8080/"
        },
        "id": "sqDXS4Jm12yL",
        "outputId": "8d972320-bd3d-42dd-9bad-9baa2af87828"
      },
      "outputs": [
        {
          "output_type": "stream",
          "name": "stdout",
          "text": [
            "__init__\n",
            "__iter__\n",
            "__next__\n",
            "1\n",
            "__next__\n",
            "1\n",
            "__next__\n",
            "2\n",
            "__next__\n",
            "3\n",
            "__next__\n",
            "5\n",
            "__next__\n",
            "8\n",
            "__next__\n",
            "13\n",
            "__next__\n",
            "21\n",
            "__next__\n",
            "34\n",
            "__next__\n",
            "55\n",
            "__next__\n"
          ]
        }
      ],
      "source": [
        "class Fib:\n",
        "    def __init__(self, nn):\n",
        "        print(\"__init__\")\n",
        "        self.__n = nn\n",
        "        self.__i = 0\n",
        "        self.__p1 = self.__p2 = 1\n",
        "\n",
        "    def __iter__(self):\n",
        "        print(\"__iter__\")\n",
        "        return self\n",
        "\n",
        "    def __next__(self):\n",
        "        print(\"__next__\")\n",
        "        self.__i += 1\n",
        "        if self.__i > self.__n:\n",
        "            raise StopIteration\n",
        "        if self.__i in [1, 2]:\n",
        "            return 1\n",
        "        ret = self.__p1 + self.__p2\n",
        "        self.__p1, self.__p2 = self.__p2, ret\n",
        "        return ret\n",
        "\n",
        "\n",
        "for i in Fib(10):\n",
        "    print(i)\n"
      ]
    },
    {
      "cell_type": "code",
      "source": [],
      "metadata": {
        "id": "Mse34U4AEKLA"
      },
      "execution_count": null,
      "outputs": []
    }
  ],
  "metadata": {
    "colab": {
      "provenance": [],
      "collapsed_sections": [
        "Rf_xk9sUWduD",
        "Jc2ig-OoCA1r",
        "Rq_Bu-ZMcWLs",
        "aFaqsie_7rqm"
      ],
      "toc_visible": true
    },
    "gpuClass": "standard",
    "kernelspec": {
      "display_name": "Python 3",
      "name": "python3"
    },
    "language_info": {
      "name": "python"
    }
  },
  "nbformat": 4,
  "nbformat_minor": 0
}